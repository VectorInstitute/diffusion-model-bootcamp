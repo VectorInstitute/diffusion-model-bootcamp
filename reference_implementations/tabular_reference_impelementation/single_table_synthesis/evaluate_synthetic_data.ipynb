{
 "cells": [
  {
   "cell_type": "code",
   "execution_count": 1,
   "id": "6f98238d",
   "metadata": {},
   "outputs": [
    {
     "name": "stdout",
     "output_type": "stream",
     "text": [
      "Mon Jul 29 13:59:30 2024       \n",
      "+-----------------------------------------------------------------------------+\n",
      "| NVIDIA-SMI 525.105.17   Driver Version: 525.105.17   CUDA Version: 12.0     |\n",
      "|-------------------------------+----------------------+----------------------+\n",
      "| GPU  Name        Persistence-M| Bus-Id        Disp.A | Volatile Uncorr. ECC |\n",
      "| Fan  Temp  Perf  Pwr:Usage/Cap|         Memory-Usage | GPU-Util  Compute M. |\n",
      "|                               |                      |               MIG M. |\n",
      "|===============================+======================+======================|\n",
      "|   0  Tesla T4            On   | 00000000:87:00.0 Off |                    0 |\n",
      "| N/A   45C    P0    28W /  70W |   1761MiB / 15360MiB |      0%      Default |\n",
      "|                               |                      |                  N/A |\n",
      "+-------------------------------+----------------------+----------------------+\n",
      "                                                                               \n",
      "+-----------------------------------------------------------------------------+\n",
      "| Processes:                                                                  |\n",
      "|  GPU   GI   CI        PID   Type   Process name                  GPU Memory |\n",
      "|        ID   ID                                                   Usage      |\n",
      "|=============================================================================|\n",
      "|    0   N/A  N/A     17924      C   ...z7DAirMd-py3.9/bin/python     1758MiB |\n",
      "+-----------------------------------------------------------------------------+\n"
     ]
    }
   ],
   "source": [
    "!nvidia-smi"
   ]
  },
  {
   "cell_type": "code",
   "execution_count": 2,
   "id": "searching-cable",
   "metadata": {},
   "outputs": [],
   "source": [
    "dataname = \"default\"\n",
    "\n",
    "DATA_DIR = \"/projects/aieng/diffusion_bootcamp/data/tabular_copy\"\n",
    "\n",
    "TRAIN_DATA_PATH = f\"{DATA_DIR}/processed_data/{dataname}/train.csv\"\n",
    "TEST_DATA_PATH = f\"{DATA_DIR}/processed_data/{dataname}/test.csv\"\n",
    "TABDDPM_DATA_PATH = f\"{DATA_DIR}/synthetic_data/{dataname}/tabddpm.csv\"\n",
    "TABSYN_DATA_PATH = f\"{DATA_DIR}/synthetic_data/{dataname}/tabsyn.csv\"\n",
    "INFO_PATH = f\"{DATA_DIR}/processed_data/{dataname}/info.json\""
   ]
  },
  {
   "cell_type": "markdown",
   "id": "lesser-virus",
   "metadata": {},
   "source": [
    "# Density Estimation of Single Column and Pair-wise Correlation\n",
    "\n",
    "Two metrics are computed in this section: column shapes and column pair trends.\n",
    "We explain each in the following subsections."
   ]
  },
  {
   "cell_type": "markdown",
   "id": "3a383a5c",
   "metadata": {},
   "source": [
    "## Single Column Similarity Score"
   ]
  },
  {
   "cell_type": "markdown",
   "id": "fc81863e",
   "metadata": {},
   "source": [
    "Essentially, each column in a table represents a single feature which accepts various values from a certain type; e.g. numerical, categorical, datetime or boolean. This feature can be described as a random variable where the values listed under the column are its samples. As a result, the density distribution of each column can be computed and compared between the real data and the synthetic data.\n",
    "\n",
    "<p align=\"center\">\n",
    "<img src=\"figures/tabsyn_column_shapes_2.png\" width=\"1000\"/>\n",
    "</p>\n",
    "\n",
    "The better the distributions match each other, the better the quality of synthetic data.\n",
    "\n",
    "The similarity of the two distriutions can be measured via different metrics for different data types; for example, **KSComplement (Kolmogorov-Smirnov Complement)** is used for numerical features and **TVComplement (Total Variation Distance Complement)** for categorical features. The overall Column Shape Score for the whole table is the average of column shape similarity scores of all columns."
   ]
  },
  {
   "cell_type": "markdown",
   "id": "d521918f",
   "metadata": {},
   "source": [
    "**KST (Kolmogorov-Smirnov Test)**\n",
    "computes the cumulative distribution function (CDF) of a numerical random variable for real and synthetic data. Then, finds the maximum different between the two CDFs $M$. Finally, the *KSComplement* score is defined as $1 - M$ so that the higher the score, the more similar the distributions.\n",
    "\n",
    "<p align=\"center\">\n",
    "<img src=\"figures/tabsyn_kst.png\" width=\"1000\"/>\n",
    "</p>\n",
    "\n",
    "**TVD (Total Variation Distance)**\n",
    "computes the frequency of each category's appearance under a certain column and defines it as the said categorie's probability. Then, it computes the sum of differences of probabilities between real and synthetic data as \n",
    "$\\delta(R, S) = \\frac{1}{2} \\sum_{\\omega \\in \\Omega}  | R_\\omega - S_\\omega |$\n",
    ".\n",
    "\n",
    "Here, $\\omega$ describes all the possible categories in a column, $\\Omega$. Meanwhile, $R$ and $S$ refer to the real and synthetic frequencies for those categories. The *TVComplement* returns $1-TVD$ so that a higher score means higher quality.\n",
    "\n",
    "<p align=\"center\">\n",
    "<img src=\"figures/tabsyn_tvd.png\" width=\"1000\"/>\n",
    "</p>"
   ]
  },
  {
   "cell_type": "markdown",
   "id": "6cb4e44d",
   "metadata": {},
   "source": [
    "## Pair-wise Correlation Score"
   ]
  },
  {
   "cell_type": "markdown",
   "id": "f3abc8c0",
   "metadata": {},
   "source": [
    "The correlation between two random variables describes how they vary in relation to each other. The higher the score, the more the trends are alike.\n",
    "\n",
    "<p align=\"center\">\n",
    "<img src=\"figures/tabsyn_column_pair_trends.png\" width=\"900\"/>\n",
    "</p>\n",
    "\n",
    "Here, we use different metrics to compute the correlation between different pairs of data types:\n",
    "\n",
    "| Column Type | Metric |\n",
    "| ----------- | ------ |\n",
    "| numerical & numerical | [correlation similarity](https://docs.sdv.dev/sdmetrics/metrics/metrics-glossary/correlationsimilarity) |\n",
    "| categorical & categorical | [contingency similarity](https://docs.sdv.dev/sdmetrics/metrics/metrics-glossary/contingencysimilarity) |\n",
    "| numerical & categorical | discretize the numerical columns into bins, then apply contingency similarity. |\n",
    "\n",
    "This yields a score between every pair of columns. The **Column Pair Trends** score is the average of all the scores."
   ]
  },
  {
   "cell_type": "code",
   "execution_count": 3,
   "id": "sexual-vehicle",
   "metadata": {},
   "outputs": [
    {
     "name": "stdout",
     "output_type": "stream",
     "text": [
      "Generating report ...\n",
      "(1/2) Evaluating Column Shapes: : 100%|██████████| 24/24 [00:00<00:00, 94.20it/s] \n",
      "(2/2) Evaluating Column Pair Trends: : 100%|██████████| 276/276 [00:14<00:00, 18.53it/s]\n",
      "\n",
      "Overall Score: 79.51%\n",
      "\n",
      "Properties:\n",
      "- Column Shapes: 80.63%\n",
      "- Column Pair Trends: 78.38%\n",
      "Shape: 0.8063086419753086\n",
      "Trend: 0.7838129594636237\n"
     ]
    }
   ],
   "source": [
    "from scripts.eval.eval_density import eval_density\n",
    "\n",
    "shape, trend = eval_density(TABSYN_DATA_PATH, TRAIN_DATA_PATH, INFO_PATH)\n",
    "print(\"Shape:\", shape)\n",
    "print(\"Trend:\", trend)"
   ]
  },
  {
   "cell_type": "markdown",
   "id": "tight-genome",
   "metadata": {},
   "source": [
    "# $\\alpha$-Precision and $\\beta$-Recall "
   ]
  },
  {
   "cell_type": "markdown",
   "id": "96c9f731",
   "metadata": {},
   "source": [
    "$\\alpha$-Preicison and $\\beta$-Recall are generalizations of Precision and Recall metrics proposed by [Sajjadi et al.](https://proceedings.neurips.cc/paper/2018/hash/f7696a9b362ac5a51c3dc8f098b73923-Abstract.html) in 2018. These metrics can range between $[0, 1]$ and the closest they are to $1$ the better.\n",
    "\n",
    "\n",
    "Preicison measures the fidelity or quality of sythetic data. In more clear terms, it computes the proporation of synthetic datapoints that are *close* to real datapoints. \n",
    "Recall, on the other hand, measures the diversity of synthetic data; i.e. the extent to which these samples cover the full variability of real samples. More clearly, recall computes the proportion of real datapoints that are *close* to synthetic datapoints.\n",
    "\n",
    "\n",
    "If we denote the distibution of real datapoints by $P(X)$ and the distribution of sythetic datapoints by $Q(Y)$, precision is the portion of $Q(Y)$ that can be generated by $P(X)$, while recall is the portion of $P(X)$ that can be generated by $Q(Y)$.\n",
    "\n",
    "To better understand these concepts, let's assume that the real/generated dataponits are samples from an underlying real/generated manifold.\n",
    "Precision measures the proportation of generated datapoints that fall on the real manifold, while recall measures the proportion of real datapoints that fall on the generated manifold.\n",
    "\n",
    "<p align=\"center\">\n",
    "<img src=\"figures/tabsyn_precision.png\" width=\"300\"/>\n",
    "</p>\n",
    "\n",
    "<p align=\"center\">\n",
    "<img src=\"figures/tabsyn_recall.png\" width=\"300\"/>\n",
    "</p>\n",
    "\n",
    "The Precision-Recall metrics are very sensitive to outliers since even a few outliers can greatly change the shape of the underlying manifold.\n",
    "To address this limitation, $\\pmb{\\alpha}$**-Precision** and $\\pmb{\\beta}$**-Recall** are defined by assuming that a fraction $1−\\alpha$ (or $1−\\beta$) of the real (and synthetic) data are “outliers”, and $\\alpha$ (or $\\beta$) are “typical”. \n",
    "$\\alpha$-Precision is the fraction of synthetic samples that resemble the “most typical” fraction $\\alpha$ of real samples, whereas $\\beta$-Recall is the fraction of real samples covered by the most typical fraction $\\beta$ of synthetic samples.\n",
    "The two metrics are evaluated for all $\\alpha, \\beta \\in [0, 1]$, providing entire precision and recall curves instead of single numbers.\n",
    "\n",
    "\n",
    "To illustrate, consider the below image. Blue and red points are real and generated datapoints, respectively. The large blue and red spheres show the underlying manifold that was estimated from real and generated datapoints.\n",
    "Good quality generated datapoints should fall within the blue sphere like image *(c)*. They should not lie far from the blue sphere like *(a)*. Moreover, they should not be placed too close (or *copied*) to a real datapoint like *(b)*.\n",
    "Image *(d)* shows an outlier in the real datapoints which is cut outside of the manifold due to the application on $\\alpha$ and $\\beta$.\n",
    "If we used vanilla Precision and Recall, the blue sphere's radius should have increased to include the outlier which would also lead it to include noisy synthetic datapoints like *(a)*.\n",
    "\n",
    "<p align=\"center\">\n",
    "<img src=\"figures/tabsyn_alpha_precision_beta_recall.png\" width=\"500\"/>\n",
    "</p>\n"
   ]
  },
  {
   "cell_type": "code",
   "execution_count": 4,
   "id": "faced-accuracy",
   "metadata": {},
   "outputs": [
    {
     "name": "stdout",
     "output_type": "stream",
     "text": [
      "/projects/aieng/diffusion_bootcamp/data/tabular_copy/synthetic_data/default/tabsyn.csv\n",
      "=========== All Features ===========\n",
      "Data shape:  (27000, 93)\n",
      "Alpha precision: 0.6367925925925926\n",
      "Beta recall: 0.03071851851851859\n"
     ]
    }
   ],
   "source": [
    "from scripts.eval.eval_quality import eval_quality\n",
    "\n",
    "alpha_precision_all, beta_recall_all = eval_quality(\n",
    "    TABSYN_DATA_PATH, TRAIN_DATA_PATH, INFO_PATH\n",
    ")\n",
    "print(\"Alpha precision:\", alpha_precision_all)\n",
    "print(\"Beta recall:\", beta_recall_all)"
   ]
  },
  {
   "cell_type": "markdown",
   "id": "august-duncan",
   "metadata": {},
   "source": [
    "# Machine Learning Efficiency"
   ]
  },
  {
   "cell_type": "markdown",
   "id": "f92c0e04",
   "metadata": {},
   "source": [
    "This method trains a machine learning model (in our case, an XGBoost model) on the synthetic data and evaluates it on the real data."
   ]
  },
  {
   "cell_type": "code",
   "execution_count": 5,
   "id": "classified-editing",
   "metadata": {},
   "outputs": [
    {
     "name": "stderr",
     "output_type": "stream",
     "text": [
      "100%|██████████| 36/36 [00:19<00:00,  1.87it/s]\n"
     ]
    },
    {
     "name": "stdout",
     "output_type": "stream",
     "text": [
      "TABSYN - Overall score:\n",
      "{'best_acc_scores': {'XGBClassifier': {'accuracy': 0.806,\n",
      "                                       'binary_f1': 0.4168336673346693,\n",
      "                                       'roc_auc': 0.7652395882810841,\n",
      "                                       'weighted_f1': 0.5262234841534328}},\n",
      " 'best_auroc_scores': {'XGBClassifier': {'accuracy': 0.806,\n",
      "                                         'binary_f1': 0.4073319755600815,\n",
      "                                         'roc_auc': 0.7557163744410267,\n",
      "                                         'weighted_f1': 0.5190352920930679}},\n",
      " 'best_avg_scores': {'XGBClassifier': {'accuracy': 0.806,\n",
      "                                       'binary_f1': 0.4168336673346693,\n",
      "                                       'roc_auc': 0.7652395882810841,\n",
      "                                       'weighted_f1': 0.5262234841534328}},\n",
      " 'best_f1_scores': {'XGBClassifier': {'accuracy': 0.806,\n",
      "                                      'binary_f1': 0.4168336673346693,\n",
      "                                      'roc_auc': 0.7652395882810841,\n",
      "                                      'weighted_f1': 0.5262234841534328}},\n",
      " 'best_weighted_scores': {'XGBClassifier': {'accuracy': 0.806,\n",
      "                                            'binary_f1': 0.4168336673346693,\n",
      "                                            'roc_auc': 0.7652395882810841,\n",
      "                                            'weighted_f1': 0.5262234841534328}}}\n"
     ]
    }
   ],
   "source": [
    "from scripts.eval.eval_mle import eval_mle\n",
    "from pprint import pprint\n",
    "\n",
    "## does a grid search over given params and reports all scores for each best of them\n",
    "# tabular dataload and tabular transformer look extra\n",
    "overall_score = eval_mle(TABSYN_DATA_PATH, TEST_DATA_PATH, INFO_PATH)\n",
    "print(\"TABSYN - Overall score:\")\n",
    "pprint(overall_score)"
   ]
  },
  {
   "cell_type": "code",
   "execution_count": 6,
   "id": "3294ae90",
   "metadata": {},
   "outputs": [
    {
     "name": "stderr",
     "output_type": "stream",
     "text": [
      "100%|██████████| 36/36 [00:17<00:00,  2.02it/s]\n"
     ]
    },
    {
     "name": "stdout",
     "output_type": "stream",
     "text": [
      "TABDDPM - Overall score:\n",
      "{'best_acc_scores': {'XGBClassifier': {'accuracy': 0.766,\n",
      "                                       'binary_f1': 0.019553072625698324,\n",
      "                                       'roc_auc': 0.6681095262482885,\n",
      "                                       'weighted_f1': 0.2181723723774523}},\n",
      " 'best_auroc_scores': {'XGBClassifier': {'accuracy': 0.7653333333333333,\n",
      "                                         'binary_f1': 0.04607046070460705,\n",
      "                                         'roc_auc': 0.6087032315637132,\n",
      "                                         'weighted_f1': 0.23825662545489001}},\n",
      " 'best_avg_scores': {'XGBClassifier': {'accuracy': 0.7653333333333333,\n",
      "                                       'binary_f1': 0.1308641975308642,\n",
      "                                       'roc_auc': 0.6537589074994845,\n",
      "                                       'weighted_f1': 0.3027454316230167}},\n",
      " 'best_f1_scores': {'XGBClassifier': {'accuracy': 0.7646666666666667,\n",
      "                                      'binary_f1': 0.13480392156862744,\n",
      "                                      'roc_auc': 0.6634143365921659,\n",
      "                                      'weighted_f1': 0.3056347509682885}},\n",
      " 'best_weighted_scores': {'XGBClassifier': {'accuracy': 0.7646666666666667,\n",
      "                                            'binary_f1': 0.13480392156862744,\n",
      "                                            'roc_auc': 0.6634143365921659,\n",
      "                                            'weighted_f1': 0.3056347509682885}}}\n"
     ]
    }
   ],
   "source": [
    "overall_score = eval_mle(TABDDPM_DATA_PATH, TEST_DATA_PATH, INFO_PATH)\n",
    "print(\"TABDDPM - Overall score:\")\n",
    "pprint(overall_score)"
   ]
  },
  {
   "cell_type": "markdown",
   "id": "803cae50",
   "metadata": {},
   "source": [
    "As baseline, we also evaluate a similar ML model (i.e. XGBoost) on the real training data."
   ]
  },
  {
   "cell_type": "code",
   "execution_count": 7,
   "id": "5cfce5cc",
   "metadata": {},
   "outputs": [
    {
     "name": "stderr",
     "output_type": "stream",
     "text": [
      "100%|██████████| 36/36 [00:17<00:00,  2.04it/s]\n"
     ]
    },
    {
     "name": "stdout",
     "output_type": "stream",
     "text": [
      "BASELINE - Overall score:\n",
      "{'best_acc_scores': {'XGBClassifier': {'accuracy': 0.8113333333333334,\n",
      "                                       'binary_f1': 0.4640151515151515,\n",
      "                                       'roc_auc': 0.7916513654088981,\n",
      "                                       'weighted_f1': 0.5627872719917622}},\n",
      " 'best_auroc_scores': {'XGBClassifier': {'accuracy': 0.8123333333333334,\n",
      "                                         'binary_f1': 0.45813282001924927,\n",
      "                                         'roc_auc': 0.7845718114604304,\n",
      "                                         'weighted_f1': 0.5585170009746215}},\n",
      " 'best_avg_scores': {'XGBClassifier': {'accuracy': 0.8126666666666666,\n",
      "                                       'binary_f1': 0.4637404580152672,\n",
      "                                       'roc_auc': 0.7879677617722665,\n",
      "                                       'weighted_f1': 0.5628095713763067}},\n",
      " 'best_f1_scores': {'XGBClassifier': {'accuracy': 0.8126666666666666,\n",
      "                                      'binary_f1': 0.4637404580152672,\n",
      "                                      'roc_auc': 0.7879677617722665,\n",
      "                                      'weighted_f1': 0.5628095713763067}},\n",
      " 'best_weighted_scores': {'XGBClassifier': {'accuracy': 0.8126666666666666,\n",
      "                                            'binary_f1': 0.4637404580152672,\n",
      "                                            'roc_auc': 0.7879677617722665,\n",
      "                                            'weighted_f1': 0.5628095713763067}}}\n"
     ]
    }
   ],
   "source": [
    "overall_score = eval_mle(TRAIN_DATA_PATH, TEST_DATA_PATH, INFO_PATH)\n",
    "print(\"BASELINE - Overall score:\")\n",
    "pprint(overall_score)"
   ]
  },
  {
   "cell_type": "markdown",
   "id": "8fcd38e9",
   "metadata": {},
   "source": [
    "# Privacy Protection: Distance to Closest Record (DCR)"
   ]
  },
  {
   "cell_type": "markdown",
   "id": "a476c5c1",
   "metadata": {},
   "source": [
    "One of the applications of synthetically generated data is protecting sensitive information while creating similar substitute data that could be used to train machine learning models or published on public platforms.\n",
    "For this purpose, we must ensure that the synthetic datapoints are far enough from any real datapoints to prevent leaking of real sensitive information.\n",
    "\n",
    "One metric that is used for this purpose is **Distance to Closest Record (DCR)**.\n",
    "DCR is the Euclidean distance between a synthetic datapoint and its nearest real datapoint.\n",
    "DCR equal to zero means that the synthetic datapoint will leak the real information, while higher DCR values mean less risk of privacy leakage.\n",
    "\n",
    "`eval_dcr` computes the DCR of each synthetic datapoint to real datapoints in two different sets: training and test. Then, it returns the proportion of synthetic datapoints that are closer to the training dataset than the test dataset.\n",
    "If the size of the training and test datasets are equal, this score should ideally be $0.5$ indicating that the model has not overfit to training data and the synthetic datapoints are not memorized copies of training data.\n",
    "If the size of the training and test datasets are different, the ideal value for this score is #Train / (#Train + #Test)."
   ]
  },
  {
   "cell_type": "code",
   "execution_count": 8,
   "id": "f3b0b92f",
   "metadata": {},
   "outputs": [
    {
     "name": "stdout",
     "output_type": "stream",
     "text": [
      "{'cat_col_idx': [1, 2, 3, 5, 6, 7, 8, 9, 10],\n",
      " 'column_info': {'0': {},\n",
      "                 '1': {},\n",
      "                 '10': {},\n",
      "                 '11': {},\n",
      "                 '12': {},\n",
      "                 '13': {},\n",
      "                 '14': {},\n",
      "                 '15': {},\n",
      "                 '16': {},\n",
      "                 '17': {},\n",
      "                 '18': {},\n",
      "                 '19': {},\n",
      "                 '2': {},\n",
      "                 '20': {},\n",
      "                 '21': {},\n",
      "                 '22': {},\n",
      "                 '23': {},\n",
      "                 '3': {},\n",
      "                 '4': {},\n",
      "                 '5': {},\n",
      "                 '6': {},\n",
      "                 '7': {},\n",
      "                 '8': {},\n",
      "                 '9': {},\n",
      "                 'categorizes': [0, 1],\n",
      "                 'max': 528666.0,\n",
      "                 'min': 0.0,\n",
      "                 'type': 'categorical'},\n",
      " 'column_names': ['LIMIT_BAL',\n",
      "                  'SEX',\n",
      "                  'EDUCATION',\n",
      "                  'MARRIAGE',\n",
      "                  'AGE',\n",
      "                  'PAY_0',\n",
      "                  'PAY_2',\n",
      "                  'PAY_3',\n",
      "                  'PAY_4',\n",
      "                  'PAY_5',\n",
      "                  'PAY_6',\n",
      "                  'BILL_AMT1',\n",
      "                  'BILL_AMT2',\n",
      "                  'BILL_AMT3',\n",
      "                  'BILL_AMT4',\n",
      "                  'BILL_AMT5',\n",
      "                  'BILL_AMT6',\n",
      "                  'PAY_AMT1',\n",
      "                  'PAY_AMT2',\n",
      "                  'PAY_AMT3',\n",
      "                  'PAY_AMT4',\n",
      "                  'PAY_AMT5',\n",
      "                  'PAY_AMT6',\n",
      "                  'default payment next month'],\n",
      " 'data_path': '/projects/aieng/diffusion_bootcamp/data/tabular/raw_data/default/default '\n",
      "              'of credit card clients.xls',\n",
      " 'file_type': 'xls',\n",
      " 'header': 'infer',\n",
      " 'idx_mapping': {'0': 0,\n",
      "                 '1': 14,\n",
      "                 '10': 22,\n",
      "                 '11': 2,\n",
      "                 '12': 3,\n",
      "                 '13': 4,\n",
      "                 '14': 5,\n",
      "                 '15': 6,\n",
      "                 '16': 7,\n",
      "                 '17': 8,\n",
      "                 '18': 9,\n",
      "                 '19': 10,\n",
      "                 '2': 15,\n",
      "                 '20': 11,\n",
      "                 '21': 12,\n",
      "                 '22': 13,\n",
      "                 '23': 23,\n",
      "                 '3': 16,\n",
      "                 '4': 1,\n",
      "                 '5': 17,\n",
      "                 '6': 18,\n",
      "                 '7': 19,\n",
      "                 '8': 20,\n",
      "                 '9': 21},\n",
      " 'idx_name_mapping': {'0': 'LIMIT_BAL',\n",
      "                      '1': 'SEX',\n",
      "                      '10': 'PAY_6',\n",
      "                      '11': 'BILL_AMT1',\n",
      "                      '12': 'BILL_AMT2',\n",
      "                      '13': 'BILL_AMT3',\n",
      "                      '14': 'BILL_AMT4',\n",
      "                      '15': 'BILL_AMT5',\n",
      "                      '16': 'BILL_AMT6',\n",
      "                      '17': 'PAY_AMT1',\n",
      "                      '18': 'PAY_AMT2',\n",
      "                      '19': 'PAY_AMT3',\n",
      "                      '2': 'EDUCATION',\n",
      "                      '20': 'PAY_AMT4',\n",
      "                      '21': 'PAY_AMT5',\n",
      "                      '22': 'PAY_AMT6',\n",
      "                      '23': 'default payment next month',\n",
      "                      '3': 'MARRIAGE',\n",
      "                      '4': 'AGE',\n",
      "                      '5': 'PAY_0',\n",
      "                      '6': 'PAY_2',\n",
      "                      '7': 'PAY_3',\n",
      "                      '8': 'PAY_4',\n",
      "                      '9': 'PAY_5'},\n",
      " 'inverse_idx_mapping': {'0': 0,\n",
      "                         '1': 4,\n",
      "                         '10': 19,\n",
      "                         '11': 20,\n",
      "                         '12': 21,\n",
      "                         '13': 22,\n",
      "                         '14': 1,\n",
      "                         '15': 2,\n",
      "                         '16': 3,\n",
      "                         '17': 5,\n",
      "                         '18': 6,\n",
      "                         '19': 7,\n",
      "                         '2': 11,\n",
      "                         '20': 8,\n",
      "                         '21': 9,\n",
      "                         '22': 10,\n",
      "                         '23': 23,\n",
      "                         '3': 12,\n",
      "                         '4': 13,\n",
      "                         '5': 14,\n",
      "                         '6': 15,\n",
      "                         '7': 16,\n",
      "                         '8': 17,\n",
      "                         '9': 18},\n",
      " 'metadata': {'columns': {'0': {'computer_representation': 'Float',\n",
      "                                'sdtype': 'numerical'},\n",
      "                          '1': {'sdtype': 'categorical'},\n",
      "                          '10': {'sdtype': 'categorical'},\n",
      "                          '11': {'computer_representation': 'Float',\n",
      "                                 'sdtype': 'numerical'},\n",
      "                          '12': {'computer_representation': 'Float',\n",
      "                                 'sdtype': 'numerical'},\n",
      "                          '13': {'computer_representation': 'Float',\n",
      "                                 'sdtype': 'numerical'},\n",
      "                          '14': {'computer_representation': 'Float',\n",
      "                                 'sdtype': 'numerical'},\n",
      "                          '15': {'computer_representation': 'Float',\n",
      "                                 'sdtype': 'numerical'},\n",
      "                          '16': {'computer_representation': 'Float',\n",
      "                                 'sdtype': 'numerical'},\n",
      "                          '17': {'computer_representation': 'Float',\n",
      "                                 'sdtype': 'numerical'},\n",
      "                          '18': {'computer_representation': 'Float',\n",
      "                                 'sdtype': 'numerical'},\n",
      "                          '19': {'computer_representation': 'Float',\n",
      "                                 'sdtype': 'numerical'},\n",
      "                          '2': {'sdtype': 'categorical'},\n",
      "                          '20': {'computer_representation': 'Float',\n",
      "                                 'sdtype': 'numerical'},\n",
      "                          '21': {'computer_representation': 'Float',\n",
      "                                 'sdtype': 'numerical'},\n",
      "                          '22': {'computer_representation': 'Float',\n",
      "                                 'sdtype': 'numerical'},\n",
      "                          '23': {'sdtype': 'categorical'},\n",
      "                          '3': {'sdtype': 'categorical'},\n",
      "                          '4': {'computer_representation': 'Float',\n",
      "                                'sdtype': 'numerical'},\n",
      "                          '5': {'sdtype': 'categorical'},\n",
      "                          '6': {'sdtype': 'categorical'},\n",
      "                          '7': {'sdtype': 'categorical'},\n",
      "                          '8': {'sdtype': 'categorical'},\n",
      "                          '9': {'sdtype': 'categorical'}}},\n",
      " 'name': 'default',\n",
      " 'num_col_idx': [0, 4, 11, 12, 13, 14, 15, 16, 17, 18, 19, 20, 21, 22],\n",
      " 'target_col_idx': [23],\n",
      " 'task_type': 'binclass',\n",
      " 'test_num': 3000,\n",
      " 'test_path': None,\n",
      " 'train_num': 27000}\n"
     ]
    }
   ],
   "source": [
    "import json\n",
    "from pprint import pprint\n",
    "\n",
    "# review json file and its contents\n",
    "with open(INFO_PATH, \"r\") as file:\n",
    "    data_info = json.load(file)\n",
    "pprint(data_info)"
   ]
  },
  {
   "cell_type": "code",
   "execution_count": 9,
   "id": "990d31ac",
   "metadata": {},
   "outputs": [
    {
     "name": "stdout",
     "output_type": "stream",
     "text": [
      "DCR Score, a value closer to 0.9 is better\n",
      "Distance to Closest Record: 0.9109259259259259\n"
     ]
    }
   ],
   "source": [
    "from scripts.eval.eval_dcr import eval_dcr\n",
    "\n",
    "ideal_dcr = data_info[\"train_num\"] / (data_info[\"train_num\"] + data_info[\"test_num\"])\n",
    "\n",
    "dcr_score = eval_dcr(TABSYN_DATA_PATH, TRAIN_DATA_PATH, TEST_DATA_PATH, INFO_PATH)\n",
    "print(f\"DCR Score, a value closer to {ideal_dcr} is better\")\n",
    "print(\"Distance to Closest Record:\", dcr_score)"
   ]
  },
  {
   "cell_type": "markdown",
   "id": "8abf7d99",
   "metadata": {},
   "source": [
    "# Detection: Classifier Two Sample Tests (C2ST)"
   ]
  },
  {
   "cell_type": "markdown",
   "id": "6cff5955",
   "metadata": {},
   "source": [
    "This metric evaluates if the synthetic data can be detected from the real data via a machine learning model, hence measuring how difficult it is to distinguish synthetic from real data. A logistic regression model is used in `eval_detection`.\n",
    "\n",
    "This score is measured through below steps:\n",
    "1. Create a single, augmented table that has all the rows of real data and all the rows of synthetic data. Add an extra column to keep track of whether each original row is real or synthetic.\n",
    "2. Split the augmented data to create a training and validation sets.\n",
    "3. Choose a machine learning model. Train the model on the training split. The model will predict whether each row is real or synthetic (i.e. predict the extra column we created in step #1).\n",
    "4. Validate the model on the validation set.\n",
    "5. Repeat steps #2-4 multiple times.\n",
    "The final score is based on the average ROC-AUC score across all the cross validation splits,\n",
    "\n",
    "$score = 1 - (max($ <span style=\"text-decoration:overline\">ROC-AUC</span> $, 0.5) \\times 2 - 1)$\n",
    ".\n",
    "\n",
    "This score can range between $[0, 1]$ with $0$ being the lowest (meaning that the machine learning model can perfectly identify synthetic data apart from the real data), and $1$ being the highest (meaning that the machine learning model cannot identify the synthetic data apart from the real data).\n",
    "\n"
   ]
  },
  {
   "cell_type": "code",
   "execution_count": 12,
   "id": "compressed-executive",
   "metadata": {},
   "outputs": [
    {
     "name": "stdout",
     "output_type": "stream",
     "text": [
      "TABSYN - Detection score: 0.04262002469135806\n"
     ]
    }
   ],
   "source": [
    "from scripts.eval.eval_detection import eval_detection\n",
    "\n",
    "detection_score = eval_detection(TABSYN_DATA_PATH, TRAIN_DATA_PATH, INFO_PATH, dataname, model=\"tabsyn\")\n",
    "print(\"TABSYN - Detection score:\", detection_score)"
   ]
  },
  {
   "cell_type": "code",
   "execution_count": 13,
   "id": "3d7e5725",
   "metadata": {},
   "outputs": [
    {
     "name": "stdout",
     "output_type": "stream",
     "text": [
      "TABDDPM - Detection score: 0.00011723456790113662\n"
     ]
    }
   ],
   "source": [
    "detection_score = eval_detection(TABDDPM_DATA_PATH, TRAIN_DATA_PATH, INFO_PATH, dataname, model=\"tabsyn\")\n",
    "print(\"TABDDPM - Detection score:\", detection_score)"
   ]
  },
  {
   "cell_type": "code",
   "execution_count": 14,
   "id": "9b09421b",
   "metadata": {},
   "outputs": [
    {
     "name": "stdout",
     "output_type": "stream",
     "text": [
      "BASELINE - Detection score: 1.0\n"
     ]
    }
   ],
   "source": [
    "detection_score = eval_detection(TRAIN_DATA_PATH, TRAIN_DATA_PATH, INFO_PATH, dataname, model=\"tabsyn\")\n",
    "print(\"BASELINE - Detection score:\", detection_score)"
   ]
  }
 ],
 "metadata": {
  "kernelspec": {
   "display_name": "diffusion_boot_shared",
   "language": "python",
   "name": "diffusion_boot_shared"
  },
  "language_info": {
   "codemirror_mode": {
    "name": "ipython",
    "version": 3
   },
   "file_extension": ".py",
   "mimetype": "text/x-python",
   "name": "python",
   "nbconvert_exporter": "python",
   "pygments_lexer": "ipython3",
   "version": "3.9.12"
  }
 },
 "nbformat": 4,
 "nbformat_minor": 5
}
