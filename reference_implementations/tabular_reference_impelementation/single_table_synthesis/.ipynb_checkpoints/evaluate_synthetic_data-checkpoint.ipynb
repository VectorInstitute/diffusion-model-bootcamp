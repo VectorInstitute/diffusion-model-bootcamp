{
 "cells": [
  {
   "cell_type": "code",
   "execution_count": null,
   "id": "healthy-vermont",
   "metadata": {},
   "outputs": [],
   "source": []
  },
  {
   "cell_type": "code",
   "execution_count": 1,
   "id": "searching-cable",
   "metadata": {},
   "outputs": [],
   "source": [
    "import pandas as pd\n",
    "import os\n",
    "\n",
    "import json\n",
    "\n",
    "dataname = \"adult\"\n",
    "\n",
    "DATA_DIR = \"/projects/aieng/diffusion_bootcamp/data/tabular\"\n",
    "\n",
    "TRAIN_DATA_PATH = f\"{DATA_DIR}/processed_data/{dataname}/train.csv\"\n",
    "TABDDPM_DATA_PATH = f\"{DATA_DIR}/synthetic_data/{dataname}/tabddpm.csv\"\n",
    "TABSYN_DATA_PATH = f\"{DATA_DIR}/synthetic_data/{dataname}/tabsyn.csv\"\n",
    "INFO_PATH = f\"{DATA_DIR}/processed_data/{dataname}/info.json\""
   ]
  },
  {
   "cell_type": "markdown",
   "id": "lesser-virus",
   "metadata": {},
   "source": [
    "# Density estimation of single column and pair-wise correlation"
   ]
  },
  {
   "cell_type": "code",
   "execution_count": 2,
   "id": "sexual-vehicle",
   "metadata": {},
   "outputs": [
    {
     "name": "stdout",
     "output_type": "stream",
     "text": [
      "Generating report ...\n",
      "(1/2) Evaluating Column Shapes: : 100%|██████████| 15/15 [00:00<00:00, 35.12it/s]\n",
      "(2/2) Evaluating Column Pair Trends: : 100%|██████████| 105/105 [00:10<00:00,  9.83it/s]\n",
      "\n",
      "Overall Score: 97.7%\n",
      "\n",
      "Properties:\n",
      "- Column Shapes: 98.74%\n",
      "- Column Pair Trends: 96.66%\n",
      "Shape: 0.9873591105924265\n",
      "Trend: 0.966559787481687\n"
     ]
    }
   ],
   "source": [
    "from scripts.eval.eval_density import eval_density\n",
    "\n",
    "shape, trend = eval_density(TABDDPM_DATA_PATH, TRAIN_DATA_PATH, INFO_PATH)\n",
    "print(\"Shape:\", shape)\n",
    "print(\"Trend:\", trend)"
   ]
  },
  {
   "cell_type": "markdown",
   "id": "tight-genome",
   "metadata": {},
   "source": [
    "# Alpha Precision and Beta Recall "
   ]
  },
  {
   "cell_type": "code",
   "execution_count": 4,
   "id": "faced-accuracy",
   "metadata": {},
   "outputs": [
    {
     "name": "stdout",
     "output_type": "stream",
     "text": [
      "/projects/aieng/diffusion_bootcamp/data/tabular/synthetic_data/adult/tabddpm.csv\n",
      "=========== All Features ===========\n",
      "Data shape:  (32561, 110)\n",
      "Alpha precision: 0.9651710123562953\n",
      "Beta recall: 0.4771556975113378\n"
     ]
    }
   ],
   "source": [
    "from scripts.eval.eval_quality import eval_quality\n",
    "\n",
    "alpha_precision_all, beta_recall_all = eval_quality(TABDDPM_DATA_PATH, TRAIN_DATA_PATH, INFO_PATH)\n",
    "print(\"Alpha precision:\", alpha_precision_all)\n",
    "print(\"Beta recall:\", beta_recall_all)"
   ]
  },
  {
   "cell_type": "markdown",
   "id": "fitting-citizen",
   "metadata": {},
   "source": [
    "# Machine Learning Efficiency"
   ]
  },
  {
   "cell_type": "code",
   "execution_count": null,
   "id": "peripheral-commons",
   "metadata": {},
   "outputs": [],
   "source": [
    "from scripts.eval.eval_mle import eval_mle\n",
    "\n",
    "overall_score = eval_mle(TABDDPM_DATA_PATH, TRAIN_DATA_PATH, INFO_PATH)\n",
    "print(\"Overall score:\", overall_score)"
   ]
  },
  {
   "cell_type": "code",
   "execution_count": null,
   "id": "neutral-physics",
   "metadata": {},
   "outputs": [],
   "source": []
  },
  {
   "cell_type": "code",
   "execution_count": null,
   "id": "opponent-persian",
   "metadata": {},
   "outputs": [],
   "source": []
  }
 ],
 "metadata": {
  "kernelspec": {
   "display_name": "diffusion_models",
   "language": "python",
   "name": "diffusion_models"
  },
  "language_info": {
   "codemirror_mode": {
    "name": "ipython",
    "version": 3
   },
   "file_extension": ".py",
   "mimetype": "text/x-python",
   "name": "python",
   "nbconvert_exporter": "python",
   "pygments_lexer": "ipython3",
   "version": "3.9.18"
  }
 },
 "nbformat": 4,
 "nbformat_minor": 5
}
