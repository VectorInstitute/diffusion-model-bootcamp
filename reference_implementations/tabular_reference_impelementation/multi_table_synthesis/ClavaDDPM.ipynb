{
 "cells": [
  {
   "cell_type": "markdown",
   "metadata": {},
   "source": [
    "# ClavaDDPM: Multi-relational Data Synthesis with Cluster-guided Diffusion Models\n",
    "\n",
    "Recent tabular data synthesis research has focused on single tables, while real-world applications often involve complex, interconnected tables. Existing methods for multi-relational data synthesis struggle with scalability and long-range dependencies. This paper introduces Cluster Latent Variable guided Denoising Diffusion Probabilistic Models (ClavaDDPM), using clustering labels to model inter-table relationships, particularly foreign key constraints. ClavaDDPM efficiently propagates latent variables across tables, capturing long-range dependencies. Evaluations show ClavaDDPM outperforms existing methods on multi-table data and remains competitive for single-table data.\n",
    "\n",
    "In the following sections, we will delve deeper into the implementation of this method. The notebook is organized as follows:\n",
    "\n",
    "1. [Imports and Setup]()\n",
    "\n",
    "\n",
    "2. [Load Configuration]()\n",
    "\n",
    "\n",
    "3. [Data Loading and Preprocessing]()\n",
    "    \n",
    "    \n",
    "4. [Model Training]()\n",
    "    \n",
    "    4.1. [Clustring]()\n",
    "    \n",
    "    4.2. [PyTorch Training from Scratch]()\n",
    "    \n",
    "    4.3. [Loading Pretrained Models]()\n",
    "    \n",
    "    \n",
    "5. [Model Sampling]()\n",
    "    \n",
    "    5.1. [Generating Data from Scratch]()\n",
    "    \n",
    "    5.2. [Loading Pre-Synthesized Data]()\n",
    "    \n",
    "    \n",
    "6. [Model Evaluation]()\n",
    "\n",
    "    6.1. [Multi-Table Metrics]()\n",
    "    \n",
    "    6.2. [Single-Table Metrics]()"
   ]
  },
  {
   "cell_type": "markdown",
   "metadata": {},
   "source": [
    "# Imports and Setup\n",
    "\n",
    "In this section, we import all necessary libraries and modules for setting up the environment. This includes libraries for logging, argument parsing, file path management, and configuration loading. We also import essential packages for data loading, model creation, and training, such as PyTorch and numpy, along with custom modules specific to the ClavaDDPM."
   ]
  },
  {
   "cell_type": "code",
   "execution_count": 1,
   "metadata": {},
   "outputs": [],
   "source": [
    "import os\n",
    "import shutil\n",
    "import json\n",
    "\n",
    "from complex_pipeline import clava_clustering, clava_training, clava_load_pretrained, clava_synthesizing, clava_load_synthesized_data, clava_eval, load_configs\n",
    "from pipeline_modules import load_multi_table\n",
    "from gen_single_report import gen_single_report\n",
    "from report_utils import get_multi_metadata"
   ]
  },
  {
   "cell_type": "markdown",
   "metadata": {},
   "source": [
    "# Load Configuration\n",
    "\n",
    "In this section, we establish the setup for model training by loading the configuration file, which includes the necessary parameters and settings for the training process. The configuration file, stored in `json` format, is read and parsed into a dictionary. We print out the entire configuration file in the code cell below and will explain the hyperparameters in more detail further down to clarify."
   ]
  },
  {
   "cell_type": "code",
   "execution_count": 2,
   "metadata": {},
   "outputs": [
    {
     "name": "stdout",
     "output_type": "stream",
     "text": [
      "{\n",
      "    \"general\": {\n",
      "        \"data_dir\": \"/fs01/projects/aieng/diffusion_bootcamp/data/tabular/raw_data/california_20/train\",\n",
      "        \"exp_name\": \"california_20\",\n",
      "        \"workspace_dir\": \"clavaDDPM_workspace/california\",\n",
      "        \"sample_prefix\": \"\"\n",
      "    },\n",
      "    \"clustering\": {\n",
      "        \"parent_scale\": 1.0,\n",
      "        \"num_clusters\": {\n",
      "            \"individual\": 25\n",
      "        },\n",
      "        \"clustering_method\": \"both\"\n",
      "    },\n",
      "    \"diffusion\": {\n",
      "        \"d_layers\": [\n",
      "            512,\n",
      "            1024,\n",
      "            1024,\n",
      "            1024,\n",
      "            1024,\n",
      "            512\n",
      "        ],\n",
      "        \"dropout\": 0.0,\n",
      "        \"num_timesteps\": 2000,\n",
      "        \"model_type\": \"mlp\",\n",
      "        \"iterations\": 10000,\n",
      "        \"batch_size\": 4096,\n",
      "        \"lr\": 0.0006,\n",
      "        \"gaussian_loss_type\": \"mse\",\n",
      "        \"weight_decay\": 1e-05,\n",
      "        \"scheduler\": \"cosine\"\n",
      "    },\n",
      "    \"classifier\": {\n",
      "        \"d_layers\": [\n",
      "            128,\n",
      "            256,\n",
      "            512,\n",
      "            1024,\n",
      "            512,\n",
      "            256,\n",
      "            128\n",
      "        ],\n",
      "        \"lr\": 0.0001,\n",
      "        \"dim_t\": 128,\n",
      "        \"batch_size\": 4096,\n",
      "        \"iterations\": 1000\n",
      "    },\n",
      "    \"sampling\": {\n",
      "        \"batch_size\": 20000,\n",
      "        \"classifier_scale\": 1.0\n",
      "    },\n",
      "    \"matching\": {\n",
      "        \"num_matching_clusters\": 1,\n",
      "        \"matching_batch_size\": 1000,\n",
      "        \"unique_matching\": true,\n",
      "        \"no_matching\": false\n",
      "    },\n",
      "    \"debug\": {\n",
      "        \"sample_scale\": 0.1\n",
      "    }\n",
      "}\n"
     ]
    }
   ],
   "source": [
    "# Load config\n",
    "config_path = 'configs/california_20_vector.json'\n",
    "configs, save_dir = load_configs(config_path)\n",
    "\n",
    "# Display config\n",
    "json_str = json.dumps(configs, indent=4)\n",
    "print(json_str)"
   ]
  },
  {
   "cell_type": "markdown",
   "metadata": {},
   "source": [
    "# Data Loading and Preprocessing\n",
    "\n",
    "In this section, we load and preprocess the dataset based on the configuration settings. We demonstrate the dataset's metadata and parent-child relationships to provide a clearer understanding of its structure. Following this, we perform clustering to preprocess the data, facilitating the training process for the ClavaDDPM model."
   ]
  },
  {
   "cell_type": "code",
   "execution_count": 3,
   "metadata": {},
   "outputs": [
    {
     "name": "stdout",
     "output_type": "stream",
     "text": [
      "Table name: household, Train dataframe shape: (110900, 10), Total dataframe shape: (110900, 10)\n",
      "Numerical (110900, 3)\n",
      "Categorical (110900, 7)\n",
      "Numerical data shape: (110900, 3)\n",
      "Categorical data shape: (110900, 7)\n",
      "Processing household table successfully!\n",
      "\n",
      "Table name: individual, Train dataframe shape: (304510, 15), Total dataframe shape: (304510, 15)\n",
      "Numerical (304510, 2)\n",
      "Categorical (304510, 13)\n",
      "Numerical data shape: (304510, 2)\n",
      "Categorical data shape: (304510, 13)\n",
      "Processing individual table successfully!\n",
      "\n",
      "==================== We show the keys of the tables dictionary below ====================\n",
      "dict_keys(['household', 'individual'])\n",
      "\n",
      "==================== We show the relation order below ====================\n",
      "[[None, 'household'], ['household', 'individual']]\n",
      "\n"
     ]
    },
    {
     "data": {
      "image/svg+xml": [
       "<?xml version=\"1.0\" encoding=\"UTF-8\" standalone=\"no\"?>\n",
       "<!DOCTYPE svg PUBLIC \"-//W3C//DTD SVG 1.1//EN\"\n",
       " \"http://www.w3.org/Graphics/SVG/1.1/DTD/svg11.dtd\">\n",
       "<!-- Generated by graphviz version 2.40.1 (20161225.0304)\n",
       " -->\n",
       "<!-- Title: Metadata Pages: 1 -->\n",
       "<svg width=\"298pt\" height=\"604pt\"\n",
       " viewBox=\"0.00 0.00 298.00 604.00\" xmlns=\"http://www.w3.org/2000/svg\" xmlns:xlink=\"http://www.w3.org/1999/xlink\">\n",
       "<g id=\"graph0\" class=\"graph\" transform=\"scale(1 1) rotate(0) translate(4 600)\">\n",
       "<title>Metadata</title>\n",
       "<polygon fill=\"#ffffff\" stroke=\"transparent\" points=\"-4,4 -4,-600 294,-600 294,4 -4,4\"/>\n",
       "<!-- household -->\n",
       "<g id=\"node1\" class=\"node\">\n",
       "<title>household</title>\n",
       "<path fill=\"#ffec8b\" stroke=\"#000000\" d=\"M45,-376.5C45,-376.5 185,-376.5 185,-376.5 191,-376.5 197,-382.5 197,-388.5 197,-388.5 197,-583.5 197,-583.5 197,-589.5 191,-595.5 185,-595.5 185,-595.5 45,-595.5 45,-595.5 39,-595.5 33,-589.5 33,-583.5 33,-583.5 33,-388.5 33,-388.5 33,-382.5 39,-376.5 45,-376.5\"/>\n",
       "<text text-anchor=\"middle\" x=\"115\" y=\"-580.3\" font-family=\"Times,serif\" font-size=\"14.00\" fill=\"#000000\">household</text>\n",
       "<polyline fill=\"none\" stroke=\"#000000\" points=\"33,-572.5 197,-572.5 \"/>\n",
       "<text text-anchor=\"start\" x=\"41\" y=\"-557.3\" font-family=\"Times,serif\" font-size=\"14.00\" fill=\"#000000\">household_id : id</text>\n",
       "<text text-anchor=\"start\" x=\"41\" y=\"-542.3\" font-family=\"Times,serif\" font-size=\"14.00\" fill=\"#000000\">FARM : categorical</text>\n",
       "<text text-anchor=\"start\" x=\"41\" y=\"-527.3\" font-family=\"Times,serif\" font-size=\"14.00\" fill=\"#000000\">OWNERSHP : categorical</text>\n",
       "<text text-anchor=\"start\" x=\"41\" y=\"-512.3\" font-family=\"Times,serif\" font-size=\"14.00\" fill=\"#000000\">ACREHOUS : categorical</text>\n",
       "<text text-anchor=\"start\" x=\"41\" y=\"-497.3\" font-family=\"Times,serif\" font-size=\"14.00\" fill=\"#000000\">TAXINCL : categorical</text>\n",
       "<text text-anchor=\"start\" x=\"41\" y=\"-482.3\" font-family=\"Times,serif\" font-size=\"14.00\" fill=\"#000000\">PROPINSR : numerical</text>\n",
       "<text text-anchor=\"start\" x=\"41\" y=\"-467.3\" font-family=\"Times,serif\" font-size=\"14.00\" fill=\"#000000\">COSTELEC : numerical</text>\n",
       "<text text-anchor=\"start\" x=\"41\" y=\"-452.3\" font-family=\"Times,serif\" font-size=\"14.00\" fill=\"#000000\">VALUEH : numerical</text>\n",
       "<text text-anchor=\"start\" x=\"41\" y=\"-437.3\" font-family=\"Times,serif\" font-size=\"14.00\" fill=\"#000000\">ROOMS : categorical</text>\n",
       "<text text-anchor=\"start\" x=\"41\" y=\"-422.3\" font-family=\"Times,serif\" font-size=\"14.00\" fill=\"#000000\">PLUMBING : categorical</text>\n",
       "<text text-anchor=\"start\" x=\"41\" y=\"-407.3\" font-family=\"Times,serif\" font-size=\"14.00\" fill=\"#000000\">PUMA : categorical</text>\n",
       "<polyline fill=\"none\" stroke=\"#000000\" points=\"33,-399.5 197,-399.5 \"/>\n",
       "<text text-anchor=\"start\" x=\"41\" y=\"-384.3\" font-family=\"Times,serif\" font-size=\"14.00\" fill=\"#000000\">Primary key: household_id</text>\n",
       "</g>\n",
       "<!-- individual -->\n",
       "<g id=\"node2\" class=\"node\">\n",
       "<title>individual</title>\n",
       "<path fill=\"#ffec8b\" stroke=\"#000000\" d=\"M12,-.5C12,-.5 218,-.5 218,-.5 224,-.5 230,-6.5 230,-12.5 230,-12.5 230,-312.5 230,-312.5 230,-318.5 224,-324.5 218,-324.5 218,-324.5 12,-324.5 12,-324.5 6,-324.5 0,-318.5 0,-312.5 0,-312.5 0,-12.5 0,-12.5 0,-6.5 6,-.5 12,-.5\"/>\n",
       "<text text-anchor=\"middle\" x=\"115\" y=\"-309.3\" font-family=\"Times,serif\" font-size=\"14.00\" fill=\"#000000\">individual</text>\n",
       "<polyline fill=\"none\" stroke=\"#000000\" points=\"0,-301.5 230,-301.5 \"/>\n",
       "<text text-anchor=\"start\" x=\"8\" y=\"-286.3\" font-family=\"Times,serif\" font-size=\"14.00\" fill=\"#000000\">individual_id : id</text>\n",
       "<text text-anchor=\"start\" x=\"8\" y=\"-271.3\" font-family=\"Times,serif\" font-size=\"14.00\" fill=\"#000000\">RELATE : categorical</text>\n",
       "<text text-anchor=\"start\" x=\"8\" y=\"-256.3\" font-family=\"Times,serif\" font-size=\"14.00\" fill=\"#000000\">SEX : categorical</text>\n",
       "<text text-anchor=\"start\" x=\"8\" y=\"-241.3\" font-family=\"Times,serif\" font-size=\"14.00\" fill=\"#000000\">AGE : numerical</text>\n",
       "<text text-anchor=\"start\" x=\"8\" y=\"-226.3\" font-family=\"Times,serif\" font-size=\"14.00\" fill=\"#000000\">MARST : categorical</text>\n",
       "<text text-anchor=\"start\" x=\"8\" y=\"-211.3\" font-family=\"Times,serif\" font-size=\"14.00\" fill=\"#000000\">RACE : categorical</text>\n",
       "<text text-anchor=\"start\" x=\"8\" y=\"-196.3\" font-family=\"Times,serif\" font-size=\"14.00\" fill=\"#000000\">CITIZEN : categorical</text>\n",
       "<text text-anchor=\"start\" x=\"8\" y=\"-181.3\" font-family=\"Times,serif\" font-size=\"14.00\" fill=\"#000000\">SPEAKENG : categorical</text>\n",
       "<text text-anchor=\"start\" x=\"8\" y=\"-166.3\" font-family=\"Times,serif\" font-size=\"14.00\" fill=\"#000000\">SCHOOL : categorical</text>\n",
       "<text text-anchor=\"start\" x=\"8\" y=\"-151.3\" font-family=\"Times,serif\" font-size=\"14.00\" fill=\"#000000\">EDUC : categorical</text>\n",
       "<text text-anchor=\"start\" x=\"8\" y=\"-136.3\" font-family=\"Times,serif\" font-size=\"14.00\" fill=\"#000000\">GRADEATT : categorical</text>\n",
       "<text text-anchor=\"start\" x=\"8\" y=\"-121.3\" font-family=\"Times,serif\" font-size=\"14.00\" fill=\"#000000\">SCHLTYPE : categorical</text>\n",
       "<text text-anchor=\"start\" x=\"8\" y=\"-106.3\" font-family=\"Times,serif\" font-size=\"14.00\" fill=\"#000000\">EMPSTAT : categorical</text>\n",
       "<text text-anchor=\"start\" x=\"8\" y=\"-91.3\" font-family=\"Times,serif\" font-size=\"14.00\" fill=\"#000000\">CLASSWKR : categorical</text>\n",
       "<text text-anchor=\"start\" x=\"8\" y=\"-76.3\" font-family=\"Times,serif\" font-size=\"14.00\" fill=\"#000000\">INCTOT : numerical</text>\n",
       "<text text-anchor=\"start\" x=\"8\" y=\"-61.3\" font-family=\"Times,serif\" font-size=\"14.00\" fill=\"#000000\">DISABWRK : categorical</text>\n",
       "<text text-anchor=\"start\" x=\"8\" y=\"-46.3\" font-family=\"Times,serif\" font-size=\"14.00\" fill=\"#000000\">household_id : id</text>\n",
       "<polyline fill=\"none\" stroke=\"#000000\" points=\"0,-38.5 230,-38.5 \"/>\n",
       "<text text-anchor=\"start\" x=\"8\" y=\"-23.3\" font-family=\"Times,serif\" font-size=\"14.00\" fill=\"#000000\">Primary key: individual_id</text>\n",
       "<text text-anchor=\"start\" x=\"8\" y=\"-8.3\" font-family=\"Times,serif\" font-size=\"14.00\" fill=\"#000000\">Foreign key (household): household_id</text>\n",
       "</g>\n",
       "<!-- household&#45;&gt;individual -->\n",
       "<g id=\"edge1\" class=\"edge\">\n",
       "<title>household&#45;&gt;individual</title>\n",
       "<path fill=\"none\" stroke=\"#000000\" d=\"M115,-376.4777C115,-363.0552 115,-349.0952 115,-335.026\"/>\n",
       "<polygon fill=\"none\" stroke=\"#000000\" points=\"118.5,-324.7683 115.0001,-334.7683 111.5,-324.7683 118.5,-324.7683\"/>\n",
       "<text text-anchor=\"middle\" x=\"202.5\" y=\"-346.8\" font-family=\"Times,serif\" font-size=\"14.00\" fill=\"#000000\"> &#160;household_id → household_id</text>\n",
       "</g>\n",
       "</g>\n",
       "</svg>\n"
      ],
      "text/plain": [
       "<graphviz.graphs.Digraph at 0x7f16f46effa0>"
      ]
     },
     "execution_count": 3,
     "metadata": {},
     "output_type": "execute_result"
    }
   ],
   "source": [
    "# Load multi-table dataset\n",
    "# In this step, we load the multi-table dataset according to the 'dataset_meta.json' file located in the data_dir.\n",
    "# We organize the multi-table dataset as a dictionary of tables, a list of relation orders, and a dictionary of dataset metadata.\n",
    "tables, relation_order, dataset_meta = load_multi_table(configs['general']['data_dir'])\n",
    "\n",
    "# Tables is a dictionary of the multi-table dataset\n",
    "print(\"{} We show the keys of the tables dictionary below {}\".format(\"=\"*20, \"=\"*20))\n",
    "print(tables.keys())\n",
    "print(\"\")\n",
    "\n",
    "# Relation order is the topological order of the multi-table dataset\n",
    "print(\"{} We show the relation order below {}\".format(\"=\"*20, \"=\"*20))\n",
    "print(relation_order)\n",
    "print(\"\")\n",
    "\n",
    "# Visualize the parent-child relationship within the multi-table dataset\n",
    "multi_meta = get_multi_metadata(tables, relation_order)\n",
    "multi_meta.visualize()"
   ]
  },
  {
   "cell_type": "markdown",
   "metadata": {},
   "source": [
    "# Model Training\n",
    "\n",
    "### Overview\n",
    "\n",
    "<img src=\"assets/clavaDDPM.png\" alt=\"ClavaDDPM Model Pipeline\" width=\"960\"/>\n",
    "\n",
    "This section outlines the training process for the ClavaDDPM model. The diagram above, taken from the original paper, illustrates the main steps: (a) latent learning and table augmentation (steps 1-2), (b) training (steps 3-5), and (c) synthesis (steps 6-8). Specifically, the clustering process corresponds to latent learning and is used for table augmentation during training. The subsequent steps involve training the conditional diffusion models and the cluster classifier models. Following this, we implement the generation process, starting with sampling the table size and conducting conditional generation to satisfy the parent-child constraints (i.e., relation order).\n",
    "\n",
    "We will implement and demonstrate each section below, step by step."
   ]
  },
  {
   "cell_type": "markdown",
   "metadata": {},
   "source": [
    "### Clustering\n",
    "To get started, this paper first introduces relation-aware clustering to model parent-child constraints and leverages diffusion models for controlled tabular data synthesis. Specifically, [Gaussian Process Latent Variable Models (GPLVM)](https://pyro.ai/examples/gplvm.html) are used to discover low-dimensional manifolds in noisy, high-dimensional spaces. We run the clustering algorithm below to preprocess the data for training the ClavaDDPM model. Additionally, we empirically determine the distribution of table sizes in the dataset, which will be used in the later sampling process.\n",
    "\n",
    "Mathematically, let $x$ and $y$ denote the child and parent tables, respectively. We consider $k$ clusters and model the distribution of $h = (x; \\lambda y)$ with a Gaussian distribution around its corresponding centroid $c$, i.e.,\n",
    "$$\n",
    "P(h) = \\sum_{c=1}^{k} P(c) P(h \\mid c) = \\sum_{c=1}^{k} \\pi_c \\mathcal{N}(h; \\mu_c, \\Sigma_c),\n",
    "$$\n",
    "where the coefficient $\\lambda$ is the reweighting term called the parent scale. We opt for diagonal covariance, i.e., $\\Sigma_c = \\operatorname{diag}(\\ldots, \\sigma_l^2, \\ldots)$, which, when properly optimized, immediately satisfies our assumptions that the foreign key groups are conditionally independent of their parent rows given the cluster. \n",
    "\n",
    "A summary of the important parameters for the clustering step includes:\n",
    "- `parent_scale`: reweighting coefficient $\\lambda$ for the parent table. The default value is 1.0. It is not a sensitive factor. Recommended range for tuning: 1.0 to 2.\n",
    "- `num_clusters`: the number of clustering centers $k$ for child tables. The default is 20. Too few or too many clusters may compromise performance. Recommended range for tuning: 10 to 50.\n",
    "- `clustering_method`: ClavaDDPM provides two ways to initialize GMM-based clustering. `gmm` uses `kmeans` for initialization, and the default method `both` uses `k-means++`. It is recommended to use `both`."
   ]
  },
  {
   "cell_type": "code",
   "execution_count": 4,
   "metadata": {},
   "outputs": [
    {
     "name": "stdout",
     "output_type": "stream",
     "text": [
      "==================== We show the clustering parameters below ====================\n",
      "parent_scale: 1.0\n",
      "num_clusters: {'individual': 25}\n",
      "clustering_method: both\n",
      "\n",
      "Clustering checkpoint found, loading...\n"
     ]
    }
   ],
   "source": [
    "# Display important clustering parameters\n",
    "params_clustering = configs['clustering']\n",
    "print(\"{} We show the clustering parameters below {}\".format(\"=\"*20, \"=\"*20))\n",
    "for key, val in params_clustering.items():\n",
    "    print(f\"{key}: {val}\")\n",
    "print(\"\")\n",
    "\n",
    "# Clustering on the multi-table dataset\n",
    "# Output parameter: 'tables' contains the updated relational tables with data augmentation, where the latent variable is attached to the parent tables.\n",
    "# Output parameter: 'all_group_lengths_prob_dicts' is a dictionary that computes group size distributions for each table, used in the sampling stage to determine the size of the tables to generate.\n",
    "tables, all_group_lengths_prob_dicts = clava_clustering(tables, relation_order, save_dir, configs)"
   ]
  },
  {
   "cell_type": "markdown",
   "metadata": {},
   "source": [
    "### PyTorch Training from Scratch\n",
    "With the clustering results set, we can proceed to launch the training in PyTorch. Various callbacks are configured to monitor and save the model during training. The trainer is implemented using a custom PyTorch function, specifying parameters such as the number of epochs and checkpoints. The training process is then initiated, logging progress and completing the model's training."
   ]
  },
  {
   "cell_type": "code",
   "execution_count": null,
   "metadata": {},
   "outputs": [],
   "source": [
    "# Relation order is the topological order of the multi-table dataset\n",
    "print(\"{} We show the relation order again, each line indicates one conditional generative model {}\".format(\"=\"*20, \"=\"*20))\n",
    "print(relation_order)\n",
    "\n",
    "# Launch training from scratch\n",
    "models = clava_training(tables, relation_order, save_dir, configs)"
   ]
  },
  {
   "cell_type": "markdown",
   "metadata": {},
   "source": [
    "### Loading Pretrained Models\n",
    "If the training process from scratch takes too long, please run the following command to load pre-trained models and samples."
   ]
  },
  {
   "cell_type": "code",
   "execution_count": 5,
   "metadata": {},
   "outputs": [
    {
     "name": "stdout",
     "output_type": "stream",
     "text": [
      "california_20 clavaDDPM_workspace/california\n"
     ]
    }
   ],
   "source": [
    "print(configs['general']['exp_name'], configs['general']['workspace_dir'])"
   ]
  },
  {
   "cell_type": "code",
   "execution_count": 6,
   "metadata": {},
   "outputs": [
    {
     "name": "stdout",
     "output_type": "stream",
     "text": [
      "None -> household checkpoint found, loading...\n",
      "household -> individual checkpoint found, loading...\n"
     ]
    }
   ],
   "source": [
    "# Use the pre-trained models\n",
    "pretrained_dir = \"/fs01/projects/aieng/diffusion_bootcamp/models/tabular/clavaDDPM/california_20_pretrained\"\n",
    "models = clava_load_pretrained(relation_order, pretrained_dir)"
   ]
  },
  {
   "cell_type": "markdown",
   "metadata": {},
   "source": [
    "# Model Sampling\n",
    "\n",
    "### Overview\n",
    "Upon completion of the training, the model is evaluated using the test dataset. To assess the model's performance, we first use the `clava_synthesizing` function to generate synthetic samples and showcase the results qualitatively. We initiate the generation process by sampling the table size (i.e., the number of rows per table) and performing conditional generation to meet the parent-child constraints (i.e., relation order). Quantitative evaluations will be conducted in the next section.\n",
    "\n",
    "Important parameters for the sampling process include:\n",
    "- `batch_size`: Mini-batch size for sampling.\n",
    "- `classifier_scale` ($\\eta$): Controls the magnitude of classifier gradients during guided sampling, balancing sample quality and conditional sampling accuracy. The default value is 1.0. When $\\eta = 0$ (disabling classifier conditioning), single column densities (1-way) may improve but fail to capture long-range correlations. When $\\eta = 2$, the increased conditioning weight significantly improves the modeling of multi-hop correlations compared to $\\eta = 0$. Recommended tuning range: 0 to 2.\n",
    "\n",
    "We also conduct a matching process to determine the parent-child table relationship of the generated data. This process uses an approximate nearest neighbor search-based matching technique, providing a universal solution to the multi-parent relational synthesis problem for a child table with multiple parents.\n",
    "\n",
    "Important parameters are as follows:\n",
    "- `num_matching_clusters`: Number of clusters used in the matching process.\n",
    "- `matching_batch_size`: Mini-batch size for table matching.\n",
    "- `unique_matching`: Boolean flag indicating if the matching result should be unique.\n",
    "- `no_matching`: Boolean flag to disable the matching process."
   ]
  },
  {
   "cell_type": "code",
   "execution_count": 7,
   "metadata": {},
   "outputs": [
    {
     "name": "stdout",
     "output_type": "stream",
     "text": [
      "==================== We show the important sampling parameters below ====================\n",
      "batch_size: 20000\n",
      "classifier_scale: 1.0\n",
      "\n",
      "==================== We show the important matching parameters below ====================\n",
      "num_matching_clusters: 1\n",
      "matching_batch_size: 1000\n",
      "unique_matching: True\n",
      "no_matching: False\n",
      "\n"
     ]
    }
   ],
   "source": [
    "# Display important sampling parameters\n",
    "params_sampling = configs['sampling']\n",
    "print(\"{} We show the important sampling parameters below {}\".format(\"=\"*20, \"=\"*20))\n",
    "for key, val in params_sampling.items():\n",
    "    print(f\"{key}: {val}\")\n",
    "print(\"\")\n",
    "\n",
    "\n",
    "# Display important matching parameters\n",
    "params_matching = configs['matching']\n",
    "print(\"{} We show the important matching parameters below {}\".format(\"=\"*20, \"=\"*20))\n",
    "for key, val in params_matching.items():\n",
    "    print(f\"{key}: {val}\")\n",
    "print(\"\")"
   ]
  },
  {
   "cell_type": "markdown",
   "metadata": {},
   "source": [
    "### Generating Data from Scratch\n",
    "To generate synthetic data from scratch, we run the following code cell. The synthetic data will be saved in the specified output directory."
   ]
  },
  {
   "cell_type": "code",
   "execution_count": 8,
   "metadata": {},
   "outputs": [
    {
     "name": "stdout",
     "output_type": "stream",
     "text": [
      "Generating None -> household\n",
      "Sample size: 11090\n",
      "Sample timestep    0\n",
      "Generating household -> individual\n",
      "Sample size: 30451\n",
      "Sample timestep    0\n",
      "Sample timestep    0\n"
     ]
    }
   ],
   "source": [
    "# Generate synthetic data from scratch\n",
    "cleaned_tables, synthesizing_time_spent, matching_time_spent = clava_synthesizing(\n",
    "    tables, \n",
    "    relation_order, \n",
    "    save_dir, \n",
    "    all_group_lengths_prob_dicts, \n",
    "    models,\n",
    "    configs,\n",
    "    sample_scale=1 if not 'debug' in configs else configs['debug']['sample_scale']\n",
    ")"
   ]
  },
  {
   "cell_type": "code",
   "execution_count": 18,
   "metadata": {},
   "outputs": [],
   "source": [
    "# Cast int values that saved as string to int for further evaluation\n",
    "for key in cleaned_tables.keys():\n",
    "    for col in cleaned_tables[key].columns:\n",
    "        if cleaned_tables[key][col].dtype == 'object':\n",
    "            try:\n",
    "                cleaned_tables[key][col] = cleaned_tables[key][col].astype(int)\n",
    "            except ValueError:\n",
    "                print(f\"Column {col} cannot be converted to int.\")"
   ]
  },
  {
   "cell_type": "markdown",
   "metadata": {},
   "source": [
    "### Loading Pre-Synthesized Data\n",
    "If the generation process takes too long, please run the following command to load pre-synthesized data. We provide the pre-synthesized data using the aforementioned pre-trained models.\n"
   ]
  },
  {
   "cell_type": "code",
   "execution_count": 6,
   "metadata": {},
   "outputs": [
    {
     "name": "stdout",
     "output_type": "stream",
     "text": [
      "Synthetic tables found, loading...\n",
      "Synethic tables loaded!\n"
     ]
    }
   ],
   "source": [
    "# Load pre-synthesized data\n",
    "pretrained_dir = \"/fs01/projects/aieng/diffusion_bootcamp/models/tabular/clavaDDPM/california_20_pretrained\"\n",
    "cleaned_tables = clava_load_synthesized_data(tables.keys(), pretrained_dir)"
   ]
  },
  {
   "cell_type": "markdown",
   "metadata": {},
   "source": [
    "# Model Evaluation"
   ]
  },
  {
   "cell_type": "markdown",
   "metadata": {},
   "source": [
    "### Multi-Table Metrics\n",
    "In this step, we quantitatively evaluate the generated tabular data by computing metrics to determine the accuracy of the predictions, specifically assessing how closely the generated data matches the observed samples in the reference dataset.\n",
    "\n",
    "In particular, the critical multi-table metrics are as follows:\n",
    "\n",
    "1. Pair-wise column correlation (k-hop): This metric measures the correlations between columns from tables at a distance k (e.g., 0-hop for columns within the same table, 1-hop for a column and a column from its parent or child table).\n",
    "\n",
    "2. Average 2-way: This metric computes the average of all k-hop column-pair correlations, taking into account both short-range (k = 0) and longer-range (k > 0) dependencies.\n",
    "\n",
    "We use the [SDV evaluation API](https://docs.sdv.dev/sdv/multi-table-data/evaluation/data-quality) to obtain these metrics. For more details about the computation process, refer to their documentation."
   ]
  },
  {
   "cell_type": "code",
   "execution_count": 16,
   "metadata": {},
   "outputs": [
    {
     "name": "stdout",
     "output_type": "stream",
     "text": [
      "generating multi-table report for clavaDDPM_workspace/california/california_20\n",
      "Generating report ...\n",
      "(1/4) Evaluating Column Shapes: : 100%|██████████| 28/28 [00:00<00:00, 29.46it/s]\n",
      "(2/4) Evaluating Column Pair Trends: : 100%|██████████| 191/191 [00:45<00:00,  4.21it/s]\n",
      "(3/4) Evaluating Cardinality: : 100%|██████████| 1/1 [00:00<00:00, 13.62it/s]\n",
      "(4/4) Evaluating Intertable Trends: : 100%|██████████| 187/187 [00:53<00:00,  3.50it/s]\n",
      "\n",
      "Overall Score: 95.05%\n",
      "\n",
      "Properties:\n",
      "- Column Shapes: 97.08%\n",
      "- Column Pair Trends: 94.33%\n",
      "- Cardinality: 96.23%\n",
      "- Intertable Trends: 92.55%\n"
     ]
    }
   ],
   "source": [
    "# Multi-table Evaluation\n",
    "report = clava_eval(tables, save_dir, configs, relation_order, cleaned_tables)"
   ]
  },
  {
   "cell_type": "code",
   "execution_count": 17,
   "metadata": {
    "scrolled": true
   },
   "outputs": [
    {
     "name": "stdout",
     "output_type": "stream",
     "text": [
      "hop_relation metrics:\n",
      "                   1-hop column correlation, format '(Parent Table, Child Table, Column 1, Column 2): Correlation score'\n",
      "                     ('household', 'individual', 'FARM', 'RELATE'): 0.9474703463939407\n",
      "                     ('household', 'individual', 'FARM', 'SEX'): 0.9959712406755361\n",
      "                     ('household', 'individual', 'FARM', 'AGE'): 0.9575335052828032\n",
      "                     ...... other rows are omitted ......\n",
      "\n",
      "                   0-hop column correlation, format '(Parent Table, Parent Table, Column 1, Column 2): Correlation score'\n",
      "                     ('household', 'household', 'FARM', 'OWNERSHP'): 0.9851758340847611\n",
      "                     ('household', 'household', 'FARM', 'ACREHOUS'): 0.9971055004508567\n",
      "                     ('household', 'household', 'FARM', 'TAXINCL'): 0.992741208295762\n",
      "                     ...... other rows are omitted ......\n",
      "\n",
      "avg_scores metrics:\n",
      "                   1-hop column correlation: 0.925540958105889\n",
      "                   0-hop column correlation: 0.9433169666170189\n",
      "all_avg_score       : 0.9344289623614539\n"
     ]
    }
   ],
   "source": [
    "# Print out the multi-table metrics\n",
    "n_rows = 3\n",
    "for key, val in report.items():\n",
    "    if key in ['hop_relation', 'avg_scores', 'all_avg_score']:\n",
    "        if key == 'hop_relation':\n",
    "            print(\"{} metrics:\".format(key))\n",
    "            for k, v in val.items():\n",
    "                if k > 0:\n",
    "                    print(\"{:20}-hop column correlation, format '(Parent Table, Child Table, Column 1, Column 2): Correlation score'\".format(k))\n",
    "                else:\n",
    "                    print(\"{:20}-hop column correlation, format '(Parent Table, Parent Table, Column 1, Column 2): Correlation score'\".format(k))\n",
    "                for i_row, (k2, v2) in enumerate(v.items()):\n",
    "                    if i_row < n_rows:\n",
    "                        print(\"{:20} {}: {}\".format('', k2, v2))\n",
    "                print(\"{:20} ...... other rows are omitted ......\\n\".format(''))\n",
    "        elif key == 'avg_scores':\n",
    "            print(\"{} metrics:\".format(key))\n",
    "            for k, v in val.items():\n",
    "                print(\"{:20}-hop column correlation: {}\".format(k, v))\n",
    "        elif key == 'all_avg_score':\n",
    "            print(\"{:20}: {}\".format(key, val))"
   ]
  },
  {
   "cell_type": "markdown",
   "metadata": {},
   "source": [
    "### Single Table Metrics\n",
    "To study single table metrics please refer to `single_table_synthesis/evalutate_synthetic_data.ipynb` notebook. We highlight some of the key metrics below:\n",
    "- Single Column Similarity Score: Compares the density distributions of individual columns in real and synthetic data to measure similarity.\n",
    "\n",
    "- Pair-wise Correlation Score: Evaluates the preservation of relationships between pairs of columns, using correlation or contingency similarity.\n",
    "\n",
    "- alpha-Precision and beta-Recall: Precision assesses the quality of synthetic data by how closely it matches real data points. Recall measures the diversity by how well synthetic data covers the variability of real data.\n",
    "\n",
    "- Privacy Protection: Distance to Closest Record (DCR): Ensures synthetic data points are sufficiently distant from real data points to prevent privacy leakage.\n",
    "\n",
    "- Detection: Classifier Two Sample Tests (C2ST): Measures the realism of synthetic data by evaluating if a machine learning model can distinguish it from real data."
   ]
  },
  {
   "cell_type": "code",
   "execution_count": 20,
   "metadata": {},
   "outputs": [
    {
     "name": "stdout",
     "output_type": "stream",
     "text": [
      "Generating report for household\n",
      "alpha: 0.9911571986774872, beta: 0.4514637811842501\n",
      "\n",
      "Computing MLE for column: FARM\n"
     ]
    },
    {
     "name": "stderr",
     "output_type": "stream",
     "text": [
      "100%|██████████| 36/36 [00:09<00:00,  3.69it/s]\n"
     ]
    },
    {
     "name": "stdout",
     "output_type": "stream",
     "text": [
      "MLE for column FARM: {'best_f1_scores': {'XGBClassifier': {'binary_f1': 0.8849557522123894, 'roc_auc': 0.9918671936429889, 'weighted_f1': 0.8855853070457522, 'accuracy': 0.9988277727682597}}, 'best_weighted_scores': {'XGBClassifier': {'binary_f1': 0.8849557522123894, 'roc_auc': 0.9918671936429889, 'weighted_f1': 0.8855853070457522, 'accuracy': 0.9988277727682597}}, 'best_auroc_scores': {'XGBClassifier': {'binary_f1': 0.5168539325842697, 'roc_auc': 0.9893076226758366, 'weighted_f1': 0.5195007471898127, 'accuracy': 0.9961226330027051}}, 'best_acc_scores': {'XGBClassifier': {'binary_f1': 0.4943820224719101, 'roc_auc': 0.9625064472352323, 'weighted_f1': 0.4971519447335248, 'accuracy': 0.9959422903516681}}, 'best_avg_scores': {'XGBClassifier': {'binary_f1': 0.8849557522123894, 'roc_auc': 0.9918671936429889, 'weighted_f1': 0.8855853070457522, 'accuracy': 0.9988277727682597}}}\n",
      "Computing MLE for column: OWNERSHP\n"
     ]
    },
    {
     "name": "stderr",
     "output_type": "stream",
     "text": [
      "100%|██████████| 36/36 [00:10<00:00,  3.37it/s]\n"
     ]
    },
    {
     "name": "stdout",
     "output_type": "stream",
     "text": [
      "MLE for column OWNERSHP: {'best_f1_scores': {'XGBClassifier': {'macro_f1': 0.9996578084840727, 'roc_auc': 0.9999997887422781, 'weighted_f1': 0.9995768697663949, 'accuracy': 0.999819657348963}}, 'best_weighted_scores': {'XGBClassifier': {'macro_f1': 0.9996578084840727, 'roc_auc': 0.9999997887422781, 'weighted_f1': 0.9995768697663949, 'accuracy': 0.999819657348963}}, 'best_auroc_scores': {'XGBClassifier': {'macro_f1': 0.9996578084840727, 'roc_auc': 0.9999997887422781, 'weighted_f1': 0.9995768697663949, 'accuracy': 0.999819657348963}}, 'best_acc_scores': {'XGBClassifier': {'macro_f1': 0.9996578084840727, 'roc_auc': 0.9999997887422781, 'weighted_f1': 0.9995768697663949, 'accuracy': 0.999819657348963}}, 'best_avg_scores': {'XGBClassifier': {'macro_f1': 0.9996578084840727, 'roc_auc': 0.9999997887422781, 'weighted_f1': 0.9995768697663949, 'accuracy': 0.999819657348963}}}\n",
      "Computing MLE for column: ACREHOUS\n"
     ]
    },
    {
     "name": "stderr",
     "output_type": "stream",
     "text": [
      "100%|██████████| 36/36 [00:20<00:00,  1.79it/s]\n"
     ]
    },
    {
     "name": "stdout",
     "output_type": "stream",
     "text": [
      "MLE for column ACREHOUS: {'best_f1_scores': {'XGBClassifier': {'macro_f1': 0.7404092327236974, 'roc_auc': 0.9357093793093606, 'weighted_f1': 0.6773376515076615, 'accuracy': 0.8678088367899008}}, 'best_weighted_scores': {'XGBClassifier': {'macro_f1': 0.7404092327236974, 'roc_auc': 0.9357093793093606, 'weighted_f1': 0.6773376515076615, 'accuracy': 0.8678088367899008}}, 'best_auroc_scores': {'XGBClassifier': {'macro_f1': 0.7503387499958336, 'roc_auc': 0.9404327046483504, 'weighted_f1': 0.6897850048529723, 'accuracy': 0.8727682596934175}}, 'best_acc_scores': {'XGBClassifier': {'macro_f1': 0.7271193515348937, 'roc_auc': 0.8669722890484782, 'weighted_f1': 0.6618834177212167, 'accuracy': 0.8586113615870153}}, 'best_avg_scores': {'XGBClassifier': {'macro_f1': 0.7404092327236974, 'roc_auc': 0.9357093793093606, 'weighted_f1': 0.6773376515076615, 'accuracy': 0.8678088367899008}}}\n",
      "Computing MLE for column: TAXINCL\n"
     ]
    },
    {
     "name": "stderr",
     "output_type": "stream",
     "text": [
      "100%|██████████| 36/36 [00:19<00:00,  1.80it/s]\n"
     ]
    },
    {
     "name": "stdout",
     "output_type": "stream",
     "text": [
      "MLE for column TAXINCL: {'best_f1_scores': {'XGBClassifier': {'macro_f1': 0.6855726271947412, 'roc_auc': 0.8947688591114725, 'weighted_f1': 0.6442680849316107, 'accuracy': 0.7551848512173129}}, 'best_weighted_scores': {'XGBClassifier': {'macro_f1': 0.6855726271947412, 'roc_auc': 0.8947688591114725, 'weighted_f1': 0.6442680849316107, 'accuracy': 0.7551848512173129}}, 'best_auroc_scores': {'XGBClassifier': {'macro_f1': 0.6855726271947412, 'roc_auc': 0.8947688591114725, 'weighted_f1': 0.6442680849316107, 'accuracy': 0.7551848512173129}}, 'best_acc_scores': {'XGBClassifier': {'macro_f1': 0.6855726271947412, 'roc_auc': 0.8947688591114725, 'weighted_f1': 0.6442680849316107, 'accuracy': 0.7551848512173129}}, 'best_avg_scores': {'XGBClassifier': {'macro_f1': 0.6855726271947412, 'roc_auc': 0.8947688591114725, 'weighted_f1': 0.6442680849316107, 'accuracy': 0.7551848512173129}}}\n",
      "Computing MLE for column: PROPINSR\n"
     ]
    },
    {
     "name": "stderr",
     "output_type": "stream",
     "text": [
      "100%|██████████| 36/36 [00:11<00:00,  3.11it/s]\n"
     ]
    },
    {
     "name": "stdout",
     "output_type": "stream",
     "text": [
      "MLE for column PROPINSR: {'best_r2_scores': {'XGBRegressor': {'r2': 0.9793714880943298, 'explained_variance': 0.9793722033500671, 'MAE': 0.12527745962142944, 'RMSE': 0.2761757969856262}}, 'best_rmse_scores': {'XGBRegressor': {'r2': 0.9793714880943298, 'explained_variance': 0.9793722033500671, 'MAE': 0.12527745962142944, 'RMSE': 0.2761757969856262}}}\n",
      "Computing MLE for column: COSTELEC\n"
     ]
    },
    {
     "name": "stderr",
     "output_type": "stream",
     "text": [
      "100%|██████████| 36/36 [00:12<00:00,  2.99it/s]\n"
     ]
    },
    {
     "name": "stdout",
     "output_type": "stream",
     "text": [
      "MLE for column COSTELEC: {'best_r2_scores': {'XGBRegressor': {'r2': 0.3258848786354065, 'explained_variance': 0.32588499784469604, 'MAE': 0.6355072259902954, 'RMSE': 0.8987739682197571}}, 'best_rmse_scores': {'XGBRegressor': {'r2': 0.3258848786354065, 'explained_variance': 0.32588499784469604, 'MAE': 0.6355072259902954, 'RMSE': 0.8987739682197571}}}\n",
      "Computing MLE for column: VALUEH\n"
     ]
    },
    {
     "name": "stderr",
     "output_type": "stream",
     "text": [
      "100%|██████████| 36/36 [00:12<00:00,  2.98it/s]\n"
     ]
    },
    {
     "name": "stdout",
     "output_type": "stream",
     "text": [
      "MLE for column VALUEH: {'best_r2_scores': {'XGBRegressor': {'r2': 0.9575589895248413, 'explained_variance': 0.9575711488723755, 'MAE': 0.07848818600177765, 'RMSE': 0.21477341651916504}}, 'best_rmse_scores': {'XGBRegressor': {'r2': 0.9575589895248413, 'explained_variance': 0.9575711488723755, 'MAE': 0.07848818600177765, 'RMSE': 0.21477341651916504}}}\n",
      "Computing MLE for column: ROOMS\n"
     ]
    },
    {
     "name": "stderr",
     "output_type": "stream",
     "text": [
      "100%|██████████| 36/36 [00:47<00:00,  1.31s/it]\n"
     ]
    },
    {
     "name": "stdout",
     "output_type": "stream",
     "text": [
      "MLE for column ROOMS: {'best_f1_scores': {'XGBClassifier': {'macro_f1': 0.38239924914820084, 'roc_auc': 0.8360150268738857, 'weighted_f1': 0.3833936187452743, 'accuracy': 0.38575293056807936}}, 'best_weighted_scores': {'XGBClassifier': {'macro_f1': 0.38239924914820084, 'roc_auc': 0.8360150268738857, 'weighted_f1': 0.3833936187452743, 'accuracy': 0.38575293056807936}}, 'best_auroc_scores': {'XGBClassifier': {'macro_f1': 0.35587363759057866, 'roc_auc': 0.8223949352200485, 'weighted_f1': 0.3572147167319862, 'accuracy': 0.36014427412082956}}, 'best_acc_scores': {'XGBClassifier': {'macro_f1': 0.35178662510629055, 'roc_auc': 0.8192109302103372, 'weighted_f1': 0.3531785668041204, 'accuracy': 0.3550045085662759}}, 'best_avg_scores': {'XGBClassifier': {'macro_f1': 0.38239924914820084, 'roc_auc': 0.8360150268738857, 'weighted_f1': 0.3833936187452743, 'accuracy': 0.38575293056807936}}}\n",
      "Computing MLE for column: PLUMBING\n"
     ]
    },
    {
     "name": "stderr",
     "output_type": "stream",
     "text": [
      "100%|██████████| 36/36 [00:12<00:00,  2.85it/s]\n"
     ]
    },
    {
     "name": "stdout",
     "output_type": "stream",
     "text": [
      "MLE for column PLUMBING: {'best_f1_scores': {'XGBClassifier': {'macro_f1': 0.7125390405811932, 'roc_auc': 0.9354848289739485, 'weighted_f1': 0.5711262896158219, 'accuracy': 0.9962128043282237}}, 'best_weighted_scores': {'XGBClassifier': {'macro_f1': 0.7125390405811932, 'roc_auc': 0.9354848289739485, 'weighted_f1': 0.5711262896158219, 'accuracy': 0.9962128043282237}}, 'best_auroc_scores': {'XGBClassifier': {'macro_f1': 0.7125390405811932, 'roc_auc': 0.9517297503284597, 'weighted_f1': 0.5711262896158219, 'accuracy': 0.9962128043282237}}, 'best_acc_scores': {'XGBClassifier': {'macro_f1': 0.7125390405811932, 'roc_auc': 0.9354848289739485, 'weighted_f1': 0.5711262896158219, 'accuracy': 0.9962128043282237}}, 'best_avg_scores': {'XGBClassifier': {'macro_f1': 0.7125390405811932, 'roc_auc': 0.9517297503284597, 'weighted_f1': 0.5711262896158219, 'accuracy': 0.9962128043282237}}}\n",
      "Computing MLE for column: PUMA\n"
     ]
    },
    {
     "name": "stderr",
     "output_type": "stream",
     "text": [
      "100%|██████████| 36/36 [06:34<00:00, 10.95s/it]\n"
     ]
    },
    {
     "name": "stdout",
     "output_type": "stream",
     "text": [
      "MLE for column PUMA: {'best_f1_scores': {'XGBClassifier': {'macro_f1': 0.09723972898010975, 'roc_auc': 0.8467634680727091, 'weighted_f1': 0.09723688849976028, 'accuracy': 0.10153291253381425}}, 'best_weighted_scores': {'XGBClassifier': {'macro_f1': 0.09723972898010975, 'roc_auc': 0.8467634680727091, 'weighted_f1': 0.09723688849976028, 'accuracy': 0.10153291253381425}}, 'best_auroc_scores': {'XGBClassifier': {'macro_f1': 0.09723972898010975, 'roc_auc': 0.8467634680727091, 'weighted_f1': 0.09723688849976028, 'accuracy': 0.10153291253381425}}, 'best_acc_scores': {'XGBClassifier': {'macro_f1': 0.09723972898010975, 'roc_auc': 0.8467634680727091, 'weighted_f1': 0.09723688849976028, 'accuracy': 0.10153291253381425}}, 'best_avg_scores': {'XGBClassifier': {'macro_f1': 0.09723972898010975, 'roc_auc': 0.8467634680727091, 'weighted_f1': 0.09723688849976028, 'accuracy': 0.10153291253381425}}}\n",
      "score: 0.9930821976509988\n",
      "Detection Score: 0.9930821976509988\n",
      "\n",
      "Generating report for individual\n",
      "=========== All Features ===========\n",
      "Data shape:  (31668, 73)\n",
      "alpha precision: 0.938358, beta recall: 0.524622\n",
      "alpha: 0.938358384910109, beta: 0.5246221211738453\n",
      "\n",
      "Computing MLE for column: RELATE\n"
     ]
    },
    {
     "name": "stderr",
     "output_type": "stream",
     "text": [
      "100%|██████████| 36/36 [00:52<00:00,  1.47s/it]\n"
     ]
    },
    {
     "name": "stdout",
     "output_type": "stream",
     "text": [
      "MLE for column RELATE: {'best_f1_scores': {'XGBClassifier': {'macro_f1': 0.3599454384257437, 'roc_auc': 0.9036159502456131, 'weighted_f1': 0.3068139256949053, 'accuracy': 0.757862826828344}}, 'best_weighted_scores': {'XGBClassifier': {'macro_f1': 0.3599454384257437, 'roc_auc': 0.9036159502456131, 'weighted_f1': 0.3068139256949053, 'accuracy': 0.757862826828344}}, 'best_auroc_scores': {'XGBClassifier': {'macro_f1': 0.3591266254820389, 'roc_auc': 0.8912084775236777, 'weighted_f1': 0.3045996580428588, 'accuracy': 0.7661045850701023}}, 'best_acc_scores': {'XGBClassifier': {'macro_f1': 0.3599454384257437, 'roc_auc': 0.9036159502456131, 'weighted_f1': 0.3068139256949053, 'accuracy': 0.757862826828344}}, 'best_avg_scores': {'XGBClassifier': {'macro_f1': 0.3599454384257437, 'roc_auc': 0.9036159502456131, 'weighted_f1': 0.3068139256949053, 'accuracy': 0.757862826828344}}}\n",
      "Computing MLE for column: SEX\n"
     ]
    },
    {
     "name": "stderr",
     "output_type": "stream",
     "text": [
      "100%|██████████| 36/36 [00:15<00:00,  2.32it/s]\n"
     ]
    },
    {
     "name": "stdout",
     "output_type": "stream",
     "text": [
      "MLE for column SEX: {'best_f1_scores': {'XGBClassifier': {'binary_f1': 0.7613517372679677, 'roc_auc': 0.8589860289874107, 'weighted_f1': 0.7625026713095745, 'accuracy': 0.7625047366426677}}, 'best_weighted_scores': {'XGBClassifier': {'binary_f1': 0.6817608347256794, 'roc_auc': 0.7981959136727245, 'weighted_f1': 0.7037331453117702, 'accuracy': 0.7052860932171277}}, 'best_auroc_scores': {'XGBClassifier': {'binary_f1': 0.6817608347256794, 'roc_auc': 0.7981959136727245, 'weighted_f1': 0.7037331453117702, 'accuracy': 0.7052860932171277}}, 'best_acc_scores': {'XGBClassifier': {'binary_f1': 0.6817608347256794, 'roc_auc': 0.7981959136727245, 'weighted_f1': 0.7037331453117702, 'accuracy': 0.7052860932171277}}, 'best_avg_scores': {'XGBClassifier': {'binary_f1': 0.6817608347256794, 'roc_auc': 0.7981959136727245, 'weighted_f1': 0.7037331453117702, 'accuracy': 0.7052860932171277}}}\n",
      "Computing MLE for column: AGE\n"
     ]
    },
    {
     "name": "stderr",
     "output_type": "stream",
     "text": [
      "100%|██████████| 36/36 [00:21<00:00,  1.64it/s]\n"
     ]
    },
    {
     "name": "stdout",
     "output_type": "stream",
     "text": [
      "MLE for column AGE: {'best_r2_scores': {'XGBRegressor': {'r2': 0.9694535732269287, 'explained_variance': 0.9694582223892212, 'MAE': 0.11737879365682602, 'RMSE': 0.17218434810638428}}, 'best_rmse_scores': {'XGBRegressor': {'r2': 0.9694535732269287, 'explained_variance': 0.9694582223892212, 'MAE': 0.11737879365682602, 'RMSE': 0.17218434810638428}}}\n",
      "Computing MLE for column: MARST\n"
     ]
    },
    {
     "name": "stderr",
     "output_type": "stream",
     "text": [
      "100%|██████████| 36/36 [00:43<00:00,  1.21s/it]\n"
     ]
    },
    {
     "name": "stdout",
     "output_type": "stream",
     "text": [
      "MLE for column MARST: {'best_f1_scores': {'XGBClassifier': {'macro_f1': 0.45374687392161545, 'roc_auc': 0.9280500654962647, 'weighted_f1': 0.385175617315248, 'accuracy': 0.8118605532398636}}, 'best_weighted_scores': {'XGBClassifier': {'macro_f1': 0.45374687392161545, 'roc_auc': 0.9280500654962647, 'weighted_f1': 0.385175617315248, 'accuracy': 0.8118605532398636}}, 'best_auroc_scores': {'XGBClassifier': {'macro_f1': 0.4403651410348286, 'roc_auc': 0.9247948096181116, 'weighted_f1': 0.3718340783668969, 'accuracy': 0.7975874700012631}}, 'best_acc_scores': {'XGBClassifier': {'macro_f1': 0.4370863137734006, 'roc_auc': 0.9172930872894048, 'weighted_f1': 0.36848683344469385, 'accuracy': 0.7938928887204749}}, 'best_avg_scores': {'XGBClassifier': {'macro_f1': 0.45516647622177037, 'roc_auc': 0.9346240856507534, 'weighted_f1': 0.38837889207067444, 'accuracy': 0.8033977516736137}}}\n",
      "Computing MLE for column: RACE\n"
     ]
    },
    {
     "name": "stderr",
     "output_type": "stream",
     "text": [
      "100%|██████████| 36/36 [00:59<00:00,  1.67s/it]\n"
     ]
    },
    {
     "name": "stdout",
     "output_type": "stream",
     "text": [
      "MLE for column RACE: {'best_f1_scores': {'XGBClassifier': {'macro_f1': 0.2903341100111245, 'roc_auc': 0.8420860021535497, 'weighted_f1': 0.24928545625847942, 'accuracy': 0.6720032840722496}}, 'best_weighted_scores': {'XGBClassifier': {'macro_f1': 0.2903341100111245, 'roc_auc': 0.8420860021535497, 'weighted_f1': 0.24928545625847942, 'accuracy': 0.6720032840722496}}, 'best_auroc_scores': {'XGBClassifier': {'macro_f1': 0.24732183493345306, 'roc_auc': 0.7760385760191765, 'weighted_f1': 0.2036976928659603, 'accuracy': 0.6546671719085512}}, 'best_acc_scores': {'XGBClassifier': {'macro_f1': 0.2903341100111245, 'roc_auc': 0.8420860021535497, 'weighted_f1': 0.24928545625847942, 'accuracy': 0.6720032840722496}}, 'best_avg_scores': {'XGBClassifier': {'macro_f1': 0.2867219542383622, 'roc_auc': 0.8284883910318236, 'weighted_f1': 0.2435099523255051, 'accuracy': 0.6859290135152204}}}\n",
      "Computing MLE for column: CITIZEN\n"
     ]
    },
    {
     "name": "stderr",
     "output_type": "stream",
     "text": [
      "100%|██████████| 36/36 [00:32<00:00,  1.11it/s]\n"
     ]
    },
    {
     "name": "stdout",
     "output_type": "stream",
     "text": [
      "MLE for column CITIZEN: {'best_f1_scores': {'XGBClassifier': {'macro_f1': 0.4999642191624477, 'roc_auc': 0.8718951978479691, 'weighted_f1': 0.3938911613909234, 'accuracy': 0.833554376657825}}, 'best_weighted_scores': {'XGBClassifier': {'macro_f1': 0.4999642191624477, 'roc_auc': 0.8718951978479691, 'weighted_f1': 0.3938911613909234, 'accuracy': 0.833554376657825}}, 'best_auroc_scores': {'XGBClassifier': {'macro_f1': 0.668601636653466, 'roc_auc': 0.9665804465781429, 'weighted_f1': 0.5801151829284447, 'accuracy': 0.9366237211064797}}, 'best_acc_scores': {'XGBClassifier': {'macro_f1': 0.4999642191624477, 'roc_auc': 0.8718951978479691, 'weighted_f1': 0.3938911613909234, 'accuracy': 0.833554376657825}}, 'best_avg_scores': {'XGBClassifier': {'macro_f1': 0.668601636653466, 'roc_auc': 0.9665804465781429, 'weighted_f1': 0.5801151829284447, 'accuracy': 0.9366237211064797}}}\n",
      "Computing MLE for column: SPEAKENG\n"
     ]
    },
    {
     "name": "stderr",
     "output_type": "stream",
     "text": [
      "100%|██████████| 36/36 [00:44<00:00,  1.23s/it]\n"
     ]
    },
    {
     "name": "stdout",
     "output_type": "stream",
     "text": [
      "MLE for column SPEAKENG: {'best_f1_scores': {'XGBClassifier': {'macro_f1': 0.6415889712535575, 'roc_auc': 0.923981678556138, 'weighted_f1': 0.6181618789329719, 'accuracy': 0.7685676392572944}}, 'best_weighted_scores': {'XGBClassifier': {'macro_f1': 0.6415889712535575, 'roc_auc': 0.923981678556138, 'weighted_f1': 0.6181618789329719, 'accuracy': 0.7685676392572944}}, 'best_auroc_scores': {'XGBClassifier': {'macro_f1': 0.5611039039716403, 'roc_auc': 0.9086286944450338, 'weighted_f1': 0.530021448765659, 'accuracy': 0.7293482379689277}}, 'best_acc_scores': {'XGBClassifier': {'macro_f1': 0.5333295568718929, 'roc_auc': 0.9011455096412754, 'weighted_f1': 0.4998816289430671, 'accuracy': 0.7184539598332702}}, 'best_avg_scores': {'XGBClassifier': {'macro_f1': 0.6415889712535575, 'roc_auc': 0.923981678556138, 'weighted_f1': 0.6181618789329719, 'accuracy': 0.7685676392572944}}}\n",
      "Computing MLE for column: SCHOOL\n"
     ]
    },
    {
     "name": "stderr",
     "output_type": "stream",
     "text": [
      "100%|██████████| 36/36 [00:10<00:00,  3.40it/s]\n"
     ]
    },
    {
     "name": "stdout",
     "output_type": "stream",
     "text": [
      "MLE for column SCHOOL: {'best_f1_scores': {'XGBClassifier': {'macro_f1': 0.9999446343410399, 'roc_auc': 0.9999613120959667, 'weighted_f1': 0.9999485291293444, 'accuracy': 0.999936844764431}}, 'best_weighted_scores': {'XGBClassifier': {'macro_f1': 0.9999446343410399, 'roc_auc': 0.9999613120959667, 'weighted_f1': 0.9999485291293444, 'accuracy': 0.999936844764431}}, 'best_auroc_scores': {'XGBClassifier': {'macro_f1': 0.9999446343410399, 'roc_auc': 0.9999613120959667, 'weighted_f1': 0.9999485291293444, 'accuracy': 0.999936844764431}}, 'best_acc_scores': {'XGBClassifier': {'macro_f1': 0.9999446343410399, 'roc_auc': 0.9999613120959667, 'weighted_f1': 0.9999485291293444, 'accuracy': 0.999936844764431}}, 'best_avg_scores': {'XGBClassifier': {'macro_f1': 0.9999446343410399, 'roc_auc': 0.9999613120959667, 'weighted_f1': 0.9999485291293444, 'accuracy': 0.999936844764431}}}\n",
      "Computing MLE for column: EDUC\n"
     ]
    },
    {
     "name": "stderr",
     "output_type": "stream",
     "text": [
      "100%|██████████| 36/36 [01:15<00:00,  2.09s/it]\n"
     ]
    },
    {
     "name": "stdout",
     "output_type": "stream",
     "text": [
      "MLE for column EDUC: {'best_f1_scores': {'XGBClassifier': {'macro_f1': 0.7362097775789131, 'roc_auc': 0.9648958099488617, 'weighted_f1': 0.7337490219532778, 'accuracy': 0.7640836175318934}}, 'best_weighted_scores': {'XGBClassifier': {'macro_f1': 0.7362097775789131, 'roc_auc': 0.9648958099488617, 'weighted_f1': 0.7337490219532778, 'accuracy': 0.7640836175318934}}, 'best_auroc_scores': {'XGBClassifier': {'macro_f1': 0.3427278884093612, 'roc_auc': 0.843498313939297, 'weighted_f1': 0.32949731769945384, 'accuracy': 0.5203044082354428}}, 'best_acc_scores': {'XGBClassifier': {'macro_f1': 0.3427677839675567, 'roc_auc': 0.8434977973403133, 'weighted_f1': 0.32953597664619044, 'accuracy': 0.5203675634710118}}, 'best_avg_scores': {'XGBClassifier': {'macro_f1': 0.4341040790041678, 'roc_auc': 0.9066303775437388, 'weighted_f1': 0.422448701948396, 'accuracy': 0.5824175824175825}}}\n",
      "Computing MLE for column: GRADEATT\n"
     ]
    },
    {
     "name": "stderr",
     "output_type": "stream",
     "text": [
      "100%|██████████| 36/36 [00:32<00:00,  1.12it/s]\n"
     ]
    },
    {
     "name": "stdout",
     "output_type": "stream",
     "text": [
      "MLE for column GRADEATT: {'best_f1_scores': {'XGBClassifier': {'macro_f1': 0.7886018844172633, 'roc_auc': 0.996161651671823, 'weighted_f1': 0.7644556170132384, 'accuracy': 0.9587280535556397}}, 'best_weighted_scores': {'XGBClassifier': {'macro_f1': 0.7886018844172633, 'roc_auc': 0.996161651671823, 'weighted_f1': 0.7644556170132384, 'accuracy': 0.9587280535556397}}, 'best_auroc_scores': {'XGBClassifier': {'macro_f1': 0.8252114810588855, 'roc_auc': 0.9973366659546572, 'weighted_f1': 0.8052365127808265, 'accuracy': 0.9660540608816471}}, 'best_acc_scores': {'XGBClassifier': {'macro_f1': 0.8252114810588855, 'roc_auc': 0.9973366659546572, 'weighted_f1': 0.8052365127808265, 'accuracy': 0.9660540608816471}}, 'best_avg_scores': {'XGBClassifier': {'macro_f1': 0.7886018844172633, 'roc_auc': 0.996161651671823, 'weighted_f1': 0.7644556170132384, 'accuracy': 0.9587280535556397}}}\n",
      "Computing MLE for column: SCHLTYPE\n"
     ]
    },
    {
     "name": "stderr",
     "output_type": "stream",
     "text": [
      "100%|██████████| 36/36 [00:17<00:00,  2.09it/s]\n"
     ]
    },
    {
     "name": "stdout",
     "output_type": "stream",
     "text": [
      "MLE for column SCHLTYPE: {'best_f1_scores': {'XGBClassifier': {'macro_f1': 0.8289360864518754, 'roc_auc': 0.9882445983316013, 'weighted_f1': 0.7839553667295214, 'accuracy': 0.9709801692560314}}, 'best_weighted_scores': {'XGBClassifier': {'macro_f1': 0.8289360864518754, 'roc_auc': 0.9882445983316013, 'weighted_f1': 0.7839553667295214, 'accuracy': 0.9709801692560314}}, 'best_auroc_scores': {'XGBClassifier': {'macro_f1': 0.7318705898840707, 'roc_auc': 0.9795606365944923, 'weighted_f1': 0.660031391173482, 'accuracy': 0.9639383604900846}}, 'best_acc_scores': {'XGBClassifier': {'macro_f1': 0.7534644656944118, 'roc_auc': 0.9828785161807146, 'weighted_f1': 0.6876203721305059, 'accuracy': 0.9653277756726033}}, 'best_avg_scores': {'XGBClassifier': {'macro_f1': 0.8289360864518754, 'roc_auc': 0.9882445983316013, 'weighted_f1': 0.7839553667295214, 'accuracy': 0.9709801692560314}}}\n",
      "Computing MLE for column: EMPSTAT\n"
     ]
    },
    {
     "name": "stderr",
     "output_type": "stream",
     "text": [
      "100%|██████████| 36/36 [00:25<00:00,  1.43it/s]\n"
     ]
    },
    {
     "name": "stdout",
     "output_type": "stream",
     "text": [
      "MLE for column EMPSTAT: {'best_f1_scores': {'XGBClassifier': {'macro_f1': 0.6683927744256831, 'roc_auc': 0.9065293601858028, 'weighted_f1': 0.5995174589234441, 'accuracy': 0.8799418971832765}}, 'best_weighted_scores': {'XGBClassifier': {'macro_f1': 0.6683927744256831, 'roc_auc': 0.9065293601858028, 'weighted_f1': 0.5995174589234441, 'accuracy': 0.8799418971832765}}, 'best_auroc_scores': {'XGBClassifier': {'macro_f1': 0.6760597313304406, 'roc_auc': 0.9460196113680498, 'weighted_f1': 0.6060687366409536, 'accuracy': 0.889920424403183}}, 'best_acc_scores': {'XGBClassifier': {'macro_f1': 0.6683927744256831, 'roc_auc': 0.9065293601858028, 'weighted_f1': 0.5995174589234441, 'accuracy': 0.8799418971832765}}, 'best_avg_scores': {'XGBClassifier': {'macro_f1': 0.6760597313304406, 'roc_auc': 0.9460196113680498, 'weighted_f1': 0.6060687366409536, 'accuracy': 0.889920424403183}}}\n",
      "Computing MLE for column: CLASSWKR\n"
     ]
    },
    {
     "name": "stderr",
     "output_type": "stream",
     "text": [
      "100%|██████████| 36/36 [00:27<00:00,  1.31it/s]\n"
     ]
    },
    {
     "name": "stdout",
     "output_type": "stream",
     "text": [
      "MLE for column CLASSWKR: {'best_f1_scores': {'XGBClassifier': {'macro_f1': 0.6488786300202758, 'roc_auc': 0.9421879279446861, 'weighted_f1': 0.5441996009188458, 'accuracy': 0.8803839838322597}}, 'best_weighted_scores': {'XGBClassifier': {'macro_f1': 0.9555358891159939, 'roc_auc': 0.9897642538563174, 'weighted_f1': 0.9458102978341811, 'accuracy': 0.9752115700391563}}, 'best_auroc_scores': {'XGBClassifier': {'macro_f1': 0.6243559574524559, 'roc_auc': 0.9239322762833803, 'weighted_f1': 0.5129998153403769, 'accuracy': 0.8714159403814576}}, 'best_acc_scores': {'XGBClassifier': {'macro_f1': 0.6488786300202758, 'roc_auc': 0.9421879279446861, 'weighted_f1': 0.5441996009188458, 'accuracy': 0.8803839838322597}}, 'best_avg_scores': {'XGBClassifier': {'macro_f1': 0.6488786300202758, 'roc_auc': 0.9421879279446861, 'weighted_f1': 0.5441996009188458, 'accuracy': 0.8803839838322597}}}\n",
      "Computing MLE for column: INCTOT\n"
     ]
    },
    {
     "name": "stderr",
     "output_type": "stream",
     "text": [
      "100%|██████████| 36/36 [00:25<00:00,  1.42it/s]\n"
     ]
    },
    {
     "name": "stdout",
     "output_type": "stream",
     "text": [
      "MLE for column INCTOT: {'best_r2_scores': {'XGBRegressor': {'r2': 0.7170222997665405, 'explained_variance': 0.717024564743042, 'MAE': 0.4974813163280487, 'RMSE': 0.7357878088951111}}, 'best_rmse_scores': {'XGBRegressor': {'r2': 0.7170222997665405, 'explained_variance': 0.717024564743042, 'MAE': 0.4974813163280487, 'RMSE': 0.7357878088951111}}}\n",
      "Computing MLE for column: DISABWRK\n"
     ]
    },
    {
     "name": "stderr",
     "output_type": "stream",
     "text": [
      "100%|██████████| 36/36 [00:22<00:00,  1.58it/s]\n"
     ]
    },
    {
     "name": "stdout",
     "output_type": "stream",
     "text": [
      "MLE for column DISABWRK: {'best_f1_scores': {'XGBClassifier': {'macro_f1': 0.9662469413553453, 'roc_auc': 0.9879564123756507, 'weighted_f1': 0.9592611291795774, 'accuracy': 0.9806744979158772}}, 'best_weighted_scores': {'XGBClassifier': {'macro_f1': 0.9662469413553453, 'roc_auc': 0.9879564123756507, 'weighted_f1': 0.9592611291795774, 'accuracy': 0.9806744979158772}}, 'best_auroc_scores': {'XGBClassifier': {'macro_f1': 0.6496885939384592, 'roc_auc': 0.8840948477742167, 'weighted_f1': 0.5583493408046839, 'accuracy': 0.8835101679929266}}, 'best_acc_scores': {'XGBClassifier': {'macro_f1': 0.6822514075774496, 'roc_auc': 0.9185048350328108, 'weighted_f1': 0.6005042450715715, 'accuracy': 0.8890362511052167}}, 'best_avg_scores': {'XGBClassifier': {'macro_f1': 0.9662469413553453, 'roc_auc': 0.9879564123756507, 'weighted_f1': 0.9592611291795774, 'accuracy': 0.9806744979158772}}}\n",
      "score: 0.9268946898889082\n",
      "Detection Score: 0.9268946898889082\n",
      "\n"
     ]
    }
   ],
   "source": [
    "# Prepare the synthetic data and reference data for single-table metric evaluation\n",
    "shutil.copy(os.path.join(configs['general']['data_dir'], 'dataset_meta.json'), os.path.join(save_dir, 'dataset_meta.json'))\n",
    "for table_name in tables.keys():\n",
    "    shutil.copy(os.path.join(save_dir, table_name, '_final', f'{table_name}_synthetic.csv'), os.path.join(save_dir, f'{table_name}.csv'))\n",
    "    # uncomment and run the following line if you want to use the pre-synthesized data\n",
    "    # shutil.copy(os.path.join(pretrained_dir, table_name, '_final', f'{table_name}_synthetic.csv'), os.path.join(save_dir, f'{table_name}.csv'))\n",
    "\n",
    "    shutil.copy(os.path.join(configs['general']['data_dir'], f'{table_name}_domain.json'), os.path.join(save_dir, f'{table_name}_domain.json'))\n",
    "\n",
    "test_tables, _, _ = load_multi_table(save_dir, verbose=False)\n",
    "real_tables, _, _ = load_multi_table(configs['general']['data_dir'], verbose=False)\n",
    "\n",
    "# Single table metrics\n",
    "for table_name in tables.keys():\n",
    "    print(f'Generating report for {table_name}')\n",
    "    real_data = real_tables[table_name]['df']\n",
    "    syn_data = cleaned_tables[table_name]\n",
    "    domain_dict = real_tables[table_name]['domain']\n",
    "\n",
    "    if configs['general']['workspace_dir'] is not None:\n",
    "        test_data = test_tables[table_name]['df']\n",
    "    else:\n",
    "        test_data = None\n",
    "\n",
    "    gen_single_report(\n",
    "        real_data, \n",
    "        syn_data,\n",
    "        domain_dict,\n",
    "        table_name,\n",
    "        save_dir,\n",
    "        alpha_beta_sample_size=200_000,\n",
    "        test_data=test_data\n",
    "    )"
   ]
  },
  {
   "cell_type": "markdown",
   "metadata": {},
   "source": [
    "## References\n",
    "\n",
    "**Pang, Wei, et al.** \"ClavaDDPM: Multi-relational Data Synthesis with Cluster-guided Diffusion Models.\" *preprint* (2024).\n",
    "\n",
    "**GitHub Repository:** [ClavaDDPM](https://github.com/weipang142857/ClavaDDPM)"
   ]
  }
 ],
 "metadata": {
  "kernelspec": {
   "display_name": "diffusion_models",
   "language": "python",
   "name": "diffusion_models"
  },
  "language_info": {
   "codemirror_mode": {
    "name": "ipython",
    "version": 3
   },
   "file_extension": ".py",
   "mimetype": "text/x-python",
   "name": "python",
   "nbconvert_exporter": "python",
   "pygments_lexer": "ipython3",
   "version": "3.9.12"
  }
 },
 "nbformat": 4,
 "nbformat_minor": 2
}
