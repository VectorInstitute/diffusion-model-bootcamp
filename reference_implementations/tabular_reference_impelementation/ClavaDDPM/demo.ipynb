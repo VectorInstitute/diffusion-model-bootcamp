{
 "cells": [
  {
   "cell_type": "code",
   "execution_count": 18,
   "metadata": {},
   "outputs": [],
   "source": [
    "from complex_pipeline import *\n",
    "from gen_single_report import gen_single_report\n",
    "from report_utils import get_multi_metadata"
   ]
  },
  {
   "cell_type": "markdown",
   "metadata": {},
   "source": [
    "### Load Configs\n",
    "A config file is used to control the hyper parameters for ClavaDDPM."
   ]
  },
  {
   "cell_type": "code",
   "execution_count": 19,
   "metadata": {},
   "outputs": [
    {
     "data": {
      "text/plain": [
       "{'general': {'data_dir': 'complex_data/movie_lens/preprocessed/train',\n",
       "  'exp_name': 'movie_lens_train',\n",
       "  'workspace_dir': 'clavaDDPM_workspace/movie_lens',\n",
       "  'sample_prefix': '',\n",
       "  'test_data_dir': 'complex_data/movie_lens/preprocessed/test'},\n",
       " 'clustering': {'parent_scale': 1.0,\n",
       "  'num_clusters': 50,\n",
       "  'clustering_method': 'both'},\n",
       " 'diffusion': {'d_layers': [512, 1024, 1024, 1024, 1024, 512],\n",
       "  'dropout': 0.0,\n",
       "  'num_timesteps': 2000,\n",
       "  'model_type': 'mlp',\n",
       "  'iterations': 200000,\n",
       "  'batch_size': 4096,\n",
       "  'lr': 0.0006,\n",
       "  'gaussian_loss_type': 'mse',\n",
       "  'weight_decay': 1e-05,\n",
       "  'scheduler': 'cosine'},\n",
       " 'classifier': {'d_layers': [128, 256, 512, 1024, 512, 256, 128],\n",
       "  'lr': 0.0001,\n",
       "  'dim_t': 128,\n",
       "  'batch_size': 4096,\n",
       "  'iterations': 20000},\n",
       " 'sampling': {'batch_size': 20000, 'classifier_scale': 1.0},\n",
       " 'matching': {'num_matching_clusters': 1,\n",
       "  'matching_batch_size': 1000,\n",
       "  'unique_matching': True,\n",
       "  'no_matching': False}}"
      ]
     },
     "execution_count": 19,
     "metadata": {},
     "output_type": "execute_result"
    }
   ],
   "source": [
    "config_path = 'configs/movie_lens.json'\n",
    "configs, save_dir = load_configs(config_path)\n",
    "configs"
   ]
  },
  {
   "cell_type": "markdown",
   "metadata": {},
   "source": [
    "### Load Data\n",
    "Datasets need to be stored, and the path needs to be specified in config files."
   ]
  },
  {
   "cell_type": "code",
   "execution_count": 20,
   "metadata": {},
   "outputs": [
    {
     "name": "stdout",
     "output_type": "stream",
     "text": [
      "actor (81895, 2) (81895, 2)\n",
      "Numerical (81895, 1)\n",
      "Categorical (81895, 1)\n",
      "Processing actor Successfully!\n",
      "actor\n",
      "Total 81895\n",
      "Train 81895\n",
      "Num 1\n",
      "Cat 1\n",
      "director (2041, 2) (2041, 2)\n",
      "Numerical (2041, 2)\n",
      "Categorical (2041, 0)\n",
      "Processing director Successfully!\n",
      "director\n",
      "Total 2041\n",
      "Train 2041\n",
      "Num 2\n",
      "Cat 0\n",
      "user (6039, 3) (6039, 3)\n",
      "Numerical (6039, 1)\n",
      "Categorical (6039, 2)\n",
      "Processing user Successfully!\n",
      "user\n",
      "Total 6039\n",
      "Train 6039\n",
      "Num 1\n",
      "Cat 2\n",
      "movie (3650, 4) (3650, 4)\n",
      "Numerical (3650, 2)\n",
      "Categorical (3650, 2)\n",
      "Processing movie Successfully!\n",
      "movie\n",
      "Total 3650\n",
      "Train 3650\n",
      "Num 2\n",
      "Cat 2\n",
      "movie2actor (134122, 1) (134122, 1)\n",
      "Numerical (134122, 1)\n",
      "Categorical (134122, 0)\n",
      "Processing movie2actor Successfully!\n",
      "movie2actor\n",
      "Total 134122\n",
      "Train 134122\n",
      "Num 1\n",
      "Cat 0\n",
      "movie2director (3943, 1) (3943, 1)\n",
      "Numerical (3943, 0)\n",
      "Categorical (3943, 1)\n",
      "Processing movie2director Successfully!\n",
      "movie2director\n",
      "Total 3943\n",
      "Train 3943\n",
      "Num 0\n",
      "Cat 1\n",
      "rating (896543, 1) (896543, 1)\n",
      "Numerical (896543, 1)\n",
      "Categorical (896543, 0)\n",
      "Processing rating Successfully!\n",
      "rating\n",
      "Total 896543\n",
      "Train 896543\n",
      "Num 1\n",
      "Cat 0\n"
     ]
    }
   ],
   "source": [
    "tables, relation_order, dataset_meta = load_multi_table(configs['general']['data_dir'])"
   ]
  },
  {
   "cell_type": "code",
   "execution_count": 21,
   "metadata": {},
   "outputs": [
    {
     "data": {
      "text/plain": [
       "dict_keys(['actor', 'director', 'user', 'movie', 'movie2actor', 'movie2director', 'rating'])"
      ]
     },
     "execution_count": 21,
     "metadata": {},
     "output_type": "execute_result"
    }
   ],
   "source": [
    "# tables is a dictionary of the multi-table dataset\n",
    "tables.keys()"
   ]
  },
  {
   "cell_type": "code",
   "execution_count": 22,
   "metadata": {},
   "outputs": [
    {
     "data": {
      "text/plain": [
       "dict_keys(['df', 'domain', 'children', 'parents', 'original_cols', 'original_df', 'info'])"
      ]
     },
     "execution_count": 22,
     "metadata": {},
     "output_type": "execute_result"
    }
   ],
   "source": [
    "# each entry in tables contains the data and metadata for a table\n",
    "tables['actor'].keys()"
   ]
  },
  {
   "cell_type": "code",
   "execution_count": 23,
   "metadata": {},
   "outputs": [
    {
     "data": {
      "text/plain": [
       "[[None, 'actor'],\n",
       " [None, 'director'],\n",
       " [None, 'movie'],\n",
       " [None, 'user'],\n",
       " ['actor', 'movie2actor'],\n",
       " ['movie', 'movie2actor'],\n",
       " ['movie', 'movie2director'],\n",
       " ['director', 'movie2director'],\n",
       " ['movie', 'rating'],\n",
       " ['user', 'rating']]"
      ]
     },
     "execution_count": 23,
     "metadata": {},
     "output_type": "execute_result"
    }
   ],
   "source": [
    "# relation order is the topological order of the multi-table dataset\n",
    "relation_order"
   ]
  },
  {
   "cell_type": "code",
   "execution_count": null,
   "metadata": {},
   "outputs": [],
   "source": [
    "multi_meta = get_multi_metadata(tables, relation_order)\n",
    "multi_meta.visualize()"
   ]
  },
  {
   "cell_type": "markdown",
   "metadata": {},
   "source": [
    "### Clustering"
   ]
  },
  {
   "cell_type": "code",
   "execution_count": 24,
   "metadata": {},
   "outputs": [
    {
     "name": "stdout",
     "output_type": "stream",
     "text": [
      "Clustering checkpoint found, loading...\n"
     ]
    }
   ],
   "source": [
    "# performs clustering on the multi-table dataset\n",
    "# updates the tables dictionary with augmented tables\n",
    "# computes group size distributions\n",
    "tables, all_group_lengths_prob_dicts = clava_clustering(tables, relation_order, save_dir, configs)"
   ]
  },
  {
   "cell_type": "markdown",
   "metadata": {},
   "source": [
    "### Training\n",
    "Trains all the diffusion models and classifiers"
   ]
  },
  {
   "cell_type": "code",
   "execution_count": 27,
   "metadata": {},
   "outputs": [
    {
     "name": "stdout",
     "output_type": "stream",
     "text": [
      "None -> actor checkpoint found, loading...\n",
      "None -> director checkpoint found, loading...\n",
      "None -> movie checkpoint found, loading...\n",
      "None -> user checkpoint found, loading...\n",
      "actor -> movie2actor checkpoint found, loading...\n",
      "movie -> movie2actor checkpoint found, loading...\n",
      "movie -> movie2director checkpoint found, loading...\n",
      "director -> movie2director checkpoint found, loading...\n",
      "movie -> rating checkpoint found, loading...\n",
      "user -> rating checkpoint found, loading...\n"
     ]
    }
   ],
   "source": [
    "tables, models = clava_training(tables, relation_order, save_dir, configs)"
   ]
  },
  {
   "cell_type": "markdown",
   "metadata": {},
   "source": [
    "### Synthesizing"
   ]
  },
  {
   "cell_type": "code",
   "execution_count": 30,
   "metadata": {},
   "outputs": [
    {
     "name": "stdout",
     "output_type": "stream",
     "text": [
      "Synthetic tables found, loading...\n"
     ]
    }
   ],
   "source": [
    "cleaned_tables, synthesizing_time_spent, matching_time_spent = clava_synthesizing(\n",
    "    tables, \n",
    "    relation_order, \n",
    "    save_dir, \n",
    "    all_group_lengths_prob_dicts, \n",
    "    models,\n",
    "    configs,\n",
    "    sample_scale=1 if not 'debug' in configs else configs['debug']['sample_scale']\n",
    ")"
   ]
  },
  {
   "cell_type": "markdown",
   "metadata": {},
   "source": [
    "### Multi-table Evaluation"
   ]
  },
  {
   "cell_type": "code",
   "execution_count": 31,
   "metadata": {},
   "outputs": [
    {
     "name": "stdout",
     "output_type": "stream",
     "text": [
      "generating multi-table report for clavaDDPM_workspace/movie_lens\n",
      "actor (81895, 2) (81895, 2)\n",
      "Numerical (81895, 1)\n",
      "Categorical (81895, 1)\n",
      "Processing actor Successfully!\n",
      "actor\n",
      "Total 81895\n",
      "Train 81895\n",
      "Num 1\n",
      "Cat 1\n",
      "director (2041, 2) (2041, 2)\n",
      "Numerical (2041, 2)\n",
      "Categorical (2041, 0)\n",
      "Processing director Successfully!\n",
      "director\n",
      "Total 2041\n",
      "Train 2041\n",
      "Num 2\n",
      "Cat 0\n",
      "user (6039, 3) (6039, 3)\n",
      "Numerical (6039, 1)\n",
      "Categorical (6039, 2)\n",
      "Processing user Successfully!\n",
      "user\n",
      "Total 6039\n",
      "Train 6039\n",
      "Num 1\n",
      "Cat 2\n",
      "movie (3650, 4) (3650, 4)\n",
      "Numerical (3650, 2)\n",
      "Categorical (3650, 2)\n",
      "Processing movie Successfully!\n",
      "movie\n",
      "Total 3650\n",
      "Train 3650\n",
      "Num 2\n",
      "Cat 2\n",
      "movie2actor (134122, 1) (134122, 1)\n",
      "Numerical (134122, 1)\n",
      "Categorical (134122, 0)\n",
      "Processing movie2actor Successfully!\n",
      "movie2actor\n",
      "Total 134122\n",
      "Train 134122\n",
      "Num 1\n",
      "Cat 0\n",
      "movie2director (3943, 1) (3943, 1)\n",
      "Numerical (3943, 0)\n",
      "Categorical (3943, 1)\n",
      "Processing movie2director Successfully!\n",
      "movie2director\n",
      "Total 3943\n",
      "Train 3943\n",
      "Num 0\n",
      "Cat 1\n",
      "rating (896543, 1) (896543, 1)\n",
      "Numerical (896543, 1)\n",
      "Categorical (896543, 0)\n",
      "Processing rating Successfully!\n",
      "rating\n",
      "Total 896543\n",
      "Train 896543\n",
      "Num 1\n",
      "Cat 0\n",
      "Generating report ...\n",
      "(1/4) Evaluating Column Shapes: : 100%|██████████| 27/27 [00:00<00:00, 73.13it/s]\n",
      "(2/4) Evaluating Column Pair Trends: : 100%|██████████| 40/40 [00:00<00:00, 61.42it/s]\n",
      "(3/4) Evaluating Cardinality: : 100%|██████████| 6/6 [00:00<00:00, 29.27it/s]\n",
      "(4/4) Evaluating Intertable Trends: : 100%|██████████| 100/100 [00:07<00:00, 14.04it/s]\n",
      "\n",
      "Overall Score: 98.33%\n",
      "\n",
      "Properties:\n",
      "- Column Shapes: 99.35%\n",
      "- Column Pair Trends: 99.08%\n",
      "- Cardinality: 98.73%\n",
      "- Intertable Trends: 96.15%\n",
      "Long Range Scores: {1: 0.9614932909503697, 0: 0.9908034140793881}\n",
      "All avg scores:  0.9722403360976766\n"
     ]
    }
   ],
   "source": [
    "report = clava_eval(tables, save_dir, configs, relation_order, cleaned_tables)"
   ]
  },
  {
   "cell_type": "markdown",
   "metadata": {},
   "source": [
    "### Single table metrics"
   ]
  },
  {
   "cell_type": "code",
   "execution_count": 32,
   "metadata": {},
   "outputs": [
    {
     "name": "stdout",
     "output_type": "stream",
     "text": [
      "actor (16795, 2) (16795, 2)\n",
      "Numerical (16795, 1)\n",
      "Categorical (16795, 1)\n",
      "Processing actor Successfully!\n",
      "actor\n",
      "Total 16795\n",
      "Train 16795\n",
      "Num 1\n",
      "Cat 1\n",
      "director (160, 2) (160, 2)\n",
      "Numerical (160, 2)\n",
      "Categorical (160, 0)\n",
      "Processing director Successfully!\n",
      "director\n",
      "Total 160\n",
      "Train 160\n",
      "Num 2\n",
      "Cat 0\n",
      "user (0, 3) (0, 3)\n",
      "Numerical (0, 1)\n",
      "Categorical (0, 2)\n",
      "Processing user Successfully!\n",
      "user\n",
      "Total 0\n",
      "Train 0\n",
      "Num 1\n",
      "Cat 2\n",
      "movie (182, 4) (182, 4)\n",
      "Numerical (182, 2)\n",
      "Categorical (182, 2)\n",
      "Processing movie Successfully!\n",
      "movie\n",
      "Total 182\n",
      "Train 182\n",
      "Num 2\n",
      "Cat 2\n",
      "movie2actor (4227, 1) (4227, 1)\n",
      "Numerical (4227, 1)\n",
      "Categorical (4227, 0)\n",
      "Processing movie2actor Successfully!\n",
      "movie2actor\n",
      "Total 4227\n",
      "Train 4227\n",
      "Num 1\n",
      "Cat 0\n",
      "movie2director (198, 1) (198, 1)\n",
      "Numerical (198, 0)\n",
      "Categorical (198, 1)\n",
      "Processing movie2director Successfully!\n",
      "movie2director\n",
      "Total 198\n",
      "Train 198\n",
      "Num 0\n",
      "Cat 1\n",
      "rating (99616, 1) (99616, 1)\n",
      "Numerical (99616, 1)\n",
      "Categorical (99616, 0)\n",
      "Processing rating Successfully!\n",
      "rating\n",
      "Total 99616\n",
      "Train 99616\n",
      "Num 1\n",
      "Cat 0\n",
      "actor (81895, 2) (81895, 2)\n",
      "Numerical (81895, 1)\n",
      "Categorical (81895, 1)\n",
      "Processing actor Successfully!\n",
      "actor\n",
      "Total 81895\n",
      "Train 81895\n",
      "Num 1\n",
      "Cat 1\n",
      "director (2041, 2) (2041, 2)\n",
      "Numerical (2041, 2)\n",
      "Categorical (2041, 0)\n",
      "Processing director Successfully!\n",
      "director\n",
      "Total 2041\n",
      "Train 2041\n",
      "Num 2\n",
      "Cat 0\n",
      "user (6039, 3) (6039, 3)\n",
      "Numerical (6039, 1)\n",
      "Categorical (6039, 2)\n",
      "Processing user Successfully!\n",
      "user\n",
      "Total 6039\n",
      "Train 6039\n",
      "Num 1\n",
      "Cat 2\n",
      "movie (3650, 4) (3650, 4)\n",
      "Numerical (3650, 2)\n",
      "Categorical (3650, 2)\n",
      "Processing movie Successfully!\n",
      "movie\n",
      "Total 3650\n",
      "Train 3650\n",
      "Num 2\n",
      "Cat 2\n",
      "movie2actor (134122, 1) (134122, 1)\n",
      "Numerical (134122, 1)\n",
      "Categorical (134122, 0)\n",
      "Processing movie2actor Successfully!\n",
      "movie2actor\n",
      "Total 134122\n",
      "Train 134122\n",
      "Num 1\n",
      "Cat 0\n",
      "movie2director (3943, 1) (3943, 1)\n",
      "Numerical (3943, 0)\n",
      "Categorical (3943, 1)\n",
      "Processing movie2director Successfully!\n",
      "movie2director\n",
      "Total 3943\n",
      "Train 3943\n",
      "Num 0\n",
      "Cat 1\n",
      "rating (896543, 1) (896543, 1)\n",
      "Numerical (896543, 1)\n",
      "Categorical (896543, 0)\n",
      "Processing rating Successfully!\n",
      "rating\n",
      "Total 896543\n",
      "Train 896543\n",
      "Num 1\n",
      "Cat 0\n",
      "Generating report for actor\n",
      "alpha: 0.7463084844414596, beta: 0.752809491828968\n",
      "\n",
      "(0.8105102871914728, -5.317278358986889)\n",
      "\n",
      "Detection Score: 0.9985651453191885\n",
      "\n",
      "Generating report for director\n",
      "alpha: 0.5673362730687572, beta: 0.5946431487832762\n",
      "\n",
      "(None, -4.4797440759955505)\n",
      "\n",
      "Detection Score: 1.0\n",
      "\n",
      "Generating report for user\n",
      "alpha: 0.9659987856709168, beta: 0.9676215709002595\n",
      "\n",
      "Detection Score: 1.0\n",
      "\n",
      "Generating report for movie\n",
      "alpha: 0.9056803652968037, beta: 0.9008534089119824\n",
      "\n",
      "(0.6212633319292089, -0.18759414281933662)\n",
      "\n",
      "Detection Score: 1.0\n",
      "\n",
      "Generating report for movie2actor\n",
      "Detection Score: 0.9952458932210023\n",
      "\n",
      "Generating report for movie2director\n",
      "Detection Score: 1.0\n",
      "\n",
      "Generating report for rating\n",
      "Detection Score: 0.9990316456907712\n",
      "\n"
     ]
    }
   ],
   "source": [
    "test_tables, _, _ = load_multi_table(configs['general']['test_data_dir'])\n",
    "real_tables, _, _ = load_multi_table(configs['general']['data_dir'])\n",
    "\n",
    "for table_name in tables.keys():\n",
    "    print(f'Generating report for {table_name}')\n",
    "    real_data = real_tables[table_name]['df']\n",
    "    syn_data = cleaned_tables[table_name]\n",
    "    domain_dict = real_tables[table_name]['domain']\n",
    "\n",
    "    if configs['general']['test_data_dir'] is not None:\n",
    "        test_data = test_tables[table_name]['df']\n",
    "    else:\n",
    "        test_data = None\n",
    "\n",
    "    gen_single_report(\n",
    "        real_data, \n",
    "        syn_data,\n",
    "        domain_dict,\n",
    "        table_name,\n",
    "        save_dir,\n",
    "        alpha_beta_sample_size=200_000,\n",
    "        test_data=test_data\n",
    "    )"
   ]
  }
 ],
 "metadata": {
  "kernelspec": {
   "display_name": "tabsyn_eval",
   "language": "python",
   "name": "python3"
  },
  "language_info": {
   "codemirror_mode": {
    "name": "ipython",
    "version": 3
   },
   "file_extension": ".py",
   "mimetype": "text/x-python",
   "name": "python",
   "nbconvert_exporter": "python",
   "pygments_lexer": "ipython3",
   "version": "3.10.13"
  }
 },
 "nbformat": 4,
 "nbformat_minor": 2
}
