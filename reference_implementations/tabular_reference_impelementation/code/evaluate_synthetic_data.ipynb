{
 "cells": [
  {
   "cell_type": "code",
   "execution_count": null,
   "id": "healthy-vermont",
   "metadata": {},
   "outputs": [],
   "source": []
  },
  {
   "cell_type": "code",
   "execution_count": 1,
   "id": "searching-cable",
   "metadata": {},
   "outputs": [],
   "source": [
    "import pandas as pd\n",
    "import os\n",
    "\n",
    "import json\n",
    "\n",
    "dataname = \"adult\"\n",
    "\n",
    "DATA_DIR = \"/projects/aieng/diffusion_bootcamp/data/tabular\"\n",
    "\n",
    "TRAIN_DATA_PATH = f\"{DATA_DIR}/processed_data/{dataname}/train.csv\"\n",
    "TABDDPM_DATA_PATH = f\"{DATA_DIR}/synthetic_data/{dataname}/tabddpm.csv\"\n",
    "TABSYN_DATA_PATH = f\"{DATA_DIR}/synthetic_data/{dataname}/tabsyn.csv\"\n",
    "INFO_PATH = f\"{DATA_DIR}/processed_data/{dataname}/info.json\""
   ]
  },
  {
   "cell_type": "markdown",
   "id": "lesser-virus",
   "metadata": {},
   "source": [
    "# Density estimation of single column and pair-wise correlation"
   ]
  },
  {
   "cell_type": "code",
   "execution_count": 2,
   "id": "sexual-vehicle",
   "metadata": {},
   "outputs": [
    {
     "name": "stdout",
     "output_type": "stream",
     "text": [
      "Generating report ...\n",
      "(1/2) Evaluating Column Shapes: : 100%|██████████| 15/15 [00:00<00:00, 35.12it/s]\n",
      "(2/2) Evaluating Column Pair Trends: : 100%|██████████| 105/105 [00:10<00:00,  9.83it/s]\n",
      "\n",
      "Overall Score: 97.7%\n",
      "\n",
      "Properties:\n",
      "- Column Shapes: 98.74%\n",
      "- Column Pair Trends: 96.66%\n",
      "Shape: 0.9873591105924265\n",
      "Trend: 0.966559787481687\n"
     ]
    }
   ],
   "source": [
    "from scripts.eval.eval_density import eval_density\n",
    "\n",
    "shape, trend = eval_density(TABDDPM_DATA_PATH, TRAIN_DATA_PATH, INFO_PATH)\n",
    "print(\"Shape:\", shape)\n",
    "print(\"Trend:\", trend)"
   ]
  },
  {
   "cell_type": "markdown",
   "id": "tight-genome",
   "metadata": {},
   "source": [
    "# Alpha Precision and Beta Recall "
   ]
  },
  {
   "cell_type": "code",
   "execution_count": 4,
   "id": "faced-accuracy",
   "metadata": {},
   "outputs": [
    {
     "name": "stdout",
     "output_type": "stream",
     "text": [
      "/projects/aieng/diffusion_bootcamp/data/tabular/synthetic_data/adult/tabddpm.csv\n",
      "=========== All Features ===========\n",
      "Data shape:  (32561, 110)\n",
      "Alpha precision: 0.9651710123562953\n",
      "Beta recall: 0.4771556975113378\n"
     ]
    }
   ],
   "source": [
    "from scripts.eval.eval_quality import eval_quality\n",
    "\n",
    "alpha_precision_all, beta_recall_all = eval_quality(TABDDPM_DATA_PATH, TRAIN_DATA_PATH, INFO_PATH)\n",
    "print(\"Alpha precision:\", alpha_precision_all)\n",
    "print(\"Beta recall:\", beta_recall_all)"
   ]
  },
  {
   "cell_type": "markdown",
   "id": "august-duncan",
   "metadata": {},
   "source": [
    "# Machine Learning Efficiency"
   ]
  },
  {
   "cell_type": "code",
   "execution_count": 2,
   "id": "classified-editing",
   "metadata": {},
   "outputs": [
    {
     "name": "stderr",
     "output_type": "stream",
     "text": [
      "100%|██████████| 36/36 [00:16<00:00,  2.22it/s]\n"
     ]
    },
    {
     "name": "stdout",
     "output_type": "stream",
     "text": [
      "Overall score: {'best_f1_scores': {'XGBClassifier': {'binary_f1': 0.6532025389497981, 'roc_auc': 0.9083430454762516, 'weighted_f1': 0.7141267474594608, 'accuracy': 0.852338687386751}}, 'best_weighted_scores': {'XGBClassifier': {'binary_f1': 0.6532025389497981, 'roc_auc': 0.9083430454762516, 'weighted_f1': 0.7141267474594608, 'accuracy': 0.852338687386751}}, 'best_auroc_scores': {'XGBClassifier': {'binary_f1': 0.6490181818181818, 'roc_auc': 0.908542341744436, 'weighted_f1': 0.7109157724173067, 'accuracy': 0.8517858788120758}}, 'best_acc_scores': {'XGBClassifier': {'binary_f1': 0.6532025389497981, 'roc_auc': 0.9083430454762516, 'weighted_f1': 0.7141267474594608, 'accuracy': 0.852338687386751}}, 'best_avg_scores': {'XGBClassifier': {'binary_f1': 0.6532025389497981, 'roc_auc': 0.9083430454762516, 'weighted_f1': 0.7141267474594608, 'accuracy': 0.852338687386751}}}\n"
     ]
    }
   ],
   "source": [
    "from scripts.eval.eval_mle import eval_mle\n",
    "\n",
    "overall_score = eval_mle(TABDDPM_DATA_PATH, TRAIN_DATA_PATH, INFO_PATH)\n",
    "print(\"Overall score:\", overall_score)"
   ]
  },
  {
   "cell_type": "code",
   "execution_count": null,
   "id": "compressed-executive",
   "metadata": {},
   "outputs": [],
   "source": []
  },
  {
   "cell_type": "code",
   "execution_count": null,
   "id": "opponent-persian",
   "metadata": {},
   "outputs": [],
   "source": []
  }
 ],
 "metadata": {
  "kernelspec": {
   "display_name": "diffusion_models",
   "language": "python",
   "name": "diffusion_models"
  },
  "language_info": {
   "codemirror_mode": {
    "name": "ipython",
    "version": 3
   },
   "file_extension": ".py",
   "mimetype": "text/x-python",
   "name": "python",
   "nbconvert_exporter": "python",
   "pygments_lexer": "ipython3",
   "version": "3.9.18"
  }
 },
 "nbformat": 4,
 "nbformat_minor": 5
}
