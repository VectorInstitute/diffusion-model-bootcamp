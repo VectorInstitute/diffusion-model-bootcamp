{
 "cells": [
  {
   "cell_type": "code",
   "execution_count": 15,
   "id": "american-branch",
   "metadata": {
    "scrolled": true
   },
   "outputs": [
    {
     "name": "stdout",
     "output_type": "stream",
     "text": [
      "Found existing installation: synthcity 0.2.6\n",
      "Uninstalling synthcity-0.2.6:\n",
      "  Successfully uninstalled synthcity-0.2.6\n"
     ]
    }
   ],
   "source": [
    "!pip uninstall -y synthcity"
   ]
  },
  {
   "cell_type": "code",
   "execution_count": 16,
   "id": "greek-slovak",
   "metadata": {},
   "outputs": [
    {
     "name": "stdout",
     "output_type": "stream",
     "text": [
      "Found existing installation: optuna 3.6.1\n",
      "Uninstalling optuna-3.6.1:\n",
      "  Successfully uninstalled optuna-3.6.1\n"
     ]
    }
   ],
   "source": [
    "!pip uninstall -y optuna"
   ]
  },
  {
   "cell_type": "code",
   "execution_count": 17,
   "id": "according-mouth",
   "metadata": {},
   "outputs": [
    {
     "name": "stdout",
     "output_type": "stream",
     "text": [
      "Found existing installation: numba 0.56.4\n",
      "Uninstalling numba-0.56.4:\n",
      "  Successfully uninstalled numba-0.56.4\n"
     ]
    }
   ],
   "source": [
    "!pip uninstall -y numba"
   ]
  },
  {
   "cell_type": "code",
   "execution_count": 19,
   "id": "accurate-carol",
   "metadata": {},
   "outputs": [
    {
     "name": "stdout",
     "output_type": "stream",
     "text": [
      "Found existing installation: torchtext 0.14.1\n",
      "Uninstalling torchtext-0.14.1:\n",
      "  Successfully uninstalled torchtext-0.14.1\n"
     ]
    }
   ],
   "source": [
    "!pip uninstall -y torchtext"
   ]
  },
  {
   "cell_type": "code",
   "execution_count": 20,
   "id": "renewable-broadcast",
   "metadata": {},
   "outputs": [
    {
     "name": "stdout",
     "output_type": "stream",
     "text": [
      "Found existing installation: pytorch-lightning 1.9.5\n",
      "Uninstalling pytorch-lightning-1.9.5:\n",
      "  Successfully uninstalled pytorch-lightning-1.9.5\n"
     ]
    }
   ],
   "source": [
    "!pip uninstall -y pytorch_lightning"
   ]
  },
  {
   "cell_type": "code",
   "execution_count": 22,
   "id": "offshore-cooperation",
   "metadata": {},
   "outputs": [
    {
     "name": "stdout",
     "output_type": "stream",
     "text": [
      "Found existing installation: monai 1.1.0\n",
      "Uninstalling monai-1.1.0:\n",
      "  Successfully uninstalled monai-1.1.0\n"
     ]
    }
   ],
   "source": [
    "!pip uninstall -y monai"
   ]
  },
  {
   "cell_type": "code",
   "execution_count": null,
   "id": "artistic-crazy",
   "metadata": {},
   "outputs": [],
   "source": []
  },
  {
   "cell_type": "code",
   "execution_count": null,
   "id": "thick-pendant",
   "metadata": {},
   "outputs": [],
   "source": []
  },
  {
   "cell_type": "code",
   "execution_count": 24,
   "id": "organic-musician",
   "metadata": {},
   "outputs": [
    {
     "name": "stdout",
     "output_type": "stream",
     "text": [
      "Defaulting to user installation because normal site-packages is not writeable\n",
      "Looking in indexes: https://pypi.org/simple, https://download.pytorch.org/whl/cu117\n",
      "Collecting torch==1.13.1+cu117\n",
      "  Using cached https://download.pytorch.org/whl/cu117/torch-1.13.1%2Bcu117-cp37-cp37m-linux_x86_64.whl (1801.9 MB)\n",
      "Collecting torchvision==0.14.1+cu117\n",
      "  Using cached https://download.pytorch.org/whl/cu117/torchvision-0.14.1%2Bcu117-cp37-cp37m-linux_x86_64.whl (24.3 MB)\n",
      "Collecting torchaudio==0.13.1\n",
      "  Using cached https://download.pytorch.org/whl/cu117/torchaudio-0.13.1%2Bcu117-cp37-cp37m-linux_x86_64.whl (4.2 MB)\n",
      "Requirement already satisfied: typing-extensions in /fs01/home/sayromlou/.local/lib/python3.7/site-packages (from torch==1.13.1+cu117) (4.7.1)\n",
      "Requirement already satisfied: pillow!=8.3.*,>=5.3.0 in /fs01/home/sayromlou/.local/lib/python3.7/site-packages (from torchvision==0.14.1+cu117) (9.5.0)\n",
      "Requirement already satisfied: requests in /fs01/pkgs/jupyterhub/lib/python3.7/site-packages (from torchvision==0.14.1+cu117) (2.25.1)\n",
      "Requirement already satisfied: numpy in /fs01/home/sayromlou/.local/lib/python3.7/site-packages (from torchvision==0.14.1+cu117) (1.21.6)\n",
      "Requirement already satisfied: urllib3<1.27,>=1.21.1 in /fs01/pkgs/jupyterhub/lib/python3.7/site-packages (from requests->torchvision==0.14.1+cu117) (1.26.4)\n",
      "Requirement already satisfied: idna<3,>=2.5 in /fs01/pkgs/jupyterhub/lib/python3.7/site-packages (from requests->torchvision==0.14.1+cu117) (2.10)\n",
      "Requirement already satisfied: chardet<5,>=3.0.2 in /fs01/pkgs/jupyterhub/lib/python3.7/site-packages (from requests->torchvision==0.14.1+cu117) (4.0.0)\n",
      "Requirement already satisfied: certifi>=2017.4.17 in /fs01/pkgs/jupyterhub/lib/python3.7/site-packages (from requests->torchvision==0.14.1+cu117) (2020.12.5)\n",
      "Installing collected packages: torch, torchvision, torchaudio\n",
      "  Attempting uninstall: torch\n",
      "    Found existing installation: torch 1.13.1\n",
      "    Uninstalling torch-1.13.1:\n",
      "      Successfully uninstalled torch-1.13.1\n",
      "\u001b[33m  WARNING: The scripts convert-caffe2-to-onnx, convert-onnx-to-caffe2 and torchrun are installed in '/h/sayromlou/.local/bin' which is not on PATH.\n",
      "  Consider adding this directory to PATH or, if you prefer to suppress this warning, use --no-warn-script-location.\u001b[0m\n",
      "\u001b[31mERROR: pip's dependency resolver does not currently take into account all the packages that are installed. This behaviour is the source of the following dependency conflicts.\n",
      "decaf-synthetic-data 0.1.6 requires pytorch-lightning<2.0, which is not installed.\n",
      "decaf-synthetic-data 0.1.6 requires torchtext>=0.10, which is not installed.\u001b[0m\n",
      "Successfully installed torch-1.13.1+cu117 torchaudio-0.13.1+cu117 torchvision-0.14.1+cu117\n"
     ]
    }
   ],
   "source": [
    "!pip install torch==1.13.1+cu117 torchvision==0.14.1+cu117 torchaudio==0.13.1 --extra-index-url https://download.pytorch.org/whl/cu117"
   ]
  },
  {
   "cell_type": "code",
   "execution_count": 25,
   "id": "registered-illinois",
   "metadata": {},
   "outputs": [
    {
     "name": "stdout",
     "output_type": "stream",
     "text": [
      "Defaulting to user installation because normal site-packages is not writeable\n",
      "Collecting synthcity\n",
      "  Using cached synthcity-0.2.6-py3-none-any.whl (355 kB)\n",
      "Requirement already satisfied: pydantic in /fs01/home/sayromlou/.local/lib/python3.7/site-packages (from synthcity) (2.5.3)\n",
      "Requirement already satisfied: importlib-metadata in /fs01/home/sayromlou/.local/lib/python3.7/site-packages (from synthcity) (6.7.0)\n",
      "Requirement already satisfied: decaf-synthetic-data>=0.1.6 in /fs01/home/sayromlou/.local/lib/python3.7/site-packages (from synthcity) (0.1.6)\n",
      "Requirement already satisfied: cloudpickle in /fs01/home/sayromlou/.local/lib/python3.7/site-packages (from synthcity) (2.2.1)\n",
      "Requirement already satisfied: redis in /fs01/home/sayromlou/.local/lib/python3.7/site-packages (from synthcity) (5.0.6)\n",
      "Requirement already satisfied: torch<2.0,>=1.10.0 in /fs01/home/sayromlou/.local/lib/python3.7/site-packages (from synthcity) (1.13.1+cu117)\n",
      "Requirement already satisfied: pykeops in /fs01/home/sayromlou/.local/lib/python3.7/site-packages (from synthcity) (2.2.2)\n",
      "Requirement already satisfied: scipy in /fs01/home/sayromlou/.local/lib/python3.7/site-packages (from synthcity) (1.7.3)\n",
      "Requirement already satisfied: shap in /fs01/home/sayromlou/.local/lib/python3.7/site-packages (from synthcity) (0.42.1)\n",
      "Requirement already satisfied: scikit-learn>=1.0 in /fs01/home/sayromlou/.local/lib/python3.7/site-packages (from synthcity) (1.0.2)\n",
      "Requirement already satisfied: loguru in /fs01/home/sayromlou/.local/lib/python3.7/site-packages (from synthcity) (0.7.2)\n",
      "Requirement already satisfied: opacus>=1.3 in /fs01/home/sayromlou/.local/lib/python3.7/site-packages (from synthcity) (1.4.0)\n",
      "Requirement already satisfied: pycox in /fs01/home/sayromlou/.local/lib/python3.7/site-packages (from synthcity) (0.2.3)\n",
      "Requirement already satisfied: numpy>=1.20 in /fs01/home/sayromlou/.local/lib/python3.7/site-packages (from synthcity) (1.21.6)\n",
      "Requirement already satisfied: fflows in /fs01/home/sayromlou/.local/lib/python3.7/site-packages (from synthcity) (0.0.3)\n",
      "Collecting optuna>=3.1\n",
      "  Using cached optuna-3.6.1-py3-none-any.whl (380 kB)\n",
      "Requirement already satisfied: xgbse in /fs01/home/sayromlou/.local/lib/python3.7/site-packages (from synthcity) (0.2.3)\n",
      "Requirement already satisfied: nflows>=0.14 in /fs01/home/sayromlou/.local/lib/python3.7/site-packages (from synthcity) (0.14)\n",
      "Requirement already satisfied: pandas<2.0,>=1.3 in /fs01/home/sayromlou/.local/lib/python3.7/site-packages (from synthcity) (1.3.5)\n",
      "Requirement already satisfied: pgmpy in /fs01/home/sayromlou/.local/lib/python3.7/site-packages (from synthcity) (0.1.25)\n",
      "Collecting monai\n",
      "  Using cached monai-1.1.0-202212191849-py3-none-any.whl (1.2 MB)\n",
      "Requirement already satisfied: tqdm in /fs01/home/sayromlou/.local/lib/python3.7/site-packages (from synthcity) (4.66.4)\n",
      "Requirement already satisfied: geomloss in /fs01/home/sayromlou/.local/lib/python3.7/site-packages (from synthcity) (0.2.6)\n",
      "Requirement already satisfied: lifelines>=0.27 in /fs01/home/sayromlou/.local/lib/python3.7/site-packages (from synthcity) (0.27.8)\n",
      "Requirement already satisfied: xgboost in /fs01/home/sayromlou/.local/lib/python3.7/site-packages (from synthcity) (1.6.2)\n",
      "Collecting torchtext>=0.10\n",
      "  Using cached torchtext-0.14.1-cp37-cp37m-manylinux1_x86_64.whl (2.0 MB)\n",
      "Collecting pytorch-lightning<2.0\n",
      "  Using cached pytorch_lightning-1.9.5-py3-none-any.whl (829 kB)\n",
      "Requirement already satisfied: networkx<3.0,>=2.0 in /fs01/home/sayromlou/.local/lib/python3.7/site-packages (from decaf-synthetic-data>=0.1.6->synthcity) (2.6.3)\n",
      "Requirement already satisfied: formulaic>=0.2.2 in /fs01/home/sayromlou/.local/lib/python3.7/site-packages (from lifelines>=0.27->synthcity) (1.0.1)\n",
      "Requirement already satisfied: autograd-gamma>=0.3 in /fs01/home/sayromlou/.local/lib/python3.7/site-packages (from lifelines>=0.27->synthcity) (0.5.0)\n",
      "Requirement already satisfied: autograd>=1.5 in /fs01/home/sayromlou/.local/lib/python3.7/site-packages (from lifelines>=0.27->synthcity) (1.6.2)\n",
      "Requirement already satisfied: matplotlib>=3.0 in /fs01/home/sayromlou/.local/lib/python3.7/site-packages (from lifelines>=0.27->synthcity) (3.5.3)\n",
      "Requirement already satisfied: future>=0.15.2 in /fs01/home/sayromlou/.local/lib/python3.7/site-packages (from autograd>=1.5->lifelines>=0.27->synthcity) (1.0.0)\n",
      "Requirement already satisfied: interface-meta>=1.2.0 in /fs01/home/sayromlou/.local/lib/python3.7/site-packages (from formulaic>=0.2.2->lifelines>=0.27->synthcity) (1.3.0)\n",
      "Requirement already satisfied: graphlib-backport>=1.0.0 in /fs01/home/sayromlou/.local/lib/python3.7/site-packages (from formulaic>=0.2.2->lifelines>=0.27->synthcity) (1.1.0)\n",
      "Requirement already satisfied: typing-extensions>=4.2.0 in /fs01/home/sayromlou/.local/lib/python3.7/site-packages (from formulaic>=0.2.2->lifelines>=0.27->synthcity) (4.7.1)\n",
      "Requirement already satisfied: astor>=0.8 in /fs01/home/sayromlou/.local/lib/python3.7/site-packages (from formulaic>=0.2.2->lifelines>=0.27->synthcity) (0.8.1)\n",
      "Requirement already satisfied: wrapt>=1.0 in /fs01/home/sayromlou/.local/lib/python3.7/site-packages (from formulaic>=0.2.2->lifelines>=0.27->synthcity) (1.16.0)\n",
      "Requirement already satisfied: cached-property>=1.3.0 in /fs01/home/sayromlou/.local/lib/python3.7/site-packages (from formulaic>=0.2.2->lifelines>=0.27->synthcity) (1.5.2)\n",
      "Requirement already satisfied: packaging>=20.0 in /fs01/home/sayromlou/.local/lib/python3.7/site-packages (from matplotlib>=3.0->lifelines>=0.27->synthcity) (24.0)\n",
      "Requirement already satisfied: fonttools>=4.22.0 in /fs01/home/sayromlou/.local/lib/python3.7/site-packages (from matplotlib>=3.0->lifelines>=0.27->synthcity) (4.38.0)\n",
      "Requirement already satisfied: pyparsing>=2.2.1 in /fs01/pkgs/jupyterhub/lib/python3.7/site-packages (from matplotlib>=3.0->lifelines>=0.27->synthcity) (2.4.7)\n",
      "Requirement already satisfied: kiwisolver>=1.0.1 in /fs01/home/sayromlou/.local/lib/python3.7/site-packages (from matplotlib>=3.0->lifelines>=0.27->synthcity) (1.4.5)\n",
      "Requirement already satisfied: cycler>=0.10 in /fs01/home/sayromlou/.local/lib/python3.7/site-packages (from matplotlib>=3.0->lifelines>=0.27->synthcity) (0.11.0)\n",
      "Requirement already satisfied: pillow>=6.2.0 in /fs01/home/sayromlou/.local/lib/python3.7/site-packages (from matplotlib>=3.0->lifelines>=0.27->synthcity) (9.5.0)\n",
      "Requirement already satisfied: python-dateutil>=2.7 in /fs01/pkgs/jupyterhub/lib/python3.7/site-packages (from matplotlib>=3.0->lifelines>=0.27->synthcity) (2.8.1)\n",
      "Requirement already satisfied: tensorboard in /fs01/home/sayromlou/.local/lib/python3.7/site-packages (from nflows>=0.14->synthcity) (2.11.2)\n",
      "Requirement already satisfied: opt-einsum>=3.3.0 in /fs01/home/sayromlou/.local/lib/python3.7/site-packages (from opacus>=1.3->synthcity) (3.3.0)\n",
      "Requirement already satisfied: colorlog in /fs01/home/sayromlou/.local/lib/python3.7/site-packages (from optuna>=3.1->synthcity) (6.8.2)\n",
      "Requirement already satisfied: sqlalchemy>=1.3.0 in /fs01/pkgs/jupyterhub/lib/python3.7/site-packages (from optuna>=3.1->synthcity) (1.4.1)\n",
      "Requirement already satisfied: alembic>=1.5.0 in /fs01/pkgs/jupyterhub/lib/python3.7/site-packages (from optuna>=3.1->synthcity) (1.5.7)\n",
      "Requirement already satisfied: PyYAML in /fs01/home/sayromlou/.local/lib/python3.7/site-packages (from optuna>=3.1->synthcity) (6.0.1)\n",
      "Requirement already satisfied: python-editor>=0.3 in /fs01/pkgs/jupyterhub/lib/python3.7/site-packages (from alembic>=1.5.0->optuna>=3.1->synthcity) (1.0.4)\n",
      "Requirement already satisfied: Mako in /fs01/pkgs/jupyterhub/lib/python3.7/site-packages (from alembic>=1.5.0->optuna>=3.1->synthcity) (1.1.4)\n",
      "Requirement already satisfied: pytz>=2017.3 in /fs01/pkgs/jupyterhub/lib/python3.7/site-packages (from pandas<2.0,>=1.3->synthcity) (2021.1)\n",
      "Requirement already satisfied: six>=1.5 in /fs01/pkgs/jupyterhub/lib/python3.7/site-packages (from python-dateutil>=2.7->matplotlib>=3.0->lifelines>=0.27->synthcity) (1.15.0)\n",
      "Requirement already satisfied: torchmetrics>=0.7.0 in /fs01/home/sayromlou/.local/lib/python3.7/site-packages (from pytorch-lightning<2.0->decaf-synthetic-data>=0.1.6->synthcity) (0.11.4)\n",
      "Requirement already satisfied: lightning-utilities>=0.6.0.post0 in /fs01/home/sayromlou/.local/lib/python3.7/site-packages (from pytorch-lightning<2.0->decaf-synthetic-data>=0.1.6->synthcity) (0.10.1)\n",
      "Requirement already satisfied: fsspec[http]>2021.06.0 in /fs01/home/sayromlou/.local/lib/python3.7/site-packages (from pytorch-lightning<2.0->decaf-synthetic-data>=0.1.6->synthcity) (2023.1.0)\n"
     ]
    },
    {
     "name": "stdout",
     "output_type": "stream",
     "text": [
      "Requirement already satisfied: aiohttp!=4.0.0a0,!=4.0.0a1 in /fs01/home/sayromlou/.local/lib/python3.7/site-packages (from fsspec[http]>2021.06.0->pytorch-lightning<2.0->decaf-synthetic-data>=0.1.6->synthcity) (3.8.6)\n",
      "Requirement already satisfied: requests in /fs01/pkgs/jupyterhub/lib/python3.7/site-packages (from fsspec[http]>2021.06.0->pytorch-lightning<2.0->decaf-synthetic-data>=0.1.6->synthcity) (2.25.1)\n",
      "Requirement already satisfied: charset-normalizer<4.0,>=2.0 in /fs01/home/sayromlou/.local/lib/python3.7/site-packages (from aiohttp!=4.0.0a0,!=4.0.0a1->fsspec[http]>2021.06.0->pytorch-lightning<2.0->decaf-synthetic-data>=0.1.6->synthcity) (3.3.2)\n",
      "Requirement already satisfied: multidict<7.0,>=4.5 in /fs01/home/sayromlou/.local/lib/python3.7/site-packages (from aiohttp!=4.0.0a0,!=4.0.0a1->fsspec[http]>2021.06.0->pytorch-lightning<2.0->decaf-synthetic-data>=0.1.6->synthcity) (6.0.5)\n",
      "Requirement already satisfied: yarl<2.0,>=1.0 in /fs01/home/sayromlou/.local/lib/python3.7/site-packages (from aiohttp!=4.0.0a0,!=4.0.0a1->fsspec[http]>2021.06.0->pytorch-lightning<2.0->decaf-synthetic-data>=0.1.6->synthcity) (1.9.4)\n",
      "Requirement already satisfied: aiosignal>=1.1.2 in /fs01/home/sayromlou/.local/lib/python3.7/site-packages (from aiohttp!=4.0.0a0,!=4.0.0a1->fsspec[http]>2021.06.0->pytorch-lightning<2.0->decaf-synthetic-data>=0.1.6->synthcity) (1.3.1)\n",
      "Requirement already satisfied: frozenlist>=1.1.1 in /fs01/home/sayromlou/.local/lib/python3.7/site-packages (from aiohttp!=4.0.0a0,!=4.0.0a1->fsspec[http]>2021.06.0->pytorch-lightning<2.0->decaf-synthetic-data>=0.1.6->synthcity) (1.3.3)\n",
      "Requirement already satisfied: asynctest==0.13.0 in /fs01/home/sayromlou/.local/lib/python3.7/site-packages (from aiohttp!=4.0.0a0,!=4.0.0a1->fsspec[http]>2021.06.0->pytorch-lightning<2.0->decaf-synthetic-data>=0.1.6->synthcity) (0.13.0)\n",
      "Requirement already satisfied: async-timeout<5.0,>=4.0.0a3 in /fs01/home/sayromlou/.local/lib/python3.7/site-packages (from aiohttp!=4.0.0a0,!=4.0.0a1->fsspec[http]>2021.06.0->pytorch-lightning<2.0->decaf-synthetic-data>=0.1.6->synthcity) (4.0.3)\n",
      "Requirement already satisfied: attrs>=17.3.0 in /fs01/pkgs/jupyterhub/lib/python3.7/site-packages (from aiohttp!=4.0.0a0,!=4.0.0a1->fsspec[http]>2021.06.0->pytorch-lightning<2.0->decaf-synthetic-data>=0.1.6->synthcity) (20.3.0)\n",
      "Requirement already satisfied: setuptools in /fs01/pkgs/jupyterhub/lib/python3.7/site-packages (from lightning-utilities>=0.6.0.post0->pytorch-lightning<2.0->decaf-synthetic-data>=0.1.6->synthcity) (49.6.0.post20210108)\n",
      "Requirement already satisfied: zipp>=0.5 in /fs01/pkgs/jupyterhub/lib/python3.7/site-packages (from importlib-metadata->synthcity) (3.4.1)\n",
      "Requirement already satisfied: joblib>=0.11 in /fs01/home/sayromlou/.local/lib/python3.7/site-packages (from scikit-learn>=1.0->synthcity) (1.3.2)\n",
      "Requirement already satisfied: threadpoolctl>=2.0.0 in /fs01/home/sayromlou/.local/lib/python3.7/site-packages (from scikit-learn>=1.0->synthcity) (3.1.0)\n",
      "Requirement already satisfied: greenlet!=0.4.17 in /fs01/pkgs/jupyterhub/lib/python3.7/site-packages (from sqlalchemy>=1.3.0->optuna>=3.1->synthcity) (1.0.0)\n",
      "Requirement already satisfied: idna>=2.0 in /fs01/pkgs/jupyterhub/lib/python3.7/site-packages (from yarl<2.0,>=1.0->aiohttp!=4.0.0a0,!=4.0.0a1->fsspec[http]>2021.06.0->pytorch-lightning<2.0->decaf-synthetic-data>=0.1.6->synthcity) (2.10)\n",
      "Requirement already satisfied: MarkupSafe>=0.9.2 in /fs01/home/sayromlou/.local/lib/python3.7/site-packages (from Mako->alembic>=1.5.0->optuna>=3.1->synthcity) (2.1.5)\n",
      "Requirement already satisfied: statsmodels in /fs01/home/sayromlou/.local/lib/python3.7/site-packages (from pgmpy->synthcity) (0.13.5)\n",
      "Requirement already satisfied: py7zr>=0.11.3 in /fs01/home/sayromlou/.local/lib/python3.7/site-packages (from pycox->synthcity) (0.20.6)\n",
      "Requirement already satisfied: feather-format>=0.4.0 in /fs01/home/sayromlou/.local/lib/python3.7/site-packages (from pycox->synthcity) (0.4.1)\n",
      "Requirement already satisfied: torchtuples>=0.2.0 in /fs01/home/sayromlou/.local/lib/python3.7/site-packages (from pycox->synthcity) (0.2.2)\n",
      "Requirement already satisfied: h5py>=2.9.0 in /fs01/home/sayromlou/.local/lib/python3.7/site-packages (from pycox->synthcity) (3.8.0)\n",
      "Collecting numba>=0.44\n",
      "  Using cached numba-0.56.4-cp37-cp37m-manylinux2014_x86_64.manylinux_2_17_x86_64.whl (3.5 MB)\n",
      "Requirement already satisfied: pyarrow>=0.4.0 in /fs01/home/sayromlou/.local/lib/python3.7/site-packages (from feather-format>=0.4.0->pycox->synthcity) (12.0.1)\n",
      "Requirement already satisfied: llvmlite<0.40,>=0.39.0dev0 in /fs01/home/sayromlou/.local/lib/python3.7/site-packages (from numba>=0.44->pycox->synthcity) (0.39.1)\n",
      "Requirement already satisfied: pycryptodomex>=3.6.6 in /fs01/home/sayromlou/.local/lib/python3.7/site-packages (from py7zr>=0.11.3->pycox->synthcity) (3.20.0)\n",
      "Requirement already satisfied: pyppmd<1.1.0,>=0.18.1 in /fs01/home/sayromlou/.local/lib/python3.7/site-packages (from py7zr>=0.11.3->pycox->synthcity) (1.0.0)\n",
      "Requirement already satisfied: texttable in /fs01/home/sayromlou/.local/lib/python3.7/site-packages (from py7zr>=0.11.3->pycox->synthcity) (1.7.0)\n",
      "Requirement already satisfied: psutil in /fs01/home/sayromlou/.local/lib/python3.7/site-packages (from py7zr>=0.11.3->pycox->synthcity) (6.0.0)\n",
      "Requirement already satisfied: multivolumefile>=0.2.3 in /fs01/home/sayromlou/.local/lib/python3.7/site-packages (from py7zr>=0.11.3->pycox->synthcity) (0.2.3)\n",
      "Requirement already satisfied: inflate64>=0.3.1 in /fs01/home/sayromlou/.local/lib/python3.7/site-packages (from py7zr>=0.11.3->pycox->synthcity) (0.3.1)\n",
      "Requirement already satisfied: brotli>=1.0.9 in /fs01/home/sayromlou/.local/lib/python3.7/site-packages (from py7zr>=0.11.3->pycox->synthcity) (1.1.0)\n",
      "Requirement already satisfied: pybcj>=0.6.0 in /fs01/home/sayromlou/.local/lib/python3.7/site-packages (from py7zr>=0.11.3->pycox->synthcity) (1.0.1)\n",
      "Requirement already satisfied: pyzstd>=0.14.4 in /fs01/home/sayromlou/.local/lib/python3.7/site-packages (from py7zr>=0.11.3->pycox->synthcity) (0.16.0)\n",
      "Requirement already satisfied: urllib3<1.27,>=1.21.1 in /fs01/pkgs/jupyterhub/lib/python3.7/site-packages (from requests->fsspec[http]>2021.06.0->pytorch-lightning<2.0->decaf-synthetic-data>=0.1.6->synthcity) (1.26.4)\n",
      "Requirement already satisfied: certifi>=2017.4.17 in /fs01/pkgs/jupyterhub/lib/python3.7/site-packages (from requests->fsspec[http]>2021.06.0->pytorch-lightning<2.0->decaf-synthetic-data>=0.1.6->synthcity) (2020.12.5)\n",
      "Requirement already satisfied: chardet<5,>=3.0.2 in /fs01/pkgs/jupyterhub/lib/python3.7/site-packages (from requests->fsspec[http]>2021.06.0->pytorch-lightning<2.0->decaf-synthetic-data>=0.1.6->synthcity) (4.0.0)\n",
      "Requirement already satisfied: pydantic-core==2.14.6 in /fs01/home/sayromlou/.local/lib/python3.7/site-packages (from pydantic->synthcity) (2.14.6)\n",
      "Requirement already satisfied: annotated-types>=0.4.0 in /fs01/home/sayromlou/.local/lib/python3.7/site-packages (from pydantic->synthcity) (0.5.0)\n",
      "Requirement already satisfied: pybind11 in /fs01/home/sayromlou/.local/lib/python3.7/site-packages (from pykeops->synthcity) (2.12.0)\n",
      "Requirement already satisfied: keopscore==2.2.2 in /fs01/home/sayromlou/.local/lib/python3.7/site-packages (from pykeops->synthcity) (2.2.2)\n",
      "Requirement already satisfied: slicer==0.0.7 in /fs01/home/sayromlou/.local/lib/python3.7/site-packages (from shap->synthcity) (0.0.7)\n",
      "Requirement already satisfied: patsy>=0.5.2 in /fs01/home/sayromlou/.local/lib/python3.7/site-packages (from statsmodels->pgmpy->synthcity) (0.5.6)\n",
      "Requirement already satisfied: grpcio>=1.24.3 in /fs01/home/sayromlou/.local/lib/python3.7/site-packages (from tensorboard->nflows>=0.14->synthcity) (1.54.2)\n",
      "Requirement already satisfied: absl-py>=0.4 in /fs01/home/sayromlou/.local/lib/python3.7/site-packages (from tensorboard->nflows>=0.14->synthcity) (2.1.0)\n",
      "Requirement already satisfied: google-auth<3,>=1.6.3 in /fs01/home/sayromlou/.local/lib/python3.7/site-packages (from tensorboard->nflows>=0.14->synthcity) (2.19.1)\n",
      "Requirement already satisfied: markdown>=2.6.8 in /fs01/home/sayromlou/.local/lib/python3.7/site-packages (from tensorboard->nflows>=0.14->synthcity) (3.4.4)\n",
      "Requirement already satisfied: tensorboard-data-server<0.7.0,>=0.6.0 in /fs01/home/sayromlou/.local/lib/python3.7/site-packages (from tensorboard->nflows>=0.14->synthcity) (0.6.1)\n",
      "Requirement already satisfied: google-auth-oauthlib<0.5,>=0.4.1 in /fs01/home/sayromlou/.local/lib/python3.7/site-packages (from tensorboard->nflows>=0.14->synthcity) (0.4.6)\n",
      "Requirement already satisfied: protobuf<4,>=3.9.2 in /fs01/home/sayromlou/.local/lib/python3.7/site-packages (from tensorboard->nflows>=0.14->synthcity) (3.19.6)\n",
      "Requirement already satisfied: wheel>=0.26 in /fs01/pkgs/jupyterhub/lib/python3.7/site-packages (from tensorboard->nflows>=0.14->synthcity) (0.36.2)\n",
      "Requirement already satisfied: werkzeug>=1.0.1 in /fs01/home/sayromlou/.local/lib/python3.7/site-packages (from tensorboard->nflows>=0.14->synthcity) (2.2.3)\n",
      "Requirement already satisfied: tensorboard-plugin-wit>=1.6.0 in /fs01/home/sayromlou/.local/lib/python3.7/site-packages (from tensorboard->nflows>=0.14->synthcity) (1.8.1)\n",
      "Requirement already satisfied: pyasn1-modules>=0.2.1 in /fs01/home/sayromlou/.local/lib/python3.7/site-packages (from google-auth<3,>=1.6.3->tensorboard->nflows>=0.14->synthcity) (0.3.0)\n",
      "Requirement already satisfied: rsa<5,>=3.1.4 in /fs01/home/sayromlou/.local/lib/python3.7/site-packages (from google-auth<3,>=1.6.3->tensorboard->nflows>=0.14->synthcity) (4.9)\n",
      "Requirement already satisfied: cachetools<6.0,>=2.0.0 in /fs01/home/sayromlou/.local/lib/python3.7/site-packages (from google-auth<3,>=1.6.3->tensorboard->nflows>=0.14->synthcity) (5.3.1)\n"
     ]
    },
    {
     "name": "stdout",
     "output_type": "stream",
     "text": [
      "Requirement already satisfied: requests-oauthlib>=0.7.0 in /fs01/home/sayromlou/.local/lib/python3.7/site-packages (from google-auth-oauthlib<0.5,>=0.4.1->tensorboard->nflows>=0.14->synthcity) (1.3.1)\n",
      "Requirement already satisfied: pyasn1<0.6.0,>=0.4.6 in /fs01/pkgs/jupyterhub/lib/python3.7/site-packages (from pyasn1-modules>=0.2.1->google-auth<3,>=1.6.3->tensorboard->nflows>=0.14->synthcity) (0.4.8)\n",
      "Requirement already satisfied: oauthlib>=3.0.0 in /fs01/home/sayromlou/.local/lib/python3.7/site-packages (from requests-oauthlib>=0.7.0->google-auth-oauthlib<0.5,>=0.4.1->tensorboard->nflows>=0.14->synthcity) (3.2.2)\n",
      "Installing collected packages: torchtext, pytorch-lightning, numba, optuna, monai, synthcity\n",
      "\u001b[33m  WARNING: The script optuna is installed in '/h/sayromlou/.local/bin' which is not on PATH.\n",
      "  Consider adding this directory to PATH or, if you prefer to suppress this warning, use --no-warn-script-location.\u001b[0m\n",
      "Successfully installed monai-1.1.0 numba-0.56.4 optuna-3.6.1 pytorch-lightning-1.9.5 synthcity-0.2.6 torchtext-0.14.1\n"
     ]
    }
   ],
   "source": [
    "!pip install synthcity"
   ]
  },
  {
   "cell_type": "code",
   "execution_count": 1,
   "id": "objective-mouse",
   "metadata": {},
   "outputs": [
    {
     "name": "stdout",
     "output_type": "stream",
     "text": [
      "/projects/aieng/diffusion_bootcamp/synthetic_data/tabular/adult/tabddpm.csv\n",
      "adult, tabddpm: 0.9813954227766378\n"
     ]
    }
   ],
   "source": [
    "! python eval/eval_detection.py --dataname adult --model tabddpm --path /projects/aieng/diffusion_bootcamp/synthetic_data/tabular/adult/tabddpm.csv"
   ]
  },
  {
   "cell_type": "code",
   "execution_count": 2,
   "id": "premium-knight",
   "metadata": {},
   "outputs": [
    {
     "name": "stdout",
     "output_type": "stream",
     "text": [
      "[KeOps] Warning : Cuda libraries were not detected on the system or could not be loaded ; using cpu only mode\n",
      "Traceback (most recent call last):\n",
      "  File \"eval/eval_quality.py\", line 8, in <module>\n",
      "    from synthcity.metrics import eval_statistical\n",
      "  File \"/h/sayromlou/.local/lib/python3.7/site-packages/synthcity/metrics/__init__.py\", line 2, in <module>\n",
      "    from .eval import Metrics  # noqa: F401\n",
      "  File \"/h/sayromlou/.local/lib/python3.7/site-packages/synthcity/metrics/eval.py\", line 10, in <module>\n",
      "    from synthcity.plugins.core.dataloader import (\n",
      "  File \"/h/sayromlou/.local/lib/python3.7/site-packages/synthcity/plugins/__init__.py\", line 9, in <module>\n",
      "    from synthcity.plugins.core.plugin import Plugin, PluginLoader  # noqa: F401,E402\n",
      "  File \"/h/sayromlou/.local/lib/python3.7/site-packages/synthcity/plugins/core/plugin.py\", line 31, in <module>\n",
      "    from synthcity.plugins.core.schema import Schema\n",
      "  File \"/h/sayromlou/.local/lib/python3.7/site-packages/synthcity/plugins/core/schema.py\", line 22, in <module>\n",
      "    class Schema(BaseModel):\n",
      "  File \"/h/sayromlou/.local/lib/python3.7/site-packages/pydantic/_internal/_model_construction.py\", line 93, in __new__\n",
      "    namespace, config_wrapper.ignored_types, class_vars, base_field_names\n",
      "  File \"/h/sayromlou/.local/lib/python3.7/site-packages/pydantic/_internal/_model_construction.py\", line 376, in inspect_namespace\n",
      "    code='model-field-missing-annotation',\n",
      "pydantic.errors.PydanticUserError: A non-annotated attribute was detected: `protected_cols = ['seq_id']`. All model fields require a type annotation; if `protected_cols` is not meant to be a field, you may be able to resolve this error by annotating it as a `ClassVar` or updating `model_config['ignored_types']`.\n",
      "\n",
      "For further information visit https://errors.pydantic.dev/2.5/u/model-field-missing-annotation\n"
     ]
    }
   ],
   "source": [
    "! python eval/eval_quality.py --dataname adult --model tabddpm --path /projects/aieng/diffusion_bootcamp/synthetic_data/tabular/adult/tabddpm.csv"
   ]
  },
  {
   "cell_type": "code",
   "execution_count": 30,
   "id": "consolidated-malpractice",
   "metadata": {},
   "outputs": [
    {
     "name": "stdout",
     "output_type": "stream",
     "text": [
      "/projects/aieng/diffusion_bootcamp/synthetic_data/tabular/adult/tabddpm.csv\n",
      "Creating report: 100%|############################| 4/4 [00:01<00:00,  2.03it/s]\n",
      "\n",
      "Overall Quality Score: 97.6%\n",
      "\n",
      "Properties:\n",
      "Column Shapes: 98.62%\n",
      "Column Pair Trends: 96.57%\n"
     ]
    }
   ],
   "source": [
    "! python eval/eval_density.py --dataname adult --model tabddpm --path /projects/aieng/diffusion_bootcamp/synthetic_data/tabular/adult/tabddpm.csv"
   ]
  },
  {
   "cell_type": "code",
   "execution_count": 3,
   "id": "allied-program",
   "metadata": {},
   "outputs": [
    {
     "name": "stdout",
     "output_type": "stream",
     "text": [
      "Traceback (most recent call last):\r\n",
      "  File \"eval/eval_mle.py\", line 6, in <module>\r\n",
      "    from mle.mle import get_evaluator\r\n",
      "  File \"/fs01/home/sayromlou/diffusion_model_bootcamp/reference_implementations/tabular_reference_impelementation/tabsyn/eval/mle/mle.py\", line 22, in <module>\r\n",
      "    from prdc import compute_prdc\r\n",
      "ModuleNotFoundError: No module named 'prdc'\r\n"
     ]
    }
   ],
   "source": [
    "! python eval/eval_mle.py --dataname adult --model tabddpm --path /projects/aieng/diffusion_bootcamp/synthetic_data/tabular/adult/tabddpm.csv"
   ]
  },
  {
   "cell_type": "code",
   "execution_count": null,
   "id": "three-miracle",
   "metadata": {},
   "outputs": [],
   "source": []
  }
 ],
 "metadata": {
  "kernelspec": {
   "display_name": "poetry_test",
   "language": "python",
   "name": "poetry_test"
  },
  "language_info": {
   "codemirror_mode": {
    "name": "ipython",
    "version": 3
   },
   "file_extension": ".py",
   "mimetype": "text/x-python",
   "name": "python",
   "nbconvert_exporter": "python",
   "pygments_lexer": "ipython3",
   "version": "3.9.18"
  }
 },
 "nbformat": 4,
 "nbformat_minor": 5
}
