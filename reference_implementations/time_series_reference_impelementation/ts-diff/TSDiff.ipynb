{
 "cells": [
  {
   "cell_type": "markdown",
   "id": "30ea1925-b528-4c96-875c-ba73f97cbd8b",
   "metadata": {},
   "source": [
    "<center>\n",
    "  \n",
    "## Predict, Refine, Synthesize: Self-Guiding Diffusion Models for Probabilistic Time Series Forecasting\n",
    "\n",
    "</center>\n"
   ]
  },
  {
   "cell_type": "markdown",
   "id": "a777f9b5-46cd-43f0-8da7-21657f565c46",
   "metadata": {},
   "source": [
    "The paper proposes TSDiff, an unconditionally-trained diffusion model for time series. TSDiff utilizes a self-guidance mechanism that allows it to conditionally generate forecasts, refine predictions, and produce synthetic data without requiring auxiliary networks or altering the training procedure."
   ]
  },
  {
   "cell_type": "markdown",
   "id": "16ebc70d-1c01-4e9f-8db1-93ef50d6b2f6",
   "metadata": {},
   "source": [
    "Time series forecasting is crucial for making informed decisions in various fields such as finance, energy, and healthcare. Traditional deep learning models approach this problem through conditional generative modeling. The paper introduces TSDiff, an unconditional diffusion model for time series, which can handle multiple downstream tasks. The self-guidance mechanism allows TSDiff to perform predictive tasks during inference without conditional training. The model's generative capabilities are also leveraged to improve the accuracy of base forecasters and generate high-quality synthetic data."
   ]
  },
  {
   "cell_type": "markdown",
   "id": "b4a0c8ea-11ed-4b7f-905f-841a07cbf00f",
   "metadata": {},
   "source": [
    "In the following, we will take a deeper dive to the implementation of this method."
   ]
  },
  {
   "cell_type": "markdown",
   "id": "17887c36-2c62-4f8a-8ab6-d7cccdade296",
   "metadata": {},
   "source": [
    "# Imports and Setup"
   ]
  },
  {
   "cell_type": "markdown",
   "id": "6a08fdbe-afa8-4be4-b2b7-72c94d5eeca4",
   "metadata": {},
   "source": [
    "In this section, we import all necessary libraries and modules required for setting up the environment. This includes libraries for logging, parsing arguments, handling file paths, and loading configurations. Additionally, we import essential packages for data loading, model creation, and training such as PyTorch, PyTorch Lightning, and GluonTS. Custom modules specific to the time series diffusion model (TSDiff) are also imported."
   ]
  },
  {
   "cell_type": "code",
   "execution_count": 1,
   "id": "20e1b95e",
   "metadata": {},
   "outputs": [
    {
     "name": "stderr",
     "output_type": "stream",
     "text": [
      "Falling back on slow Cauchy kernel. Install at least one of pykeops or the CUDA extension for efficiency.\n",
      "Falling back on slow Vandermonde kernel. Install pykeops for improved memory efficiency.\n"
     ]
    }
   ],
   "source": [
    "import logging\n",
    "import os\n",
    "import argparse\n",
    "from pathlib import Path\n",
    "\n",
    "import yaml\n",
    "import torch\n",
    "from tqdm.auto import tqdm\n",
    "import pytorch_lightning as pl\n",
    "from pytorch_lightning.callbacks import ModelCheckpoint, RichProgressBar\n",
    "\n",
    "from gluonts.dataset.loader import TrainDataLoader\n",
    "from gluonts.dataset.split import OffsetSplitter\n",
    "from gluonts.itertools import Cached\n",
    "from gluonts.torch.batchify import batchify\n",
    "from gluonts.evaluation import make_evaluation_predictions, Evaluator\n",
    "from gluonts.dataset.field_names import FieldName\n",
    "\n",
    "import uncond_ts_diff.configs as diffusion_configs\n",
    "from uncond_ts_diff.dataset import get_gts_dataset\n",
    "from uncond_ts_diff.model.callback import EvaluateCallback\n",
    "from uncond_ts_diff.model import TSDiff\n",
    "from uncond_ts_diff.sampler import DDPMGuidance, DDIMGuidance\n",
    "from uncond_ts_diff.utils import (\n",
    "    create_transforms,\n",
    "    create_splitter,\n",
    "    add_config_to_argparser,\n",
    "    filter_metrics,\n",
    "    MaskInput,\n",
    ")"
   ]
  },
  {
   "cell_type": "markdown",
   "id": "15eb1aff-c084-42ee-8484-33a71a5f9521",
   "metadata": {},
   "source": [
    "# Load Configuration"
   ]
  },
  {
   "cell_type": "markdown",
   "id": "922c1e8a-5b0c-450f-b4f3-9275111af9e1",
   "metadata": {},
   "source": [
    "Here, we set up the configuration for the model training. This involves loading the configuration file which contains parameters and settings needed for the training process. The configuration is read from a YAML file and parsed into a dictionary format. Logging is also configured in this section to record the training process."
   ]
  },
  {
   "cell_type": "code",
   "execution_count": 2,
   "id": "486282cb-bb69-41a6-8ca9-71222afd9af2",
   "metadata": {},
   "outputs": [],
   "source": [
    "# Setup Logger\n",
    "logging.basicConfig(\n",
    "    format=\"%(asctime)s - %(name)s - %(levelname)s - %(message)s\"\n",
    ")\n",
    "logger = logging.getLogger(\"logger\")\n",
    "logger.setLevel(logging.INFO)\n",
    "\n",
    "# Setup config\n",
    "config_path = \"configs/train_tsdiff/train_uber_tlc.yaml\"\n",
    "log_dir = \"./\"\n",
    "\n",
    "with open(config_path, \"r\") as fp:\n",
    "    config = yaml.safe_load(fp)"
   ]
  },
  {
   "cell_type": "markdown",
   "id": "d9964c4e-7bc6-4835-8226-2913aa4b5e8a",
   "metadata": {},
   "source": [
    "# Model Creation"
   ]
  },
  {
   "cell_type": "markdown",
   "id": "bdaaa562-4950-4c75-b168-e295cd3e6359",
   "metadata": {},
   "source": [
    "**TSDiff Model Architecture**\n",
    "\n",
    "TSDiff is designed for univariate time series and uses S4 layers for temporal modeling. The architecture incorporates historical information by appending lagged time series along the channel dimension, allowing it to handle noisy inputs. The model's output dimensions match its input dimensions, making it suitable for unconditional generative tasks.\n",
    "\n",
    "![TSDiff Model Architecture](figures/model_figure.png)"
   ]
  },
  {
   "cell_type": "markdown",
   "id": "55f902a2-39d4-4ac9-b0eb-1cf2cba32187",
   "metadata": {},
   "source": [
    "The following cells focuses on creating the TSDiff model based on the loaded configuration. A function create_model is defined which initializes the TSDiff model with parameters such as frequency, feature usage, normalization, context length, prediction length, and learning rate. The model is then moved to the specified device (CPU or GPU). Below is a detailed explanation of the input parameters:"
   ]
  },
  {
   "cell_type": "markdown",
   "id": "14f54efa-b824-4c57-acde-70afd76d5189",
   "metadata": {},
   "source": [
    "**`diffusion_configs`**:\n",
    "   - This is a module or an object containing various diffusion configurations. The specific configuration to use is specified by `config[\"diffusion_config\"]`.\n",
    "\n",
    "**`config[\"diffusion_config\"]`**:\n",
    "   - A string that specifies which diffusion configuration to use from `diffusion_configs`. This string is used with `getattr` to dynamically fetch the appropriate configuration.\n",
    "\n",
    "**`freq`**:\n",
    "   - `config[\"freq\"]`: The frequency of the time series data (e.g., daily, hourly). This helps the model understand the time granularity of the input data.\n",
    "\n",
    "**`use_features`**:\n",
    "   - `config[\"use_features\"]`: A boolean indicating whether to use additional features apart from the time series data. These could be features like categorical variables or other covariates.\n",
    "\n",
    "**`use_lags`**:\n",
    "   - `config[\"use_lags\"]`: A boolean indicating whether to use lagged values of the time series as inputs. Lagged values can provide important temporal context for forecasting.\n",
    "\n",
    "**`normalization`**:\n",
    "   - `config[\"normalization\"]`: Specifies the normalization technique to be applied to the time series data. Normalization can help in stabilizing the training process.\n",
    "\n",
    "**`context_length`**:\n",
    "   - `config[\"context_length\"]`: The length of the historical context window used for making predictions. This determines how much past data the model considers when forecasting future values.\n",
    "\n",
    "**`prediction_length`**:\n",
    "   - `config[\"prediction_length\"]`: The length of the forecast horizon. This specifies how many time steps ahead the model is expected to predict.\n",
    "\n",
    "**`lr`**:\n",
    "   - `config[\"lr\"]`: The learning rate for the model's optimizer. This controls the step size during the gradient descent optimization process.\n",
    "\n",
    "**`init_skip`**:\n",
    "   - `config[\"init_skip\"]`: A parameter that may be used to control the initialization or skipping of certain model components during training or inference.\n",
    "\n",
    "**`device`**:\n",
    "   - `config[\"device\"]`: The device on which the model will be trained or run, typically \"cpu\" or \"cuda\" (for GPU acceleration)."
   ]
  },
  {
   "cell_type": "code",
   "execution_count": 4,
   "id": "f00df3aa",
   "metadata": {},
   "outputs": [],
   "source": [
    "def create_model(config):\n",
    "    model = TSDiff(\n",
    "        **getattr(diffusion_configs, config[\"diffusion_config\"]),\n",
    "        freq=config[\"freq\"],\n",
    "        use_features=config[\"use_features\"],\n",
    "        use_lags=config[\"use_lags\"],\n",
    "        normalization=config[\"normalization\"],\n",
    "        context_length=config[\"context_length\"],\n",
    "        prediction_length=config[\"prediction_length\"],\n",
    "        lr=config[\"lr\"],\n",
    "        init_skip=config[\"init_skip\"],\n",
    "    )\n",
    "    model.to(config[\"device\"])\n",
    "    return model"
   ]
  },
  {
   "cell_type": "code",
   "execution_count": 5,
   "id": "120544cf-81bc-4f2f-b671-9ef969f341fa",
   "metadata": {},
   "outputs": [],
   "source": [
    "# Create model\n",
    "model = create_model(config)"
   ]
  },
  {
   "cell_type": "markdown",
   "id": "a654796c-1b28-46e8-b093-6a237534f99c",
   "metadata": {},
   "source": [
    "# Data Loading and Preprocessing"
   ]
  },
  {
   "cell_type": "markdown",
   "id": "da7e6568-959e-4191-abb3-06448a89ccf4",
   "metadata": {},
   "source": [
    "In this section, the dataset is loaded and preprocessed based on the configuration settings. The dataset's metadata is validated to ensure consistency with the expected frequency and prediction length. Depending on the setup (forecasting or missing values), the appropriate data split is performed. Transformations and data loaders are also set up to facilitate the training process."
   ]
  },
  {
   "cell_type": "code",
   "execution_count": 6,
   "id": "f1672dc3-ea0d-4982-a2fd-23dfaaee7bd5",
   "metadata": {},
   "outputs": [],
   "source": [
    "# Load parameters\n",
    "dataset_name = config[\"dataset\"]\n",
    "freq = config[\"freq\"]\n",
    "context_length = config[\"context_length\"]\n",
    "prediction_length = config[\"prediction_length\"]\n",
    "total_length = context_length + prediction_length\n",
    "\n",
    "# Setup dataset and data loading\n",
    "dataset = get_gts_dataset(dataset_name)\n",
    "assert dataset.metadata.freq == freq\n",
    "assert dataset.metadata.prediction_length == prediction_length\n",
    "\n",
    "# These lines check if the setup is for forecasting or predicting the missing values.\n",
    "if config[\"setup\"] == \"forecasting\":\n",
    "    training_data = dataset.train\n",
    "elif config[\"setup\"] == \"missing_values\":\n",
    "    # This line creates an instance of OffsetSplitter with a specified offset. \n",
    "    # The offset determines where the training data ends. \n",
    "    # A negative offset means that the training data will exclude a certain number \n",
    "    # of observations from the end of each series.\n",
    "    missing_values_splitter = OffsetSplitter(offset=-total_length)\n",
    "    training_data, _ = missing_values_splitter.split(dataset.train)\n",
    "\n",
    "# The purpose of this line is to determine the number of rolling evaluations \n",
    "# that can be performed using the test and training datasets.\n",
    "# In the context of time series forecasting, rolling evaluation is a method \n",
    "# where multiple models are trained and evaluated on different segments of the data. \n",
    "# Each evaluation uses a different starting point in the time series \n",
    "# to test the model's performance over time.\n",
    "# By determining how many times the training dataset length fits into the test dataset length,\n",
    "# this calculation helps set up multiple evaluation windows or periods over the test data.\n",
    "num_rolling_evals = int(len(dataset.test) / len(dataset.train))\n",
    "\n",
    "transformation = create_transforms(\n",
    "    num_feat_dynamic_real=0, # number of dynamic real-valued features in the dataset\n",
    "    num_feat_static_cat=0, # number of static categorical features in the dataset\n",
    "    num_feat_static_real=0, # number of static real-valued features in the dataset\n",
    "    time_features=model.time_features, # time-related features used by the model, such as day of the week, month, etc.\n",
    "    prediction_length=config[\"prediction_length\"], # length of the prediction horizon\n",
    ")\n",
    "\n",
    "training_splitter = create_splitter(\n",
    "    past_length=config[\"context_length\"] + max(model.lags_seq),\n",
    "    future_length=config[\"prediction_length\"],\n",
    "    mode=\"train\",\n",
    ")"
   ]
  },
  {
   "cell_type": "markdown",
   "id": "56e0b804-82f4-474e-9fa5-53a299af7ee3",
   "metadata": {},
   "source": [
    "# Model Training"
   ]
  },
  {
   "cell_type": "markdown",
   "id": "71fd0ffe-6fe8-41ab-94cc-9c6b1b521420",
   "metadata": {},
   "source": [
    "This section sets up the training process for the TSDiff model. Various callbacks are configured to monitor and save the model during training. The trainer is then defined using PyTorch Lightning, specifying parameters such as the number of epochs, devices, and callbacks. The training process is started, logging the progress and completing the training of the model."
   ]
  },
  {
   "cell_type": "code",
   "execution_count": 7,
   "id": "08eb6eb2-917a-42a1-a0e5-6196a894d4ff",
   "metadata": {},
   "outputs": [],
   "source": [
    "# Setup callbacks\n",
    "# Callbacks are objects that are used to customize and control the behavior of the training process.\n",
    "\n",
    "# Different types of callbacks:\n",
    "\n",
    "# EvaluateCallback: If a validation set is used, this callback is created to evaluate \n",
    "# the model on the validation data at regular intervals specified by config[\"eval_every\"].\n",
    "\n",
    "# ModelCheckpoint: This callback saves the top 3 models based on the \n",
    "# monitored metric (train_loss) and the last model's weights.\n",
    "\n",
    "# RichProgressBar: This callback adds a progress bar to visualize training progress.\n",
    "\n",
    "callbacks = []\n",
    "if config[\"use_validation_set\"]:\n",
    "    transformed_data = transformation.apply(training_data, is_train=True)\n",
    "    train_val_splitter = OffsetSplitter(\n",
    "        offset=-config[\"prediction_length\"] * num_rolling_evals\n",
    "    )\n",
    "    _, val_gen = train_val_splitter.split(training_data)\n",
    "    val_data = val_gen.generate_instances(\n",
    "        config[\"prediction_length\"], num_rolling_evals\n",
    "    )\n",
    "\n",
    "    callbacks = [\n",
    "        EvaluateCallback(\n",
    "            context_length=config[\"context_length\"],\n",
    "            prediction_length=config[\"prediction_length\"],\n",
    "            sampler=config[\"sampler\"],\n",
    "            sampler_kwargs=config[\"sampler_params\"],\n",
    "            num_samples=config[\"num_samples\"],\n",
    "            model=model,\n",
    "            transformation=transformation,\n",
    "            test_dataset=dataset.test,\n",
    "            val_dataset=val_data,\n",
    "            eval_every=config[\"eval_every\"],\n",
    "        )\n",
    "    ]\n",
    "else:\n",
    "    transformed_data = transformation.apply(training_data, is_train=True)\n",
    "\n",
    "log_monitor = \"train_loss\"\n",
    "filename = dataset_name + \"-{epoch:03d}-{train_loss:.3f}\"\n",
    "\n",
    "data_loader = TrainDataLoader(\n",
    "    Cached(transformed_data),\n",
    "    batch_size=config[\"batch_size\"],\n",
    "    stack_fn=batchify,\n",
    "    transform=training_splitter,\n",
    "    num_batches_per_epoch=config[\"num_batches_per_epoch\"],\n",
    ")\n",
    "\n",
    "checkpoint_callback = ModelCheckpoint(\n",
    "    save_top_k=3,\n",
    "    monitor=f\"{log_monitor}\",\n",
    "    mode=\"min\",\n",
    "    filename=filename,\n",
    "    save_last=True,\n",
    "    save_weights_only=True,\n",
    ")\n",
    "\n",
    "callbacks.append(checkpoint_callback)\n",
    "callbacks.append(RichProgressBar())"
   ]
  },
  {
   "cell_type": "markdown",
   "id": "4b619b4f-132a-4cad-b45b-d15540366ece",
   "metadata": {},
   "source": [
    "### What is `trainer`?\n",
    "\n",
    "The `trainer` in this context refers to an instance of the `pl.Trainer` class from the PyTorch Lightning library. PyTorch Lightning is a high-level library built on top of PyTorch that provides a structured and flexible framework for training deep learning models. It abstracts much of the boilerplate code involved in setting up training loops, validation, logging, and checkpointing, allowing researchers and developers to focus on the model and data.\n",
    "\n",
    "### Key Features of `pl.Trainer`\n",
    "\n",
    "1. **Simplified Training Loop**:\n",
    "   - The `Trainer` handles the training loop, including forward and backward passes, gradient updates, and validation steps.\n",
    "\n",
    "2. **Hardware Acceleration**:\n",
    "   - Supports training on multiple GPUs, TPUs, or CPUs with minimal code changes. The `accelerator` and `devices` parameters make it easy to specify the hardware configuration.\n",
    "\n",
    "3. **Automatic Logging**:\n",
    "   - Integrates with logging frameworks like TensorBoard and Weights & Biases, enabling easy tracking of metrics and model performance.\n",
    "\n",
    "4. **Checkpointing**:\n",
    "   - Automatically saves model checkpoints based on specified criteria (e.g., best validation loss), making it easy to resume training or deploy the best model.\n",
    "\n",
    "5. **Callbacks**:\n",
    "   - Supports a wide range of callbacks for custom behavior during training, such as early stopping, learning rate scheduling, and custom evaluation metrics.\n",
    "\n",
    "6. **Scalability**:\n",
    "   - Designed to scale from single-device training to multi-device and multi-node training with minimal code changes.\n"
   ]
  },
  {
   "cell_type": "code",
   "execution_count": 8,
   "id": "d980d3a3-29c7-41a5-ad6c-a2728dcf47c2",
   "metadata": {},
   "outputs": [
    {
     "name": "stderr",
     "output_type": "stream",
     "text": [
      "/h/vkhazaie/anaconda3/envs/tsdiff/lib/python3.8/site-packages/lightning_fabric/plugins/environments/slurm.py:165: PossibleUserWarning: The `srun` command is available on your system but is not used. HINT: If your intention is to run Lightning on SLURM, prepend your python command with `srun` like so: srun python /h/vkhazaie/anaconda3/envs/tsdiff/lib/python3.8/site ...\n",
      "  rank_zero_warn(\n",
      "GPU available: True (cuda), used: True\n",
      "TPU available: False, using: 0 TPU cores\n",
      "IPU available: False, using: 0 IPUs\n",
      "HPU available: False, using: 0 HPUs\n",
      "/h/vkhazaie/anaconda3/envs/tsdiff/lib/python3.8/site-packages/pytorch_lightning/trainer/connectors/logger_connector/logger_connector.py:67: UserWarning: Starting from v1.9.0, `tensorboardX` has been removed as a dependency of the `pytorch_lightning` package, due to potential conflicts with other packages in the ML ecosystem. For this reason, `logger=True` will use `CSVLogger` as the default logger, unless the `tensorboard` or `tensorboardX` packages are found. Please `pip install lightning[extra]` or one of them to enable TensorBoard support by default\n",
      "  warning_cache.warn(\n"
     ]
    }
   ],
   "source": [
    "# Define trainer\n",
    "trainer = pl.Trainer(\n",
    "    accelerator=\"gpu\" if torch.cuda.is_available() else None, #  specifies the hardware accelerator to be used for training\n",
    "    devices=[int(config[\"device\"].split(\":\")[-1])], # specifies which devices to use for training\n",
    "    max_epochs=config[\"max_epochs\"], # specifies the maximum number of epochs for training\n",
    "    enable_progress_bar=True, # enables or disables the progress bar during training\n",
    "    num_sanity_val_steps=0, # Number of validation steps to run before training to catch potential issues\n",
    "    callbacks=callbacks, # A list of callbacks to be used during training\n",
    "    default_root_dir=log_dir, # The directory where the model checkpoints and logs will be saved\n",
    "    gradient_clip_val=config.get(\"gradient_clip_val\", None), # The value for gradient clipping\n",
    ")"
   ]
  },
  {
   "cell_type": "code",
   "execution_count": 8,
   "id": "43a7c175-60e6-40bf-b034-82d7319a998e",
   "metadata": {},
   "outputs": [
    {
     "name": "stderr",
     "output_type": "stream",
     "text": [
      "2024-07-16 14:57:35,728 - logger - INFO - Logging to ./lightning_logs/version_2\n",
      "/h/vkhazaie/anaconda3/envs/tsdiff/lib/python3.8/site-packages/pytorch_lightning/trainer/configuration_validator.py:108: PossibleUserWarning: You defined a `validation_step` but have no `val_dataloader`. Skipping val loop.\n",
      "  rank_zero_warn(\n",
      "LOCAL_RANK: 0 - CUDA_VISIBLE_DEVICES: [0]\n"
     ]
    },
    {
     "data": {
      "text/html": [
       "<pre style=\"white-space:pre;overflow-x:auto;line-height:normal;font-family:Menlo,'DejaVu Sans Mono',consolas,'Courier New',monospace\">┏━━━┳━━━━━━━━━━┳━━━━━━━━━━━━━━━━━┳━━━━━━━━┓\n",
       "┃<span style=\"color: #800080; text-decoration-color: #800080; font-weight: bold\">   </span>┃<span style=\"color: #800080; text-decoration-color: #800080; font-weight: bold\"> Name     </span>┃<span style=\"color: #800080; text-decoration-color: #800080; font-weight: bold\"> Type            </span>┃<span style=\"color: #800080; text-decoration-color: #800080; font-weight: bold\"> Params </span>┃\n",
       "┡━━━╇━━━━━━━━━━╇━━━━━━━━━━━━━━━━━╇━━━━━━━━┩\n",
       "│<span style=\"color: #7f7f7f; text-decoration-color: #7f7f7f\"> 0 </span>│ scaler   │ MeanScaler      │      0 │\n",
       "│<span style=\"color: #7f7f7f; text-decoration-color: #7f7f7f\"> 1 </span>│ embedder │ FeatureEmbedder │      1 │\n",
       "│<span style=\"color: #7f7f7f; text-decoration-color: #7f7f7f\"> 2 </span>│ backbone │ BackboneModel   │  193 K │\n",
       "└───┴──────────┴─────────────────┴────────┘\n",
       "</pre>\n"
      ],
      "text/plain": [
       "┏━━━┳━━━━━━━━━━┳━━━━━━━━━━━━━━━━━┳━━━━━━━━┓\n",
       "┃\u001b[1;35m \u001b[0m\u001b[1;35m \u001b[0m\u001b[1;35m \u001b[0m┃\u001b[1;35m \u001b[0m\u001b[1;35mName    \u001b[0m\u001b[1;35m \u001b[0m┃\u001b[1;35m \u001b[0m\u001b[1;35mType           \u001b[0m\u001b[1;35m \u001b[0m┃\u001b[1;35m \u001b[0m\u001b[1;35mParams\u001b[0m\u001b[1;35m \u001b[0m┃\n",
       "┡━━━╇━━━━━━━━━━╇━━━━━━━━━━━━━━━━━╇━━━━━━━━┩\n",
       "│\u001b[2m \u001b[0m\u001b[2m0\u001b[0m\u001b[2m \u001b[0m│ scaler   │ MeanScaler      │      0 │\n",
       "│\u001b[2m \u001b[0m\u001b[2m1\u001b[0m\u001b[2m \u001b[0m│ embedder │ FeatureEmbedder │      1 │\n",
       "│\u001b[2m \u001b[0m\u001b[2m2\u001b[0m\u001b[2m \u001b[0m│ backbone │ BackboneModel   │  193 K │\n",
       "└───┴──────────┴─────────────────┴────────┘\n"
      ]
     },
     "metadata": {},
     "output_type": "display_data"
    },
    {
     "data": {
      "text/html": [
       "<pre style=\"white-space:pre;overflow-x:auto;line-height:normal;font-family:Menlo,'DejaVu Sans Mono',consolas,'Courier New',monospace\"><span style=\"font-weight: bold\">Trainable params</span>: 193 K                                                                                            \n",
       "<span style=\"font-weight: bold\">Non-trainable params</span>: 0                                                                                            \n",
       "<span style=\"font-weight: bold\">Total params</span>: 193 K                                                                                                \n",
       "<span style=\"font-weight: bold\">Total estimated model params size (MB)</span>: 0                                                                          \n",
       "</pre>\n"
      ],
      "text/plain": [
       "\u001b[1mTrainable params\u001b[0m: 193 K                                                                                            \n",
       "\u001b[1mNon-trainable params\u001b[0m: 0                                                                                            \n",
       "\u001b[1mTotal params\u001b[0m: 193 K                                                                                                \n",
       "\u001b[1mTotal estimated model params size (MB)\u001b[0m: 0                                                                          \n"
      ]
     },
     "metadata": {},
     "output_type": "display_data"
    },
    {
     "data": {
      "application/vnd.jupyter.widget-view+json": {
       "model_id": "3047f0cdb0e845f78510369156bc50bc",
       "version_major": 2,
       "version_minor": 0
      },
      "text/plain": [
       "Output()"
      ]
     },
     "metadata": {},
     "output_type": "display_data"
    },
    {
     "name": "stderr",
     "output_type": "stream",
     "text": [
      "`Trainer.fit` stopped: `max_epochs=1000` reached.\n"
     ]
    },
    {
     "data": {
      "text/html": [
       "<pre style=\"white-space:pre;overflow-x:auto;line-height:normal;font-family:Menlo,'DejaVu Sans Mono',consolas,'Courier New',monospace\"></pre>\n"
      ],
      "text/plain": []
     },
     "metadata": {},
     "output_type": "display_data"
    },
    {
     "data": {
      "text/html": [
       "<pre style=\"white-space:pre;overflow-x:auto;line-height:normal;font-family:Menlo,'DejaVu Sans Mono',consolas,'Courier New',monospace\">\n",
       "</pre>\n"
      ],
      "text/plain": [
       "\n"
      ]
     },
     "metadata": {},
     "output_type": "display_data"
    },
    {
     "name": "stderr",
     "output_type": "stream",
     "text": [
      "2024-07-16 17:00:33,567 - logger - INFO - Training completed.\n"
     ]
    }
   ],
   "source": [
    "logger.info(f\"Logging to {trainer.logger.log_dir}\")\n",
    "trainer.fit(model, train_dataloaders=data_loader)\n",
    "logger.info(\"Training completed.\")"
   ]
  },
  {
   "cell_type": "markdown",
   "id": "a60e8c5c-b53d-4a91-bc1f-c52372f3b5d1",
   "metadata": {},
   "source": [
    "In case you want to skip the training and load a pretrained model, uncommet the following lines:"
   ]
  },
  {
   "cell_type": "code",
   "execution_count": 16,
   "id": "dc052b45-625a-4327-8f6e-c062f287d096",
   "metadata": {},
   "outputs": [
    {
     "data": {
      "text/plain": [
       "<All keys matched successfully>"
      ]
     },
     "execution_count": 16,
     "metadata": {},
     "output_type": "execute_result"
    }
   ],
   "source": [
    "best_ckpt_path = os.path.join(\"./lightning_logs/version_2\", \"best_checkpoint.ckpt\")\n",
    "best_state_dict = torch.load(best_ckpt_path)\n",
    "model.load_state_dict(best_state_dict, strict=True)"
   ]
  },
  {
   "cell_type": "markdown",
   "id": "b95b1cb0-55a5-43e4-82fa-60253c27ba5f",
   "metadata": {},
   "source": [
    "# Model Evaluation"
   ]
  },
  {
   "cell_type": "markdown",
   "id": "8070abc6-fdc4-4379-915c-e7fcadf09456",
   "metadata": {},
   "source": [
    "In this section, we discuss the two options we can choose for guidance for the model:"
   ]
  },
  {
   "cell_type": "markdown",
   "id": "e423e3da-d717-4e68-8def-c339a2dfd1d8",
   "metadata": {},
   "source": [
    "## DDPM (Denoising Diffusion Probabilistic Models)\n",
    "\n",
    "- DDPM is a type of generative model that learns to generate data by reversing a diffusion process.\n",
    "- The model involves two processes: a forward process (diffusion) and a reverse process (denoising).\n",
    "- During the forward process, noise is gradually added to the data over a series of steps until the data becomes pure noise.\n",
    "- During the reverse process, the model learns to progressively denoise the data, effectively generating new samples from noise.\n",
    "\n",
    "## DDIM (Denoising Diffusion Implicit Models)\n",
    "\n",
    "- DDIM is a variant of DDPM that modifies the sampling process to be more efficient and deterministic.\n",
    "- It introduces a non-Markovian forward process that allows for deterministic sampling without the need for auxiliary noise terms.\n",
    "\n",
    "In summary, both DDPM and DDIM are powerful generative models based on diffusion processes, with DDIM offering improvements in efficiency and speed through its deterministic sampling approach.\n"
   ]
  },
  {
   "cell_type": "code",
   "execution_count": 17,
   "id": "9e67335c-1989-4e9d-9d4c-3a50d4c34405",
   "metadata": {},
   "outputs": [],
   "source": [
    "guidance_map = {\"ddpm\": DDPMGuidance, \"ddim\": DDIMGuidance}"
   ]
  },
  {
   "cell_type": "markdown",
   "id": "d1ba9522-b8a4-41c1-a43e-7d9095119954",
   "metadata": {},
   "source": [
    "After the training is completed, the model is evaluated on the test dataset. A function evaluate_guidance is defined to assess the model's performance using different sampling techniques. This involves generating forecasts, applying transformations, and calculating metrics to evaluate the accuracy of the predictions. The best model checkpoint is loaded, and the evaluation results are saved for further analysis."
   ]
  },
  {
   "cell_type": "markdown",
   "id": "3bae3609-3c3f-4e0f-9a47-88b4605803d0",
   "metadata": {},
   "source": [
    "Here we explain how the model works during inference:\n",
    "\n",
    "**Observation Self-Guidance:**\n",
    "This mechanism enables TSDiff to perform conditional forecasting during inference. By leveraging the learned probability density, TSDiff can guide its predictions based on observed data points. Two variants are proposed: mean square self-guidance, which uses Gaussian distribution, and quantile self-guidance, which uses asymmetric Laplace distribution for better quantile-based evaluation.\n",
    "\n",
    "**Prediction Refinement:**\n",
    "TSDiff can iteratively refine the predictions of base forecasters by interpreting the implicit probability density as a prior. This refinement is done directly in the data space, providing a computationally efficient way to improve forecast accuracy without modifying the core forecasting model. Two approaches are presented: energy-based sampling using Langevin Monte Carlo and maximum likelihood optimization."
   ]
  },
  {
   "cell_type": "code",
   "execution_count": 18,
   "id": "aad201d2",
   "metadata": {},
   "outputs": [],
   "source": [
    "# Function to evaluate guidance\n",
    "def evaluate_guidance(\n",
    "    config, model, test_dataset, transformation, num_samples=100\n",
    "):\n",
    "    logger.info(f\"Evaluating with {num_samples} samples.\")\n",
    "    results = []\n",
    "    if config[\"setup\"] == \"forecasting\":\n",
    "        missing_data_kwargs_list = [\n",
    "            {\n",
    "                \"missing_scenario\": \"none\",\n",
    "                \"missing_values\": 0,\n",
    "            }\n",
    "        ]\n",
    "        config[\"missing_data_configs\"] = missing_data_kwargs_list\n",
    "    elif config[\"setup\"] == \"missing_values\":\n",
    "        missing_data_kwargs_list = config[\"missing_data_configs\"]\n",
    "    else:\n",
    "        raise ValueError(f\"Unknown setup {config['setup']}\")\n",
    "\n",
    "    # The guidance strategy is specified using the config[\"sampler\"] and\n",
    "    # config[\"sampler_params\"] keys within the configuration dictionary (config)\n",
    "    # Mean-Square Self Guidance: aims to minimize the mean squared error (MSE) during sampling.\n",
    "    # Quantile Self Guidance: aims to predict specific quantiles of the target distribution, providing a fuller picture of uncertainty.\n",
    "    Guidance = guidance_map[config[\"sampler\"]]\n",
    "    sampler_kwargs = config[\"sampler_params\"]\n",
    "    for missing_data_kwargs in missing_data_kwargs_list:\n",
    "        logger.info(\n",
    "            f\"Evaluating scenario '{missing_data_kwargs['missing_scenario']}' \"\n",
    "            f\"with {missing_data_kwargs['missing_values']:.1f} missing_values.\"\n",
    "        )\n",
    "        sampler = Guidance(\n",
    "            model=model,\n",
    "            prediction_length=config[\"prediction_length\"],\n",
    "            num_samples=num_samples,\n",
    "            **missing_data_kwargs,\n",
    "            **sampler_kwargs,\n",
    "        )\n",
    "\n",
    "        transformed_testdata = transformation.apply(\n",
    "            test_dataset, is_train=False\n",
    "        )\n",
    "        test_splitter = create_splitter(\n",
    "            past_length=config[\"context_length\"] + max(model.lags_seq),\n",
    "            future_length=config[\"prediction_length\"],\n",
    "            mode=\"test\",\n",
    "        )\n",
    "\n",
    "        masking_transform = MaskInput(\n",
    "            FieldName.TARGET,\n",
    "            FieldName.OBSERVED_VALUES,\n",
    "            config[\"context_length\"],\n",
    "            missing_data_kwargs[\"missing_scenario\"],\n",
    "            missing_data_kwargs[\"missing_values\"],\n",
    "        )\n",
    "        test_transform = test_splitter + masking_transform\n",
    "\n",
    "        predictor = sampler.get_predictor(\n",
    "            test_transform,\n",
    "            batch_size=1280 // num_samples,\n",
    "            device=config[\"device\"],\n",
    "        )\n",
    "        forecast_it, ts_it = make_evaluation_predictions(\n",
    "            dataset=transformed_testdata,\n",
    "            predictor=predictor,\n",
    "            num_samples=num_samples,\n",
    "        )\n",
    "        forecasts = list(tqdm(forecast_it, total=len(transformed_testdata)))\n",
    "        tss = list(ts_it)\n",
    "        evaluator = Evaluator()\n",
    "        metrics, _ = evaluator(tss, forecasts)\n",
    "        metrics = filter_metrics(metrics)\n",
    "        results.append(dict(**missing_data_kwargs, **metrics))\n",
    "\n",
    "    return results, tss, forecasts"
   ]
  },
  {
   "cell_type": "markdown",
   "id": "46f62682-936d-4301-83a5-4f8d773eb15f",
   "metadata": {},
   "source": [
    "### Metrics Explanation\n",
    "\n",
    "#### ND (Normalized Deviation)\n",
    "- **Definition**: Normalized Deviation (ND) measures the average absolute deviation of the forecast from the actual values, normalized by the sum of the actual values.\n",
    "- **Interpretation**: \n",
    "  - ND gives an idea of the relative scale of the forecast errors compared to the actual values. \n",
    "  - Lower values indicate better model performance.\n",
    "  - It is particularly useful when dealing with time series data that may have different scales.\n",
    "\n",
    "#### NRMSE (Normalized Root Mean Square Error)\n",
    "- **Definition**: Normalized Root Mean Square Error (NRMSE) measures the square root of the average squared differences between predicted and actual values, normalized by the range of the actual values.\n",
    "- **Interpretation**: \n",
    "  - NRMSE provides a normalized measure of the forecast accuracy that accounts for the variability in the actual values.\n",
    "  - Lower values indicate better model performance.\n",
    "  - It is useful for comparing the performance of models across different datasets or scales.\n",
    "\n",
    "#### mean_wQuantileLoss (Mean Weighted Quantile Loss)\n",
    "- **Definition**: Mean Weighted Quantile Loss (mean_wQuantileLoss) measures the average quantile loss weighted by the quantile level. It assesses the accuracy of quantile forecasts, which provide a range of possible future values.\n",
    "- **Interpretation**: \n",
    "  - Quantile Loss evaluates the accuracy of probabilistic forecasts by penalizing over- and under-predictions differently depending on the quantile level.\n",
    "  - Lower values indicate better model performance.\n",
    "  - It is especially useful for applications where it is important to predict a range of possible future outcomes rather than a single point estimate.\n",
    "\n",
    "These metrics help in assessing the robustness and performance of the forecasting model under different scenarios, including scenarios with missing values, which is crucial for improving and fine-tuning the model's performance.\n"
   ]
  },
  {
   "cell_type": "markdown",
   "id": "c2714934-c07e-47ce-ab92-fe708dbbeff2",
   "metadata": {},
   "source": [
    "In case you didn't skip the training, you should uncomment the follwing line to get latest version of the pretrained model:"
   ]
  },
  {
   "cell_type": "code",
   "execution_count": null,
   "id": "49b27d48-cf70-4aff-a7fc-4b4757d4ebda",
   "metadata": {},
   "outputs": [],
   "source": [
    "# best_ckpt_path = Path(trainer.logger.log_dir) / \"best_checkpoint.ckpt\"\n",
    "\n",
    "# if not best_ckpt_path.exists():\n",
    "#     torch.save(\n",
    "#         torch.load(checkpoint_callback.best_model_path)[\"state_dict\"],\n",
    "#         best_ckpt_path,\n",
    "#     )\n",
    "# logger.info(f\"Loading {best_ckpt_path}.\")\n",
    "# best_state_dict = torch.load(best_ckpt_path)\n",
    "# model.load_state_dict(best_state_dict, strict=True)"
   ]
  },
  {
   "cell_type": "code",
   "execution_count": 19,
   "id": "7ec0b3f5",
   "metadata": {},
   "outputs": [
    {
     "name": "stderr",
     "output_type": "stream",
     "text": [
      "2024-07-23 10:43:03,398 - logger - INFO - Evaluating with 100 samples.\n",
      "2024-07-23 10:43:03,400 - logger - INFO - Evaluating scenario 'none' with 0.0 missing_values.\n"
     ]
    },
    {
     "data": {
      "application/vnd.jupyter.widget-view+json": {
       "model_id": "2bc1231f8f064b34b6e8ce630c6ff392",
       "version_major": 2,
       "version_minor": 0
      },
      "text/plain": [
       "  0%|          | 0/262 [00:00<?, ?it/s]"
      ]
     },
     "metadata": {},
     "output_type": "display_data"
    },
    {
     "name": "stderr",
     "output_type": "stream",
     "text": [
      "Running evaluation: 262it [00:03, 69.05it/s]\n"
     ]
    },
    {
     "ename": "FileNotFoundError",
     "evalue": "[Errno 2] No such file or directory: 'lightning_logs/version_3/results.yaml'",
     "output_type": "error",
     "traceback": [
      "\u001b[0;31m---------------------------------------------------------------------------\u001b[0m",
      "\u001b[0;31mFileNotFoundError\u001b[0m                         Traceback (most recent call last)",
      "Cell \u001b[0;32mIn[19], line 19\u001b[0m\n\u001b[1;32m      1\u001b[0m \u001b[38;5;66;03m# Evaluate the model and save results\u001b[39;00m\n\u001b[1;32m      2\u001b[0m \u001b[38;5;66;03m# best_ckpt_path = Path(trainer.logger.log_dir) / \"best_checkpoint.ckpt\"\u001b[39;00m\n\u001b[1;32m      3\u001b[0m \n\u001b[0;32m   (...)\u001b[0m\n\u001b[1;32m     10\u001b[0m \u001b[38;5;66;03m# best_state_dict = torch.load(best_ckpt_path)\u001b[39;00m\n\u001b[1;32m     11\u001b[0m \u001b[38;5;66;03m# model.load_state_dict(best_state_dict, strict=True)\u001b[39;00m\n\u001b[1;32m     13\u001b[0m metrics, tss, forecasts \u001b[38;5;241m=\u001b[39m (\n\u001b[1;32m     14\u001b[0m     evaluate_guidance(config, model, dataset\u001b[38;5;241m.\u001b[39mtest, transformation)\n\u001b[1;32m     15\u001b[0m     \u001b[38;5;28;01mif\u001b[39;00m config\u001b[38;5;241m.\u001b[39mget(\u001b[38;5;124m\"\u001b[39m\u001b[38;5;124mdo_final_eval\u001b[39m\u001b[38;5;124m\"\u001b[39m, \u001b[38;5;28;01mTrue\u001b[39;00m)\n\u001b[1;32m     16\u001b[0m     \u001b[38;5;28;01melse\u001b[39;00m \u001b[38;5;124m\"\u001b[39m\u001b[38;5;124mFinal eval not performed\u001b[39m\u001b[38;5;124m\"\u001b[39m\n\u001b[1;32m     17\u001b[0m )\n\u001b[0;32m---> 19\u001b[0m \u001b[38;5;28;01mwith\u001b[39;00m \u001b[38;5;28;43mopen\u001b[39;49m\u001b[43m(\u001b[49m\u001b[43mPath\u001b[49m\u001b[43m(\u001b[49m\u001b[43mtrainer\u001b[49m\u001b[38;5;241;43m.\u001b[39;49m\u001b[43mlogger\u001b[49m\u001b[38;5;241;43m.\u001b[39;49m\u001b[43mlog_dir\u001b[49m\u001b[43m)\u001b[49m\u001b[43m \u001b[49m\u001b[38;5;241;43m/\u001b[39;49m\u001b[43m \u001b[49m\u001b[38;5;124;43m\"\u001b[39;49m\u001b[38;5;124;43mresults.yaml\u001b[39;49m\u001b[38;5;124;43m\"\u001b[39;49m\u001b[43m,\u001b[49m\u001b[43m \u001b[49m\u001b[38;5;124;43m\"\u001b[39;49m\u001b[38;5;124;43mw\u001b[39;49m\u001b[38;5;124;43m\"\u001b[39;49m\u001b[43m)\u001b[49m \u001b[38;5;28;01mas\u001b[39;00m fp:\n\u001b[1;32m     20\u001b[0m     yaml\u001b[38;5;241m.\u001b[39mdump(\n\u001b[1;32m     21\u001b[0m         {\n\u001b[1;32m     22\u001b[0m             \u001b[38;5;124m\"\u001b[39m\u001b[38;5;124mconfig\u001b[39m\u001b[38;5;124m\"\u001b[39m: config,\n\u001b[0;32m   (...)\u001b[0m\n\u001b[1;32m     26\u001b[0m         fp,\n\u001b[1;32m     27\u001b[0m     )\n",
      "File \u001b[0;32m~/anaconda3/envs/tsdiff/lib/python3.8/site-packages/IPython/core/interactiveshell.py:284\u001b[0m, in \u001b[0;36m_modified_open\u001b[0;34m(file, *args, **kwargs)\u001b[0m\n\u001b[1;32m    277\u001b[0m \u001b[38;5;28;01mif\u001b[39;00m file \u001b[38;5;129;01min\u001b[39;00m {\u001b[38;5;241m0\u001b[39m, \u001b[38;5;241m1\u001b[39m, \u001b[38;5;241m2\u001b[39m}:\n\u001b[1;32m    278\u001b[0m     \u001b[38;5;28;01mraise\u001b[39;00m \u001b[38;5;167;01mValueError\u001b[39;00m(\n\u001b[1;32m    279\u001b[0m         \u001b[38;5;124mf\u001b[39m\u001b[38;5;124m\"\u001b[39m\u001b[38;5;124mIPython won\u001b[39m\u001b[38;5;124m'\u001b[39m\u001b[38;5;124mt let you open fd=\u001b[39m\u001b[38;5;132;01m{\u001b[39;00mfile\u001b[38;5;132;01m}\u001b[39;00m\u001b[38;5;124m by default \u001b[39m\u001b[38;5;124m\"\u001b[39m\n\u001b[1;32m    280\u001b[0m         \u001b[38;5;124m\"\u001b[39m\u001b[38;5;124mas it is likely to crash IPython. If you know what you are doing, \u001b[39m\u001b[38;5;124m\"\u001b[39m\n\u001b[1;32m    281\u001b[0m         \u001b[38;5;124m\"\u001b[39m\u001b[38;5;124myou can use builtins\u001b[39m\u001b[38;5;124m'\u001b[39m\u001b[38;5;124m open.\u001b[39m\u001b[38;5;124m\"\u001b[39m\n\u001b[1;32m    282\u001b[0m     )\n\u001b[0;32m--> 284\u001b[0m \u001b[38;5;28;01mreturn\u001b[39;00m \u001b[43mio_open\u001b[49m\u001b[43m(\u001b[49m\u001b[43mfile\u001b[49m\u001b[43m,\u001b[49m\u001b[43m \u001b[49m\u001b[38;5;241;43m*\u001b[39;49m\u001b[43margs\u001b[49m\u001b[43m,\u001b[49m\u001b[43m \u001b[49m\u001b[38;5;241;43m*\u001b[39;49m\u001b[38;5;241;43m*\u001b[39;49m\u001b[43mkwargs\u001b[49m\u001b[43m)\u001b[49m\n",
      "\u001b[0;31mFileNotFoundError\u001b[0m: [Errno 2] No such file or directory: 'lightning_logs/version_3/results.yaml'"
     ]
    }
   ],
   "source": [
    "# Evaluate the model and save results\n",
    "metrics, tss, forecasts = (\n",
    "    evaluate_guidance(config, model, dataset.test, transformation)\n",
    "    if config.get(\"do_final_eval\", True)\n",
    "    else \"Final eval not performed\"\n",
    ")"
   ]
  },
  {
   "cell_type": "code",
   "execution_count": null,
   "id": "2eb91dab-61a1-446f-bfd1-33d3c494d661",
   "metadata": {},
   "outputs": [],
   "source": [
    "with open(Path(trainer.logger.log_dir) / \"results.yaml\", \"w\") as fp:\n",
    "    yaml.dump(\n",
    "        {\n",
    "            \"config\": config,\n",
    "            \"version\": trainer.logger.version,\n",
    "            \"metrics\": metrics,\n",
    "        },\n",
    "        fp,\n",
    "    )"
   ]
  },
  {
   "cell_type": "code",
   "execution_count": 20,
   "id": "300d99d9",
   "metadata": {},
   "outputs": [
    {
     "data": {
      "text/plain": [
       "[{'missing_scenario': 'none',\n",
       "  'missing_values': 0,\n",
       "  'NRMSE': 3.800542843078097,\n",
       "  'ND': 0.2093142965226088,\n",
       "  'mean_wQuantileLoss': 0.16995369944143077}]"
      ]
     },
     "execution_count": 20,
     "metadata": {},
     "output_type": "execute_result"
    }
   ],
   "source": [
    "metrics"
   ]
  },
  {
   "cell_type": "code",
   "execution_count": 21,
   "id": "0418238a",
   "metadata": {},
   "outputs": [
    {
     "data": {
      "text/plain": [
       "pandas.core.frame.DataFrame"
      ]
     },
     "execution_count": 21,
     "metadata": {},
     "output_type": "execute_result"
    }
   ],
   "source": [
    "type(tss[0])"
   ]
  },
  {
   "cell_type": "code",
   "execution_count": 22,
   "id": "e73a5d8c",
   "metadata": {},
   "outputs": [
    {
     "data": {
      "text/plain": [
       "gluonts.model.forecast.SampleForecast"
      ]
     },
     "execution_count": 22,
     "metadata": {},
     "output_type": "execute_result"
    }
   ],
   "source": [
    "type(forecasts[0])"
   ]
  },
  {
   "cell_type": "code",
   "execution_count": 23,
   "id": "2666f9ab",
   "metadata": {},
   "outputs": [
    {
     "data": {
      "text/html": [
       "<div>\n",
       "<style scoped>\n",
       "    .dataframe tbody tr th:only-of-type {\n",
       "        vertical-align: middle;\n",
       "    }\n",
       "\n",
       "    .dataframe tbody tr th {\n",
       "        vertical-align: top;\n",
       "    }\n",
       "\n",
       "    .dataframe thead th {\n",
       "        text-align: right;\n",
       "    }\n",
       "</style>\n",
       "<table border=\"1\" class=\"dataframe\">\n",
       "  <thead>\n",
       "    <tr style=\"text-align: right;\">\n",
       "      <th></th>\n",
       "      <th>0</th>\n",
       "    </tr>\n",
       "  </thead>\n",
       "  <tbody>\n",
       "    <tr>\n",
       "      <th>2015-02-22 13:00</th>\n",
       "      <td>1.0</td>\n",
       "    </tr>\n",
       "    <tr>\n",
       "      <th>2015-02-22 14:00</th>\n",
       "      <td>0.0</td>\n",
       "    </tr>\n",
       "    <tr>\n",
       "      <th>2015-02-22 15:00</th>\n",
       "      <td>0.0</td>\n",
       "    </tr>\n",
       "    <tr>\n",
       "      <th>2015-02-22 16:00</th>\n",
       "      <td>0.0</td>\n",
       "    </tr>\n",
       "    <tr>\n",
       "      <th>2015-02-22 17:00</th>\n",
       "      <td>0.0</td>\n",
       "    </tr>\n",
       "    <tr>\n",
       "      <th>...</th>\n",
       "      <td>...</td>\n",
       "    </tr>\n",
       "    <tr>\n",
       "      <th>2015-08-19 14:00</th>\n",
       "      <td>1.0</td>\n",
       "    </tr>\n",
       "    <tr>\n",
       "      <th>2015-08-19 15:00</th>\n",
       "      <td>0.0</td>\n",
       "    </tr>\n",
       "    <tr>\n",
       "      <th>2015-08-19 16:00</th>\n",
       "      <td>0.0</td>\n",
       "    </tr>\n",
       "    <tr>\n",
       "      <th>2015-08-19 17:00</th>\n",
       "      <td>0.0</td>\n",
       "    </tr>\n",
       "    <tr>\n",
       "      <th>2015-08-19 18:00</th>\n",
       "      <td>1.0</td>\n",
       "    </tr>\n",
       "  </tbody>\n",
       "</table>\n",
       "<p>4278 rows × 1 columns</p>\n",
       "</div>"
      ],
      "text/plain": [
       "                    0\n",
       "2015-02-22 13:00  1.0\n",
       "2015-02-22 14:00  0.0\n",
       "2015-02-22 15:00  0.0\n",
       "2015-02-22 16:00  0.0\n",
       "2015-02-22 17:00  0.0\n",
       "...               ...\n",
       "2015-08-19 14:00  1.0\n",
       "2015-08-19 15:00  0.0\n",
       "2015-08-19 16:00  0.0\n",
       "2015-08-19 17:00  0.0\n",
       "2015-08-19 18:00  1.0\n",
       "\n",
       "[4278 rows x 1 columns]"
      ]
     },
     "execution_count": 23,
     "metadata": {},
     "output_type": "execute_result"
    }
   ],
   "source": [
    "tss[0]"
   ]
  },
  {
   "cell_type": "code",
   "execution_count": 24,
   "id": "ea43f3df",
   "metadata": {},
   "outputs": [
    {
     "data": {
      "text/plain": [
       "gluonts.model.forecast.SampleForecast(info=None, item_id='1', samples=array([[-1.0750436e-04, -7.2586008e-05, -5.9105601e-05, ...,\n",
       "         1.4452995e-05, -8.1106802e-05,  3.3149037e-05],\n",
       "       [ 5.3978507e-05, -3.6908179e-05,  4.8865135e-05, ...,\n",
       "         6.6593573e-05, -7.1888654e-03,  3.4944002e-05],\n",
       "       [-4.5340322e-04, -1.9164782e-04, -1.8044448e-04, ...,\n",
       "         5.9784430e-05, -1.2493381e-04,  4.1295159e-05],\n",
       "       ...,\n",
       "       [-1.9376901e-05,  6.8244780e-04,  1.2306817e-03, ...,\n",
       "         3.3341393e-01,  4.9589679e-04,  2.7229942e-04],\n",
       "       [ 1.8843537e-05, -2.6282633e-04,  5.5213750e-04, ...,\n",
       "         1.1716274e-03,  1.8828529e-03, -2.4320907e-04],\n",
       "       [ 2.6596016e-03,  9.1944810e-04,  3.3576809e-02, ...,\n",
       "        -1.0861469e-03,  2.3669580e-03, -2.8309057e-04]], dtype=float32), start_date=Period('2015-08-18 19:00', 'H'))"
      ]
     },
     "execution_count": 24,
     "metadata": {},
     "output_type": "execute_result"
    }
   ],
   "source": [
    "forecasts[0]"
   ]
  },
  {
   "cell_type": "code",
   "execution_count": 62,
   "id": "c01d0d0a",
   "metadata": {},
   "outputs": [
    {
     "data": {
      "image/png": "[encoded data removed]",
      "text/plain": [
       "<Figure size 1750x875 with 1 Axes>"
      ]
     },
     "metadata": {},
     "output_type": "display_data"
    }
   ],
   "source": [
    "import matplotlib.pyplot as plt\n",
    "import pandas as pd\n",
    "import numpy as np\n",
    "\n",
    "# Assuming tss and forecasts are the lists containing your ground truths and predictions\n",
    "\n",
    "# Combine all ground truth data into a single DataFrame\n",
    "ground_truth = pd.concat(tss)\n",
    "\n",
    "# Initialize an empty list to store prediction data\n",
    "all_predictions = []\n",
    "\n",
    "# Iterate through each SampleForecast object in forecasts\n",
    "for forecast in forecasts:\n",
    "    # Calculate the mean of the prediction samples\n",
    "    pred_mean = forecast.samples.mean(axis=0)\n",
    "    # Convert start_date to a Timestamp\n",
    "    start_timestamp = forecast.start_date.to_timestamp()\n",
    "    # Create a date range for the prediction period\n",
    "    prediction_dates = pd.date_range(start=start_timestamp, periods=len(pred_mean), freq='H')\n",
    "    # Create a DataFrame for the predictions\n",
    "    pred_df = pd.DataFrame(pred_mean, index=prediction_dates, columns=['Prediction'])\n",
    "    # Append the prediction DataFrame to the list\n",
    "    all_predictions.append(pred_df)\n",
    "\n",
    "# Combine all prediction DataFrames into a single DataFrame\n",
    "predictions = pd.concat(all_predictions)\n",
    "\n",
    "# Plotting the data\n",
    "plt.figure(figsize=(14, 7))\n",
    "preds = np.zeros(len(ground_truth.values))\n",
    "preds[-len(predictions.values):] = predictions.values.squeeze()\n",
    "\n",
    "# Number of points you want to select\n",
    "num_points = 100\n",
    "\n",
    "# Randomly select indices\n",
    "random_indices = np.random.choice(len(ground_truth.values), num_points, replace=False)\n",
    "\n",
    "# Sort indices to maintain the time order\n",
    "random_indices.sort()\n",
    "\n",
    "# Select the data points at those indices\n",
    "gt = ground_truth.values[random_indices]\n",
    "\n",
    "# Randomly select indices\n",
    "random_indices = np.random.choice(len(preds), num_points, replace=False)\n",
    "\n",
    "# Sort indices to maintain the time order\n",
    "random_indices.sort()\n",
    "\n",
    "# Select the data points at those indices\n",
    "p = preds[random_indices]\n",
    "\n",
    "plt.plot(gt, label='Ground Truth', color='blue')\n",
    "plt.plot(p, label='Prediction', color='red')\n",
    "\n",
    "# Adding titles and labels\n",
    "plt.title('Time Series Ground Truth vs Predictions')\n",
    "plt.xlabel('Time')\n",
    "plt.ylabel('Value')\n",
    "plt.legend()\n",
    "plt.grid(True)\n",
    "\n",
    "# Show the plot\n",
    "plt.show()"
   ]
  },
  {
   "cell_type": "code",
   "execution_count": 50,
   "id": "24f45191",
   "metadata": {},
   "outputs": [
    {
     "data": {
      "text/plain": [
       "array([[2.],\n",
       "       [0.],\n",
       "       [1.],\n",
       "       [2.],\n",
       "       [4.],\n",
       "       [3.],\n",
       "       [3.],\n",
       "       [0.],\n",
       "       [2.],\n",
       "       [3.]], dtype=float32)"
      ]
     },
     "execution_count": 50,
     "metadata": {},
     "output_type": "execute_result"
    }
   ],
   "source": [
    "ground_truth.values[-10:]"
   ]
  },
  {
   "cell_type": "code",
   "execution_count": 51,
   "id": "460dc0a6",
   "metadata": {},
   "outputs": [
    {
     "data": {
      "text/plain": [
       "array([[2.764037 ],\n",
       "       [1.6507818],\n",
       "       [1.4931871],\n",
       "       [4.041301 ],\n",
       "       [3.2780857],\n",
       "       [2.0145986],\n",
       "       [2.6395097],\n",
       "       [2.033095 ],\n",
       "       [1.271327 ],\n",
       "       [3.4177809]], dtype=float32)"
      ]
     },
     "execution_count": 51,
     "metadata": {},
     "output_type": "execute_result"
    }
   ],
   "source": [
    "predictions.values[-10:]"
   ]
  },
  {
   "cell_type": "markdown",
   "id": "877b448f-0292-482a-b58f-8f9fa4ed375b",
   "metadata": {},
   "source": [
    "## References"
   ]
  },
  {
   "cell_type": "markdown",
   "id": "7f77be91-f336-4dde-8e86-98733cc0ec6b",
   "metadata": {},
   "source": [
    "**Kollovieh, Marcel, et al.** \"Predict, refine, synthesize: Self-guiding diffusion models for probabilistic time series forecasting.\" *Advances in Neural Information Processing Systems* 36 (2024).\n",
    "\n",
    "**GitHub Repository:** [Amazon Science - Unconditional Time Series Diffusion](https://github.com/amazon-science/unconditional-time-series-diffusion)"
   ]
  }
 ],
 "metadata": {
  "kernelspec": {
   "display_name": "tsdiff",
   "language": "python",
   "name": "tsdiff"
  },
  "language_info": {
   "codemirror_mode": {
    "name": "ipython",
    "version": 3
   },
   "file_extension": ".py",
   "mimetype": "text/x-python",
   "name": "python",
   "nbconvert_exporter": "python",
   "pygments_lexer": "ipython3",
   "version": "3.8.19"
  }
 },
 "nbformat": 4,
 "nbformat_minor": 5
}
