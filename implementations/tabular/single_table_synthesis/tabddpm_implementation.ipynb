{
  "cells": [
    {
      "cell_type": "markdown",
      "id": "comprehensive-logging",
      "metadata": {},
      "source": [
        "<center>\n",
        "  \n",
        "# TABDDPM: Modelling Tabular Data with Diffusion Models\n",
        "\n",
        "</center>"
      ]
    },
    {
      "cell_type": "markdown",
      "id": "cc1d7a55",
      "metadata": {},
      "source": [
        "Directly applying diffusion models to general tabular problems can be challenging because data points are typically represented by vectors of heterogeneous features. The inherent heterogeneity of tabular data complicates accurate modeling, as individual features can vary widely in nature; some may be continuous, while others are discrete. In this notebook, we explore **TabDDPM** \u2014 a diffusion model that can be universally applied to tabular datasets and effectively handles both categorical and numerical features.\n",
        "\n",
        "Our primary focus in this work is synthetic data generation, which is in high demand for many tabular tasks. Firstly, tabular datasets are often limited in size, unlike vision or NLP problems where large amounts of additional data are readily available online. Secondly, properly generated synthetic datasets do not contain actual user data, thus avoiding GDPR-like regulations and allowing for public sharing without compromising anonymity.\n",
        "\n",
        "In the following sections, we will delve deeper into the implementation of this method. The notebook is organized as follows:\n",
        "\n",
        "1. [Imports and Setup]()\n",
        "\n",
        "\n",
        "2. [Default Dataset]()\n",
        "\n",
        "    2.1. [Download Data]()\n",
        "    \n",
        "    2.2. [Process Data]()\n",
        "    \n",
        "    2.3. [Review Data]()\n",
        "    \n",
        "    \n",
        "3. [TabDDPM Algorithm]()\n",
        "    \n",
        "    3.1. [Load Config]()\n",
        "    \n",
        "    3.2. [Make Dataset]()\n",
        "    \n",
        "    3.3. [Instantiate Model]()\n",
        "    \n",
        "    3.4. [Train Model]()\n",
        "    \n",
        "    3.5. [Load Pretrained Model]()\n",
        "    \n",
        "    3.6. [Sample Data]()\n",
        "    \n",
        "    3.7. [Review Synthetic Data]()"
      ]
    },
    {
      "cell_type": "markdown",
      "id": "6c7a5190",
      "metadata": {},
      "source": [
        "# Imports and Setup"
      ]
    },
    {
      "cell_type": "markdown",
      "id": "d16c75e8",
      "metadata": {},
      "source": [
        "In this section, we import all necessary libraries and modules required for setting up the environment. This includes basic libraries for such numpy and pandas. We also import essential modules for data loading, model creation, and dataset downloading and processing dataset. We also specify list of possible datasets and their download URL in `NAME_URL_DICT_UCI` where you can use each of these datasets for the rest of this notebook. Furthermore based on `DATA_DIR` we specify path to raw and processed data in `RAW_DATA_DIR` and `PROCESSED_DATA_DIR` to further download the data and process it in a desired format.  Here we will focus on `\"adult\"` dataset thus we will specify it in `DATA_NAME`. "
      ]
    },
    {
      "cell_type": "code",
      "execution_count": 1,
      "id": "cooperative-tanzania",
      "metadata": {},
      "outputs": [],
      "source": [
        "import json\n",
        "import os\n",
        "from pprint import pprint\n",
        "\n",
        "import numpy as np\n",
        "import pandas as pd\n",
        "import src\n",
        "import torch\n",
        "from scripts.download_dataset import download_from_uci\n",
        "from scripts.process_dataset import process_data\n",
        "from src.baselines.tabddpm.pipeline import TabDDPM\n",
        "from src.data import make_dataset\n",
        "from src.util import visualize_default\n",
        "\n",
        "\n",
        "NAME_URL_DICT_UCI = {\n",
        "    \"adult\": \"https://archive.ics.uci.edu/static/public/2/adult.zip\",\n",
        "    \"default\": \"https://archive.ics.uci.edu/static/public/350/default+of+credit+card+clients.zip\",\n",
        "    \"magic\": \"https://archive.ics.uci.edu/static/public/159/magic+gamma+telescope.zip\",\n",
        "    \"shoppers\": \"https://archive.ics.uci.edu/static/public/468/online+shoppers+purchasing+intention+dataset.zip\",\n",
        "    \"beijing\": \"https://archive.ics.uci.edu/static/public/381/beijing+pm2+5+data.zip\",\n",
        "    \"news\": \"https://archive.ics.uci.edu/static/public/332/online+news+popularity.zip\",\n",
        "}\n",
        "\n",
        "# For shared directory you can change it to \"/projects/diffusion_bootcamp/data/tabular\"\n",
        "DATA_DIR = \"data\"\n",
        "RAW_DATA_DIR = f\"{DATA_DIR}/raw_data\"\n",
        "PROCESSED_DATA_DIR = f\"{DATA_DIR}/processed_data\"\n",
        "SYNTH_DATA_DIR = f\"{DATA_DIR}/synthetic_data\"\n",
        "DATA_NAME = \"default\"\n",
        "\n",
        "MODEL_PATH = \"models/tabddpm\""
      ]
    },
    {
      "cell_type": "markdown",
      "id": "dc51ac5c",
      "metadata": {},
      "source": [
        "# Default Dataset\n",
        "\n",
        "In this section, we will download the **Default of Credit Card Clients** dataset from the UCI repository and load it into a pandas DataFrame. This dataset contains information on default payments, demographic factors, credit data, history of payment, and bill statements of credit card clients in Taiwan from April 2005 to September 2005. We will use this dataset to demonstrate the TabDDPM method."
      ]
    },
    {
      "cell_type": "markdown",
      "id": "ready-utility",
      "metadata": {},
      "source": [
        "## Download Data"
      ]
    },
    {
      "cell_type": "markdown",
      "id": "a3100d23",
      "metadata": {},
      "source": [
        "We can download the required adult dataset to the specified directory in `RAW_DATA_DIR` using the download_from_uci function. This function takes the dataset name, the download path, and the URL of the data, and retrieves it from the UCI repository."
      ]
    },
    {
      "cell_type": "code",
      "execution_count": 2,
      "id": "adolescent-korea",
      "metadata": {},
      "outputs": [
        {
          "name": "stdout",
          "output_type": "stream",
          "text": [
            "Start processing dataset default from UCI.\n",
            "Already downloaded.\n"
          ]
        }
      ],
      "source": [
        "download_from_uci(DATA_NAME, RAW_DATA_DIR, NAME_URL_DICT_UCI)"
      ]
    },
    {
      "cell_type": "markdown",
      "id": "fitting-blend",
      "metadata": {},
      "source": [
        "## Process Data\n",
        "\n",
        "Now that we have downloaded the dataset, we need to process it into the desired CSV format using the `process_data` function. To do this, we provide the dataset name, the directory containing the information required for preprocessing, and the original data directory. The `INFO_DIR` contains a JSON file for each dataset, specifying the following:\n",
        "\n",
        "1. task_type: This must be specified and can be binclass (binary classification) or regression, depending on the type of task for each dataset. For the adult dataset, the task type is binclass.\n",
        "2. column_names: This is optional and contains the names of each column.\n",
        "3. num_col_idx: This is necessary to specify the columns with numerical values.\n",
        "4. cat_col_idx: This is necessary to specify the columns with categorical values.\n",
        "5. target_col_idx: This is necessary to specify the column containing the target value for the regression or classification task.\n",
        "6. file_type: This should be set to \"csv\" by default, as we want to preprocess the files as CSV.\n",
        "7. data_path: Optional\n",
        "8. test_path: Optional\n",
        "9. column_info: Optional\n",
        "10. train_num: Optional\n",
        "11. test_num: Optional\n",
        "\n",
        "The `process_data` function divides the raw data into training and test splits, saving them in `PROCESSED_DATA_DIR`. It also saves the processed information of the data as a JSON file in the same directory. Finally, it prints out general information about the training and test data after preprocessing, including:\n",
        "\n",
        "1. Size of the training, validation, and test tables\n",
        "2. Size of the numerical values in the training table\n",
        "3. Size of the categorical values in the training table"
      ]
    },
    {
      "cell_type": "code",
      "execution_count": 3,
      "id": "simplified-ending",
      "metadata": {},
      "outputs": [
        {
          "name": "stdout",
          "output_type": "stream",
          "text": [
            "Processing and Saving default Successfully!\n",
            "Dataset Name: default\n",
            "Total Size: 30000\n",
            "Train Size: 27000\n",
            "Test Size: 3000\n",
            "Number of Numerical Columns: 14\n",
            "Number of Categorical Columns: 10\n"
          ]
        }
      ],
      "source": [
        "INFO_DIR = \"data_info\"\n",
        "process_data(DATA_NAME, INFO_DIR, DATA_DIR)"
      ]
    },
    {
      "cell_type": "markdown",
      "id": "another-cologne",
      "metadata": {},
      "source": [
        "## Review Data"
      ]
    },
    {
      "cell_type": "markdown",
      "id": "2ad79ab5",
      "metadata": {},
      "source": [
        "After preprocessing, we will review the training dataset. To clarify the meaning of each categorical column value, we used the descriptions provided [here](https://www.kaggle.com/datasets/uciml/default-of-credit-card-clients-dataset). We implemented a `visualize_default` function that takes a DataFrame as input and replaces each category with its respective description."
      ]
    },
    {
      "cell_type": "code",
      "execution_count": 4,
      "id": "rapid-booth",
      "metadata": {
        "scrolled": false
      },
      "outputs": [
        {
          "data": {
            "text/html": [
              "<div>\n",
              "<style scoped>\n",
              "    .dataframe tbody tr th:only-of-type {\n",
              "        vertical-align: middle;\n",
              "    }\n",
              "\n",
              "    .dataframe tbody tr th {\n",
              "        vertical-align: top;\n",
              "    }\n",
              "\n",
              "    .dataframe thead th {\n",
              "        text-align: right;\n",
              "    }\n",
              "</style>\n",
              "<table border=\"1\" class=\"dataframe\">\n",
              "  <thead>\n",
              "    <tr style=\"text-align: right;\">\n",
              "      <th></th>\n",
              "      <th>LIMIT_BAL</th>\n",
              "      <th>SEX</th>\n",
              "      <th>EDUCATION</th>\n",
              "      <th>MARRIAGE</th>\n",
              "      <th>AGE</th>\n",
              "      <th>PAY_0</th>\n",
              "      <th>PAY_2</th>\n",
              "      <th>PAY_3</th>\n",
              "      <th>PAY_4</th>\n",
              "      <th>PAY_5</th>\n",
              "      <th>...</th>\n",
              "      <th>BILL_AMT4</th>\n",
              "      <th>BILL_AMT5</th>\n",
              "      <th>BILL_AMT6</th>\n",
              "      <th>PAY_AMT1</th>\n",
              "      <th>PAY_AMT2</th>\n",
              "      <th>PAY_AMT3</th>\n",
              "      <th>PAY_AMT4</th>\n",
              "      <th>PAY_AMT5</th>\n",
              "      <th>PAY_AMT6</th>\n",
              "      <th>default payment next month</th>\n",
              "    </tr>\n",
              "  </thead>\n",
              "  <tbody>\n",
              "    <tr>\n",
              "      <th>0</th>\n",
              "      <td>20000.0</td>\n",
              "      <td>female</td>\n",
              "      <td>university</td>\n",
              "      <td>married</td>\n",
              "      <td>24.0</td>\n",
              "      <td>payment delay for three months</td>\n",
              "      <td>payment delay for three months</td>\n",
              "      <td>payment delay for one month</td>\n",
              "      <td>payment delay for one month</td>\n",
              "      <td>payment delay for one month</td>\n",
              "      <td>...</td>\n",
              "      <td>18457.0</td>\n",
              "      <td>21381.0</td>\n",
              "      <td>18914.0</td>\n",
              "      <td>0.0</td>\n",
              "      <td>1500.0</td>\n",
              "      <td>1600.0</td>\n",
              "      <td>1646.0</td>\n",
              "      <td>678.0</td>\n",
              "      <td>1000.0</td>\n",
              "      <td>1</td>\n",
              "    </tr>\n",
              "    <tr>\n",
              "      <th>1</th>\n",
              "      <td>200000.0</td>\n",
              "      <td>female</td>\n",
              "      <td>university</td>\n",
              "      <td>married</td>\n",
              "      <td>39.0</td>\n",
              "      <td>payment delay for four months</td>\n",
              "      <td>payment delay for three months</td>\n",
              "      <td>payment delay for three months</td>\n",
              "      <td>payment delay for three months</td>\n",
              "      <td>payment delay for three months</td>\n",
              "      <td>...</td>\n",
              "      <td>125357.0</td>\n",
              "      <td>121853.0</td>\n",
              "      <td>124731.0</td>\n",
              "      <td>0.0</td>\n",
              "      <td>6216.0</td>\n",
              "      <td>10000.0</td>\n",
              "      <td>0.0</td>\n",
              "      <td>5000.0</td>\n",
              "      <td>4552.0</td>\n",
              "      <td>1</td>\n",
              "    </tr>\n",
              "    <tr>\n",
              "      <th>2</th>\n",
              "      <td>230000.0</td>\n",
              "      <td>female</td>\n",
              "      <td>university</td>\n",
              "      <td>single</td>\n",
              "      <td>23.0</td>\n",
              "      <td>pay duly</td>\n",
              "      <td>pay duly</td>\n",
              "      <td>pay duly</td>\n",
              "      <td>pay duly</td>\n",
              "      <td>pay duly</td>\n",
              "      <td>...</td>\n",
              "      <td>1045.0</td>\n",
              "      <td>12525.0</td>\n",
              "      <td>12219.0</td>\n",
              "      <td>1444.0</td>\n",
              "      <td>14019.0</td>\n",
              "      <td>1045.0</td>\n",
              "      <td>12525.0</td>\n",
              "      <td>244.0</td>\n",
              "      <td>725.0</td>\n",
              "      <td>0</td>\n",
              "    </tr>\n",
              "    <tr>\n",
              "      <th>3</th>\n",
              "      <td>50000.0</td>\n",
              "      <td>female</td>\n",
              "      <td>graduate school</td>\n",
              "      <td>married</td>\n",
              "      <td>35.0</td>\n",
              "      <td>payment delay for one month</td>\n",
              "      <td>payment delay for one month</td>\n",
              "      <td>payment delay for one month</td>\n",
              "      <td>unknown</td>\n",
              "      <td>unknown</td>\n",
              "      <td>...</td>\n",
              "      <td>0.0</td>\n",
              "      <td>0.0</td>\n",
              "      <td>0.0</td>\n",
              "      <td>2400.0</td>\n",
              "      <td>0.0</td>\n",
              "      <td>0.0</td>\n",
              "      <td>0.0</td>\n",
              "      <td>0.0</td>\n",
              "      <td>0.0</td>\n",
              "      <td>0</td>\n",
              "    </tr>\n",
              "    <tr>\n",
              "      <th>4</th>\n",
              "      <td>160000.0</td>\n",
              "      <td>male</td>\n",
              "      <td>graduate school</td>\n",
              "      <td>married</td>\n",
              "      <td>39.0</td>\n",
              "      <td>unknown</td>\n",
              "      <td>unknown</td>\n",
              "      <td>unknown</td>\n",
              "      <td>unknown</td>\n",
              "      <td>unknown</td>\n",
              "      <td>...</td>\n",
              "      <td>0.0</td>\n",
              "      <td>2920.0</td>\n",
              "      <td>0.0</td>\n",
              "      <td>35.0</td>\n",
              "      <td>0.0</td>\n",
              "      <td>0.0</td>\n",
              "      <td>2920.0</td>\n",
              "      <td>0.0</td>\n",
              "      <td>12140.0</td>\n",
              "      <td>0</td>\n",
              "    </tr>\n",
              "    <tr>\n",
              "      <th>5</th>\n",
              "      <td>20000.0</td>\n",
              "      <td>male</td>\n",
              "      <td>high school</td>\n",
              "      <td>others</td>\n",
              "      <td>59.0</td>\n",
              "      <td>payment delay for three months</td>\n",
              "      <td>payment delay for one month</td>\n",
              "      <td>payment delay for one month</td>\n",
              "      <td>payment delay for one month</td>\n",
              "      <td>payment delay for one month</td>\n",
              "      <td>...</td>\n",
              "      <td>18055.0</td>\n",
              "      <td>18755.0</td>\n",
              "      <td>20299.0</td>\n",
              "      <td>1596.0</td>\n",
              "      <td>1600.0</td>\n",
              "      <td>1300.0</td>\n",
              "      <td>1000.0</td>\n",
              "      <td>2000.0</td>\n",
              "      <td>0.0</td>\n",
              "      <td>1</td>\n",
              "    </tr>\n",
              "    <tr>\n",
              "      <th>6</th>\n",
              "      <td>50000.0</td>\n",
              "      <td>male</td>\n",
              "      <td>university</td>\n",
              "      <td>single</td>\n",
              "      <td>42.0</td>\n",
              "      <td>payment delay for one month</td>\n",
              "      <td>payment delay for one month</td>\n",
              "      <td>payment delay for one month</td>\n",
              "      <td>payment delay for one month</td>\n",
              "      <td>payment delay for one month</td>\n",
              "      <td>...</td>\n",
              "      <td>17029.0</td>\n",
              "      <td>10575.0</td>\n",
              "      <td>9478.0</td>\n",
              "      <td>2500.0</td>\n",
              "      <td>2000.0</td>\n",
              "      <td>2500.0</td>\n",
              "      <td>500.0</td>\n",
              "      <td>500.0</td>\n",
              "      <td>500.0</td>\n",
              "      <td>0</td>\n",
              "    </tr>\n",
              "    <tr>\n",
              "      <th>7</th>\n",
              "      <td>130000.0</td>\n",
              "      <td>female</td>\n",
              "      <td>graduate school</td>\n",
              "      <td>single</td>\n",
              "      <td>26.0</td>\n",
              "      <td>payment delay for one month</td>\n",
              "      <td>pay duly</td>\n",
              "      <td>pay duly</td>\n",
              "      <td>pay duly</td>\n",
              "      <td>unknown</td>\n",
              "      <td>...</td>\n",
              "      <td>-884.0</td>\n",
              "      <td>-6332.0</td>\n",
              "      <td>-9333.0</td>\n",
              "      <td>1298.0</td>\n",
              "      <td>6730.0</td>\n",
              "      <td>900.0</td>\n",
              "      <td>5448.0</td>\n",
              "      <td>0.0</td>\n",
              "      <td>25000.0</td>\n",
              "      <td>0</td>\n",
              "    </tr>\n",
              "    <tr>\n",
              "      <th>8</th>\n",
              "      <td>300000.0</td>\n",
              "      <td>female</td>\n",
              "      <td>university</td>\n",
              "      <td>married</td>\n",
              "      <td>40.0</td>\n",
              "      <td>payment delay for one month</td>\n",
              "      <td>payment delay for one month</td>\n",
              "      <td>payment delay for one month</td>\n",
              "      <td>payment delay for one month</td>\n",
              "      <td>payment delay for one month</td>\n",
              "      <td>...</td>\n",
              "      <td>196467.0</td>\n",
              "      <td>201425.0</td>\n",
              "      <td>-8276.0</td>\n",
              "      <td>7028.0</td>\n",
              "      <td>6000.0</td>\n",
              "      <td>50000.0</td>\n",
              "      <td>10013.0</td>\n",
              "      <td>9505.0</td>\n",
              "      <td>175074.0</td>\n",
              "      <td>0</td>\n",
              "    </tr>\n",
              "    <tr>\n",
              "      <th>9</th>\n",
              "      <td>20000.0</td>\n",
              "      <td>male</td>\n",
              "      <td>university</td>\n",
              "      <td>married</td>\n",
              "      <td>27.0</td>\n",
              "      <td>payment delay for one month</td>\n",
              "      <td>payment delay for one month</td>\n",
              "      <td>payment delay for one month</td>\n",
              "      <td>payment delay for four months</td>\n",
              "      <td>payment delay for three months</td>\n",
              "      <td>...</td>\n",
              "      <td>18472.0</td>\n",
              "      <td>18037.0</td>\n",
              "      <td>18487.0</td>\n",
              "      <td>3000.0</td>\n",
              "      <td>10000.0</td>\n",
              "      <td>0.0</td>\n",
              "      <td>0.0</td>\n",
              "      <td>900.0</td>\n",
              "      <td>2000.0</td>\n",
              "      <td>0</td>\n",
              "    </tr>\n",
              "  </tbody>\n",
              "</table>\n",
              "<p>10 rows \u00d7 24 columns</p>\n",
              "</div>"
            ],
            "text/plain": [
              "   LIMIT_BAL     SEX        EDUCATION MARRIAGE   AGE  \\\n",
              "0    20000.0  female       university  married  24.0   \n",
              "1   200000.0  female       university  married  39.0   \n",
              "2   230000.0  female       university   single  23.0   \n",
              "3    50000.0  female  graduate school  married  35.0   \n",
              "4   160000.0    male  graduate school  married  39.0   \n",
              "5    20000.0    male      high school   others  59.0   \n",
              "6    50000.0    male       university   single  42.0   \n",
              "7   130000.0  female  graduate school   single  26.0   \n",
              "8   300000.0  female       university  married  40.0   \n",
              "9    20000.0    male       university  married  27.0   \n",
              "\n",
              "                            PAY_0                           PAY_2  \\\n",
              "0  payment delay for three months  payment delay for three months   \n",
              "1   payment delay for four months  payment delay for three months   \n",
              "2                        pay duly                        pay duly   \n",
              "3     payment delay for one month     payment delay for one month   \n",
              "4                         unknown                         unknown   \n",
              "5  payment delay for three months     payment delay for one month   \n",
              "6     payment delay for one month     payment delay for one month   \n",
              "7     payment delay for one month                        pay duly   \n",
              "8     payment delay for one month     payment delay for one month   \n",
              "9     payment delay for one month     payment delay for one month   \n",
              "\n",
              "                            PAY_3                           PAY_4  \\\n",
              "0     payment delay for one month     payment delay for one month   \n",
              "1  payment delay for three months  payment delay for three months   \n",
              "2                        pay duly                        pay duly   \n",
              "3     payment delay for one month                         unknown   \n",
              "4                         unknown                         unknown   \n",
              "5     payment delay for one month     payment delay for one month   \n",
              "6     payment delay for one month     payment delay for one month   \n",
              "7                        pay duly                        pay duly   \n",
              "8     payment delay for one month     payment delay for one month   \n",
              "9     payment delay for one month   payment delay for four months   \n",
              "\n",
              "                            PAY_5  ... BILL_AMT4  BILL_AMT5  BILL_AMT6  \\\n",
              "0     payment delay for one month  ...   18457.0    21381.0    18914.0   \n",
              "1  payment delay for three months  ...  125357.0   121853.0   124731.0   \n",
              "2                        pay duly  ...    1045.0    12525.0    12219.0   \n",
              "3                         unknown  ...       0.0        0.0        0.0   \n",
              "4                         unknown  ...       0.0     2920.0        0.0   \n",
              "5     payment delay for one month  ...   18055.0    18755.0    20299.0   \n",
              "6     payment delay for one month  ...   17029.0    10575.0     9478.0   \n",
              "7                         unknown  ...    -884.0    -6332.0    -9333.0   \n",
              "8     payment delay for one month  ...  196467.0   201425.0    -8276.0   \n",
              "9  payment delay for three months  ...   18472.0    18037.0    18487.0   \n",
              "\n",
              "   PAY_AMT1  PAY_AMT2  PAY_AMT3  PAY_AMT4  PAY_AMT5  PAY_AMT6  \\\n",
              "0       0.0    1500.0    1600.0    1646.0     678.0    1000.0   \n",
              "1       0.0    6216.0   10000.0       0.0    5000.0    4552.0   \n",
              "2    1444.0   14019.0    1045.0   12525.0     244.0     725.0   \n",
              "3    2400.0       0.0       0.0       0.0       0.0       0.0   \n",
              "4      35.0       0.0       0.0    2920.0       0.0   12140.0   \n",
              "5    1596.0    1600.0    1300.0    1000.0    2000.0       0.0   \n",
              "6    2500.0    2000.0    2500.0     500.0     500.0     500.0   \n",
              "7    1298.0    6730.0     900.0    5448.0       0.0   25000.0   \n",
              "8    7028.0    6000.0   50000.0   10013.0    9505.0  175074.0   \n",
              "9    3000.0   10000.0       0.0       0.0     900.0    2000.0   \n",
              "\n",
              "   default payment next month  \n",
              "0                           1  \n",
              "1                           1  \n",
              "2                           0  \n",
              "3                           0  \n",
              "4                           0  \n",
              "5                           1  \n",
              "6                           0  \n",
              "7                           0  \n",
              "8                           0  \n",
              "9                           0  \n",
              "\n",
              "[10 rows x 24 columns]"
            ]
          },
          "execution_count": 4,
          "metadata": {},
          "output_type": "execute_result"
        }
      ],
      "source": [
        "df = pd.read_csv(f\"{PROCESSED_DATA_DIR}/{DATA_NAME}/train.csv\")\n",
        "\n",
        "# Display the first few rows of the DataFrame\n",
        "visualize_default(df).head(10)"
      ]
    },
    {
      "cell_type": "code",
      "execution_count": 5,
      "id": "julian-bumper",
      "metadata": {
        "scrolled": false
      },
      "outputs": [],
      "source": [
        "# Open the JSON file and read its contents\n",
        "with open(f\"{PROCESSED_DATA_DIR}/{DATA_NAME}/info.json\", \"r\") as file:\n",
        "    data_info = json.load(file)\n",
        "\n",
        "# Display the JSON data\n",
        "# pprint(data_info)"
      ]
    },
    {
      "cell_type": "markdown",
      "id": "moderate-factory",
      "metadata": {},
      "source": [
        "# TabDDPM Algorithm"
      ]
    },
    {
      "cell_type": "markdown",
      "id": "5daaffdc",
      "metadata": {},
      "source": [
        "In this section, we will describe the design of TabDDPM as well as its main hyperparameters loaded through config, which affect the model\u2019s effectiveness. "
      ]
    },
    {
      "cell_type": "markdown",
      "id": "58b425e7",
      "metadata": {},
      "source": [
        "**TabDDPM:** uses the multinomial diffusion to model the categorical and binary features, and the Gaussian diffusion to model the numerical ones. The model is trained using the diffusion process, which is a continuous-time Markov chain that models the data distribution. In more detail, for a tabular data sample that consists of N numerical featuresand C categorical features with Ki categories each, TabDDPM takes one-hot encoded versions of categorical features as an input, and normalized numerical features. The figure below illustrates the diffusion process for classification problems; t, y and l denote a diffusion timestep, a class label, and logits, respectively.\n",
        "\n",
        "<p align=\"center\">\n",
        "<img src=\"data:image/png;base64,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\" width=\"1000\"/>\n",
        "</p>"
      ]
    },
    {
      "cell_type": "markdown",
      "id": "d37161c0",
      "metadata": {},
      "source": [
        "**Diffusion models:**  are likelihood-based generative models that handle the data through forward and reverse Markov processes. The forward process gradually adds noise to an initial sample x0 from the data distribution q(x0) sampling noise from the predefined distributions q(xt|xt\u22121) with variances {\u03b21, ..., \u03b2T}.\n",
        "\n",
        "<p align=\"center\">\n",
        "<img src=\"data:image/png;base64,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\" width=\"300\"/>\n",
        "</p>"
      ]
    },
    {
      "cell_type": "markdown",
      "id": "43e6bfff",
      "metadata": {},
      "source": [
        "The reverse diffusion proces gradually denoises a latent variable xT\u223cq(xT) and allows generating new data samples from q(x0). Distributions p(xt\u22121|xt) are usually unknown and approximated by a neural network with parameters \u03b8.\n",
        "\n",
        "<p align=\"center\">\n",
        "<img src=\"data:image/png;base64,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\" width=\"280\"/>\n",
        "</p>"
      ]
    },
    {
      "cell_type": "markdown",
      "id": "0a1c2058",
      "metadata": {},
      "source": [
        "**Gaussian diffusion models:** operate in continuous spaces where forward and reverse processes are characterized by Gaussian distributions:\n",
        "\n",
        "<p align=\"center\">\n",
        "<img src=\"data:image/png;base64,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\" width=\"440\"/>\n",
        "</p>"
      ]
    },
    {
      "cell_type": "markdown",
      "id": "3ad099f5",
      "metadata": {},
      "source": [
        "While in general \u03b8 parameters are learned from the data by optimizing a variational lower bound, in practice for Gaussian modeling, this objective can be simplified to the sum of mean-squared errors between \u03b5\u03b8(xt ,t) and \u03b5 over all timesteps t as follows:\n",
        "\n",
        "<p align=\"center\">\n",
        "<img src=\"data:image/png;base64,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\" width=\"330\"/>\n",
        "</p>"
      ]
    },
    {
      "cell_type": "markdown",
      "id": "f24a46d1",
      "metadata": {},
      "source": [
        "**Multinomial diffusion models:** are designed to generate categorical data where samples are a one-hot encoded categorical variable with K values. The multinomial forward diffusion process defines q(xt|xt\u22121) as a categorical distribution that corrupts the data by uniform noise over K classes: \n",
        "\n",
        "<p align=\"center\">\n",
        "<img src=\"data:image/png;base64,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\" width=\"440\"/>\n",
        "</p>"
      ]
    },
    {
      "cell_type": "markdown",
      "id": "d537779d",
      "metadata": {},
      "source": [
        "The reverse distribution p\u03b8(xt\u22121|xt) is parameterized as q(xt\u22121|xt,x\u02c60(xt,t)), where x\u02c60 is predicted by a neural network. "
      ]
    },
    {
      "cell_type": "markdown",
      "id": "5f362ca1",
      "metadata": {},
      "source": [
        "## Load Config"
      ]
    },
    {
      "cell_type": "markdown",
      "id": "d7213754",
      "metadata": {},
      "source": [
        "In this section, we will load the configuration file that contains the hyperparameters for the TabDDPM model. "
      ]
    },
    {
      "cell_type": "code",
      "execution_count": 6,
      "id": "d8a5701a",
      "metadata": {},
      "outputs": [
        {
          "name": "stdout",
          "output_type": "stream",
          "text": [
            "{'device': 'cuda:0',\n",
            " 'diffusion_params': {'gaussian_loss_type': 'mse', 'num_timesteps': 1000},\n",
            " 'eval': {'T': {'cat_encoding': 'one-hot',\n",
            "                'cat_min_frequency': None,\n",
            "                'cat_nan_policy': None,\n",
            "                'normalization': 'quantile',\n",
            "                'num_nan_policy': None,\n",
            "                'seed': 0,\n",
            "                'y_policy': 'default'},\n",
            "          'type': {'eval_model': 'mlp', 'eval_type': 'synthetic'}},\n",
            " 'model_params': {'is_y_cond': False,\n",
            "                  'num_classes': 2,\n",
            "                  'rtdl_params': {'d_layers': [1024, 2048, 2048, 1024],\n",
            "                                  'dropout': 0.0}},\n",
            " 'model_type': 'mlp',\n",
            " 'num_numerical_features': 14,\n",
            " 'sample': {'batch_size': 10000, 'num_samples': 27000, 'seed': 0},\n",
            " 'seed': 0,\n",
            " 'task_type': 'binclass',\n",
            " 'train': {'T': {'cat_encoding': None,\n",
            "                 'cat_min_frequency': None,\n",
            "                 'cat_nan_policy': None,\n",
            "                 'normalization': 'quantile',\n",
            "                 'num_nan_policy': 'mean',\n",
            "                 'seed': 0,\n",
            "                 'y_policy': 'default'},\n",
            "           'main': {'batch_size': 4096,\n",
            "                    'lr': 0.001809824563637657,\n",
            "                    'steps': 100000,\n",
            "                    'weight_decay': 0.0}}}\n"
          ]
        }
      ],
      "source": [
        "config_path = f\"src/baselines/tabddpm/configs/{DATA_NAME}.toml\"\n",
        "## Tabddpm is trained unconditional in this repo but conditional in main paper\n",
        "raw_config = src.load_config(config_path)\n",
        "\n",
        "pprint(raw_config)"
      ]
    },
    {
      "cell_type": "markdown",
      "id": "871a2bc8",
      "metadata": {},
      "source": [
        "The configuration file is a TOML file that contains the following hyperparameters:\n",
        "\n",
        "1. **model_type:**  specifies the type of backbone model to be used for learning the denoising process. For Adult dataset, this should be set to \"mlp\". The reverse diffusion step in TabDDPM is modelled by a multi-layer neural network that has an output of the same dimensionality as x0, where the first N coordinates are the predictions of \u03b5 for the Gaussian diffusion and the rest are the predictions of x_ohe for the multinomial diffusions. This model takes as input the corrupted data xt and the timestep t, and outputs the denoised data xt\u22121 as follows:\n",
        "\n",
        "<p align=\"center\">\n",
        "<img src=\"data:image/png;base64,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\" width=\"440\"/>\n",
        "</p>"
      ]
    },
    {
      "cell_type": "markdown",
      "id": "6e1b8823",
      "metadata": {},
      "source": [
        "2. **model_params:** contains the hyperparameters for the backbone model. For the Adult dataset, we use an MLP model with the following hyperparameters:\n",
        "    - is_y_cond: Whether the model is trained to be conditioned on the target value or not. By default, this should be set to True.\n",
        "    - d_layers: The dimension of layers in the MLP model.\n",
        "    - dropout: The dropout rate.\n",
        "\n",
        "\n",
        "    \n",
        "3. **task_type:** specifice the task type that we will use to conidition our training to and can be binclass (binary classification) or regression, depending on each dataset. For the Adult dataset, the task type is binclass. For classification datasets, we use a class- conditional model, i.e. p\u03b8(xt\u22121|xt, y) is learned. For regression datasets, we consider a target value as an additional numerical feature, and the joint distribution is learned.\n",
        "\n",
        "4. **diffusion_params:** contains number of total diffusion steps, the diffusion step size, and type of loss used to minimize the predicited noise in Gaussian diffusion. \n",
        "\n",
        "5. **train.main:** contains the basic hyperparameters for training the model such number of epochs (steps), the batch size (batch_size), the learning rate(lr), and the rate of weight decay (weight_decay).\n",
        "\n",
        "6. **train.T:** contains the defined transformations on train data such as normalization, standardization, and one-hot encoding. \n",
        "    - For preprocessing numerical features, we use the gaussian quantile transformation and replace the Nan values with mean of each row. \n",
        "    - For categorical features, we use the one-hot encoding method. Each categorical feature is handled by a separate forward diffusion process, i.e., the noise components for all features are sampled independently. \n",
        "\n",
        "7. **sample:** contains the hyperparameters for sampling the data from the trained model. It includes the number of samples to generate, the batch size of sampling, and the seed used for random noise initialization.\n",
        "\n",
        "8. **eval.T:** contains the defined transformations on evaluation data such as normalization, standardization, and one-hot encoding. \n"
      ]
    },
    {
      "cell_type": "markdown",
      "id": "failing-quality",
      "metadata": {},
      "source": [
        "## Make Dataset"
      ]
    },
    {
      "cell_type": "markdown",
      "id": "c6b6854c",
      "metadata": {},
      "source": [
        "Now that we have processed the data, we can create a dataset object. First we instantiate transformations needed for the dataset, such as normalization, standardization, and one-hot encoding in `T`. Next using make_dataset function we create a dataset object that contains the training and test data, as well as the column names, numerical column indices, and categorical column indices. This function takes the directory containing the processed data, the transformation and task type as input. Also it takes a boolean argument `change_val` that if it set true it will change the validation data to a split of train data rather than test data.\n",
        "It returns a dataset object that contains the training and test data, as well as the column names, numerical column indices, and categorical column indices."
      ]
    },
    {
      "cell_type": "code",
      "execution_count": 7,
      "id": "second-romance",
      "metadata": {},
      "outputs": [
        {
          "name": "stdout",
          "output_type": "stream",
          "text": [
            "No NaNs in numerical features, skipping\n"
          ]
        }
      ],
      "source": [
        "T = src.Transformations(**raw_config[\"train\"][\"T\"])\n",
        "\n",
        "dataset = make_dataset(\n",
        "    f\"{PROCESSED_DATA_DIR}/{DATA_NAME}\",\n",
        "    T,\n",
        "    task_type=raw_config[\"task_type\"],\n",
        "    change_val=False,\n",
        ")"
      ]
    },
    {
      "cell_type": "markdown",
      "id": "1d2b294c",
      "metadata": {},
      "source": [
        "## Instantiate Model"
      ]
    },
    {
      "cell_type": "markdown",
      "id": "984a84c6",
      "metadata": {},
      "source": [
        "Next, we instantiate the TabDDPM model. To do so first we need to apply some modifactions to loaded configs based on the dataset. We will set the number of numerical and size of one-hot coded categorical features based on the dataset."
      ]
    },
    {
      "cell_type": "code",
      "execution_count": 8,
      "id": "allied-sunday",
      "metadata": {},
      "outputs": [
        {
          "name": "stdout",
          "output_type": "stream",
          "text": [
            "Each Categorical Features Size:  [ 2  2  7  4 11 11 11 11 10 10]\n",
            "Numerical Features Size:  14\n"
          ]
        }
      ],
      "source": [
        "dim_categorical_features = np.array(dataset.get_category_sizes(\"train\"))\n",
        "print(\"Each Categorical Features Size: \", dim_categorical_features)\n",
        "if (\n",
        "    len(dim_categorical_features) == 0\n",
        "    or raw_config[\"train\"][\"T\"][\"cat_encoding\"] == \"one-hot\"\n",
        "):\n",
        "    dim_categorical_features = np.array([0])\n",
        "\n",
        "num_numerical_features = (\n",
        "    dataset.X_num[\"train\"].shape[1] if dataset.X_num is not None else 0\n",
        ")\n",
        "print(\"Numerical Features Size: \", num_numerical_features)"
      ]
    },
    {
      "cell_type": "markdown",
      "id": "59532a94",
      "metadata": {},
      "source": [
        "We will also set the input size of the model as sum of size of categorical plus length of numerical features."
      ]
    },
    {
      "cell_type": "code",
      "execution_count": 9,
      "id": "4c2fb00c",
      "metadata": {},
      "outputs": [
        {
          "name": "stdout",
          "output_type": "stream",
          "text": [
            "Model Input Size: 93\n"
          ]
        }
      ],
      "source": [
        "dim_input = np.sum(dim_categorical_features) + num_numerical_features\n",
        "raw_config[\"model_params\"][\"d_in\"] = dim_input\n",
        "print(\"Model Input Size:\", dim_input)"
      ]
    },
    {
      "cell_type": "markdown",
      "id": "c5a14719",
      "metadata": {},
      "source": [
        "Also we set device to be \"cuda\" if available otherwise we will use \"cpu\"."
      ]
    },
    {
      "cell_type": "code",
      "execution_count": 10,
      "id": "3f47437f",
      "metadata": {},
      "outputs": [],
      "source": [
        "device = \"cuda\" if torch.cuda.is_available() else \"cpu\""
      ]
    },
    {
      "cell_type": "markdown",
      "id": "3661314c",
      "metadata": {},
      "source": [
        "Finally, we will instantiate the model using the `TabDDPM` class. TabDDPM class takes the following arguments:\n",
        "\n",
        "1. dataset: The dataset object containing the training and test data, as well as the column names, numerical column indices, and categorical column indices.\n",
        "2. num_numerical_features: The number of numerical features in the dataset.\n",
        "3. dim_categorical_features: The list of size of the one-hot encoded categorical features.\n",
        "4. model_type: The type of backbone model to be used for learning the denoising process.\n",
        "5. model_params: The hyperparameters for the backbone model.\n",
        "6. diffusion_params: The hyperparameters for the diffusion process.\n",
        "7. device: The device to use for training the model."
      ]
    },
    {
      "cell_type": "code",
      "execution_count": 11,
      "id": "developed-gross",
      "metadata": {},
      "outputs": [
        {
          "name": "stdout",
          "output_type": "stream",
          "text": [
            "{'num_classes': 2, 'is_y_cond': False, 'rtdl_params': {'d_layers': [1024, 2048, 2048, 1024], 'dropout': 0.0}, 'd_in': 93}\n",
            "the number of parameters 11734109\n"
          ]
        }
      ],
      "source": [
        "tabddpm = TabDDPM(\n",
        "    dataset=dataset,\n",
        "    num_numerical_features=num_numerical_features,\n",
        "    num_classes=dim_categorical_features,\n",
        "    model_type=raw_config[\"model_type\"],\n",
        "    model_params=raw_config[\"model_params\"],\n",
        "    device=device,\n",
        "    **raw_config[\"diffusion_params\"],\n",
        ")"
      ]
    },
    {
      "cell_type": "markdown",
      "id": "a38efa0e",
      "metadata": {},
      "source": [
        "TabDDPM class first instantiates the backbone model, which is a multi-layer neural network that models the reverse diffusion process using `get_model` function. It then passes this model to `GaussianMultinomialDiffusion` class to initializes the diffusion process."
      ]
    },
    {
      "cell_type": "markdown",
      "id": "federal-boost",
      "metadata": {},
      "source": [
        "## Train Model"
      ]
    },
    {
      "cell_type": "markdown",
      "id": "f204dce9",
      "metadata": {},
      "source": [
        "Now that we have instantiated the model, we can train it using the `train` function. This function takes the training arguments from the config file and path to save the trained model. It trains the model on the training data using the `Trainer` class. It returns the trained model and the training loss."
      ]
    },
    {
      "cell_type": "code",
      "execution_count": null,
      "id": "russian-jimmy",
      "metadata": {
        "scrolled": false
      },
      "outputs": [],
      "source": [
        "os.makedirs(f\"{MODEL_PATH}/{DATA_NAME}\")\n",
        "\n",
        "tabddpm.train(\n",
        "    **raw_config[\"train\"][\"main\"],\n",
        "    model_save_path=f\"{MODEL_PATH}/{DATA_NAME}\",\n",
        ")"
      ]
    },
    {
      "cell_type": "markdown",
      "id": "e0624de8",
      "metadata": {},
      "source": [
        "## Load pretrained Model"
      ]
    },
    {
      "cell_type": "markdown",
      "id": "a9def4df",
      "metadata": {},
      "source": [
        "Instead of training model from scratch, we can also load weights of pre-trained model from give checkpoint with `load_model` function."
      ]
    },
    {
      "cell_type": "code",
      "execution_count": 12,
      "id": "29eb097c",
      "metadata": {},
      "outputs": [
        {
          "name": "stdout",
          "output_type": "stream",
          "text": [
            "Loaded model from /projects/diffusion_bootcamp/models/tabular/tabddpm/default/model_100000.pt\n"
          ]
        }
      ],
      "source": [
        "pretrained_model_path = (\n",
        "    \"/projects/diffusion_bootcamp/models/tabular/tabddpm/default/model_100000.pt\"\n",
        ")\n",
        "\n",
        "tabddpm.load_model(\n",
        "    ckpt_path=pretrained_model_path,\n",
        ")"
      ]
    },
    {
      "cell_type": "markdown",
      "id": "round-smile",
      "metadata": {},
      "source": [
        "## Sample Data"
      ]
    },
    {
      "cell_type": "markdown",
      "id": "1f6801c3",
      "metadata": {},
      "source": [
        "Now that we trained the model effectively, using `sample` function we can generate synthetic data starting from compelete noise. The input of this function is as follows:\n",
        "\n",
        "1. info_path: The path to the JSON file containing the information about the dataset.\n",
        "2. num_samples: The number of samples to generate.\n",
        "3. batch_size: The batch size for sampling the data.\n",
        "4. sample_save_path: The path to save the generated samples.\n",
        "5. ddim: Whether the sampling strategy is DDPM (Denoising Diffusion Probabilistic Models) and DDIM (Denoising Diffusion Implicit Models). DDPM produces high-quality samples but requires many computationally expensive sampling steps, making it slower. In contrast, DDIM (Denoising Diffusion Implicit Models) offers faster sampling with fewer steps by using a deterministic process, maintaining similar sample quality with improved efficiency. The choice between them depends on the need for speed versus the highest possible sample quality.\n",
        "6. steps: The number of steps for sampling the data. This is the number of diffusion steps to take when sampling the data. The higher the number of steps, the better the quality of the generated samples.\n"
      ]
    },
    {
      "cell_type": "code",
      "execution_count": 13,
      "id": "stainless-ferry",
      "metadata": {},
      "outputs": [
        {
          "name": "stdout",
          "output_type": "stream",
          "text": [
            "Sample using DDIM.\n",
            "Sample timestep  999\n",
            "Sample timestep  999\n",
            "Sample timestep  999\n",
            "(27000, 10)\n",
            "Sampling time: 174.21547436714172\n"
          ]
        }
      ],
      "source": [
        "tabddpm.sample(\n",
        "    info_path=f\"{PROCESSED_DATA_DIR}/{DATA_NAME}/info.json\",\n",
        "    num_samples=raw_config[\"sample\"][\"num_samples\"],\n",
        "    batch_size=raw_config[\"sample\"][\"batch_size\"],\n",
        "    sample_save_path=f\"{SYNTH_DATA_DIR}/{DATA_NAME}/tabddpm.csv\",\n",
        "    ddim=True,\n",
        "    steps=1000,\n",
        ")"
      ]
    },
    {
      "cell_type": "markdown",
      "id": "dried-encounter",
      "metadata": {},
      "source": [
        "## Review Synthetic Data"
      ]
    },
    {
      "cell_type": "markdown",
      "id": "cb748981",
      "metadata": {},
      "source": [
        "Finally here, we review the synthesized data. In the following `evaluate_synthetic_data.ipynb` notebook, we will evaluate this synthesized data with respect to various metrics."
      ]
    },
    {
      "cell_type": "code",
      "execution_count": 6,
      "id": "constitutional-price",
      "metadata": {},
      "outputs": [
        {
          "data": {
            "text/html": [
              "<div>\n",
              "<style scoped>\n",
              "    .dataframe tbody tr th:only-of-type {\n",
              "        vertical-align: middle;\n",
              "    }\n",
              "\n",
              "    .dataframe tbody tr th {\n",
              "        vertical-align: top;\n",
              "    }\n",
              "\n",
              "    .dataframe thead th {\n",
              "        text-align: right;\n",
              "    }\n",
              "</style>\n",
              "<table border=\"1\" class=\"dataframe\">\n",
              "  <thead>\n",
              "    <tr style=\"text-align: right;\">\n",
              "      <th></th>\n",
              "      <th>LIMIT_BAL</th>\n",
              "      <th>SEX</th>\n",
              "      <th>EDUCATION</th>\n",
              "      <th>MARRIAGE</th>\n",
              "      <th>AGE</th>\n",
              "      <th>PAY_0</th>\n",
              "      <th>PAY_2</th>\n",
              "      <th>PAY_3</th>\n",
              "      <th>PAY_4</th>\n",
              "      <th>PAY_5</th>\n",
              "      <th>...</th>\n",
              "      <th>BILL_AMT4</th>\n",
              "      <th>BILL_AMT5</th>\n",
              "      <th>BILL_AMT6</th>\n",
              "      <th>PAY_AMT1</th>\n",
              "      <th>PAY_AMT2</th>\n",
              "      <th>PAY_AMT3</th>\n",
              "      <th>PAY_AMT4</th>\n",
              "      <th>PAY_AMT5</th>\n",
              "      <th>PAY_AMT6</th>\n",
              "      <th>default payment next month</th>\n",
              "    </tr>\n",
              "  </thead>\n",
              "  <tbody>\n",
              "    <tr>\n",
              "      <th>0</th>\n",
              "      <td>160000.0</td>\n",
              "      <td>female</td>\n",
              "      <td>high school</td>\n",
              "      <td>single</td>\n",
              "      <td>49.0</td>\n",
              "      <td>payment delay for one month</td>\n",
              "      <td>payment delay for one month</td>\n",
              "      <td>pay duly</td>\n",
              "      <td>pay duly</td>\n",
              "      <td>pay duly</td>\n",
              "      <td>...</td>\n",
              "      <td>9028.37800</td>\n",
              "      <td>0.0000</td>\n",
              "      <td>0.00000</td>\n",
              "      <td>2000.00000</td>\n",
              "      <td>2074.8210</td>\n",
              "      <td>5317.57500</td>\n",
              "      <td>0.00000</td>\n",
              "      <td>0.00000</td>\n",
              "      <td>0.00000</td>\n",
              "      <td>1</td>\n",
              "    </tr>\n",
              "    <tr>\n",
              "      <th>1</th>\n",
              "      <td>100000.0</td>\n",
              "      <td>female</td>\n",
              "      <td>university</td>\n",
              "      <td>married</td>\n",
              "      <td>32.0</td>\n",
              "      <td>payment delay for one month</td>\n",
              "      <td>payment delay for one month</td>\n",
              "      <td>pay duly</td>\n",
              "      <td>payment delay for one month</td>\n",
              "      <td>payment delay for one month</td>\n",
              "      <td>...</td>\n",
              "      <td>16427.72500</td>\n",
              "      <td>-4363.7830</td>\n",
              "      <td>12100.33300</td>\n",
              "      <td>3518.13450</td>\n",
              "      <td>2500.0000</td>\n",
              "      <td>1867.56840</td>\n",
              "      <td>0.00000</td>\n",
              "      <td>17095.41600</td>\n",
              "      <td>1500.00000</td>\n",
              "      <td>0</td>\n",
              "    </tr>\n",
              "    <tr>\n",
              "      <th>2</th>\n",
              "      <td>150000.0</td>\n",
              "      <td>female</td>\n",
              "      <td>university</td>\n",
              "      <td>single</td>\n",
              "      <td>35.0</td>\n",
              "      <td>pay duly</td>\n",
              "      <td>pay duly</td>\n",
              "      <td>pay duly</td>\n",
              "      <td>pay duly</td>\n",
              "      <td>pay duly</td>\n",
              "      <td>...</td>\n",
              "      <td>11077.29000</td>\n",
              "      <td>0.0000</td>\n",
              "      <td>0.00000</td>\n",
              "      <td>0.00000</td>\n",
              "      <td>7858.3213</td>\n",
              "      <td>11506.51000</td>\n",
              "      <td>0.00000</td>\n",
              "      <td>0.00000</td>\n",
              "      <td>0.00000</td>\n",
              "      <td>0</td>\n",
              "    </tr>\n",
              "    <tr>\n",
              "      <th>3</th>\n",
              "      <td>50000.0</td>\n",
              "      <td>female</td>\n",
              "      <td>graduate school</td>\n",
              "      <td>single</td>\n",
              "      <td>24.0</td>\n",
              "      <td>payment delay for one month</td>\n",
              "      <td>payment delay for one month</td>\n",
              "      <td>payment delay for one month</td>\n",
              "      <td>payment delay for one month</td>\n",
              "      <td>payment delay for one month</td>\n",
              "      <td>...</td>\n",
              "      <td>19580.71500</td>\n",
              "      <td>14270.3440</td>\n",
              "      <td>12035.43800</td>\n",
              "      <td>2000.00000</td>\n",
              "      <td>2000.0000</td>\n",
              "      <td>1000.00000</td>\n",
              "      <td>386.86182</td>\n",
              "      <td>329.12270</td>\n",
              "      <td>500.00000</td>\n",
              "      <td>1</td>\n",
              "    </tr>\n",
              "    <tr>\n",
              "      <th>4</th>\n",
              "      <td>70000.0</td>\n",
              "      <td>female</td>\n",
              "      <td>university</td>\n",
              "      <td>single</td>\n",
              "      <td>26.0</td>\n",
              "      <td>payment delay for one month</td>\n",
              "      <td>payment delay for one month</td>\n",
              "      <td>payment delay for one month</td>\n",
              "      <td>payment delay for one month</td>\n",
              "      <td>payment delay for one month</td>\n",
              "      <td>...</td>\n",
              "      <td>84337.36000</td>\n",
              "      <td>93378.7100</td>\n",
              "      <td>89728.94500</td>\n",
              "      <td>4000.00000</td>\n",
              "      <td>3978.4920</td>\n",
              "      <td>2201.65400</td>\n",
              "      <td>3100.78960</td>\n",
              "      <td>2020.78750</td>\n",
              "      <td>3353.50830</td>\n",
              "      <td>1</td>\n",
              "    </tr>\n",
              "    <tr>\n",
              "      <th>5</th>\n",
              "      <td>260000.0</td>\n",
              "      <td>female</td>\n",
              "      <td>graduate school</td>\n",
              "      <td>single</td>\n",
              "      <td>37.0</td>\n",
              "      <td>pay duly</td>\n",
              "      <td>pay duly</td>\n",
              "      <td>pay duly</td>\n",
              "      <td>pay duly</td>\n",
              "      <td>pay duly</td>\n",
              "      <td>...</td>\n",
              "      <td>1519.36060</td>\n",
              "      <td>595.3594</td>\n",
              "      <td>832.78204</td>\n",
              "      <td>1200.00000</td>\n",
              "      <td>3689.1450</td>\n",
              "      <td>2000.00000</td>\n",
              "      <td>659.12390</td>\n",
              "      <td>713.51465</td>\n",
              "      <td>955.44214</td>\n",
              "      <td>1</td>\n",
              "    </tr>\n",
              "    <tr>\n",
              "      <th>6</th>\n",
              "      <td>30000.0</td>\n",
              "      <td>male</td>\n",
              "      <td>high school</td>\n",
              "      <td>married</td>\n",
              "      <td>50.0</td>\n",
              "      <td>payment delay for one month</td>\n",
              "      <td>payment delay for one month</td>\n",
              "      <td>payment delay for one month</td>\n",
              "      <td>unknown</td>\n",
              "      <td>unknown</td>\n",
              "      <td>...</td>\n",
              "      <td>0.00000</td>\n",
              "      <td>0.0000</td>\n",
              "      <td>0.00000</td>\n",
              "      <td>324.77527</td>\n",
              "      <td>0.0000</td>\n",
              "      <td>0.00000</td>\n",
              "      <td>0.00000</td>\n",
              "      <td>0.00000</td>\n",
              "      <td>0.00000</td>\n",
              "      <td>0</td>\n",
              "    </tr>\n",
              "    <tr>\n",
              "      <th>7</th>\n",
              "      <td>30000.0</td>\n",
              "      <td>male</td>\n",
              "      <td>high school</td>\n",
              "      <td>married</td>\n",
              "      <td>41.0</td>\n",
              "      <td>payment delay for one month</td>\n",
              "      <td>payment delay for one month</td>\n",
              "      <td>payment delay for one month</td>\n",
              "      <td>payment delay for one month</td>\n",
              "      <td>payment delay for one month</td>\n",
              "      <td>...</td>\n",
              "      <td>23512.64500</td>\n",
              "      <td>15033.1480</td>\n",
              "      <td>15429.45600</td>\n",
              "      <td>1600.00000</td>\n",
              "      <td>1721.2130</td>\n",
              "      <td>1006.85156</td>\n",
              "      <td>700.00000</td>\n",
              "      <td>537.01526</td>\n",
              "      <td>523.36816</td>\n",
              "      <td>0</td>\n",
              "    </tr>\n",
              "    <tr>\n",
              "      <th>8</th>\n",
              "      <td>418339.1</td>\n",
              "      <td>female</td>\n",
              "      <td>graduate school</td>\n",
              "      <td>married</td>\n",
              "      <td>43.0</td>\n",
              "      <td>pay duly</td>\n",
              "      <td>pay duly</td>\n",
              "      <td>pay duly</td>\n",
              "      <td>pay duly</td>\n",
              "      <td>pay duly</td>\n",
              "      <td>...</td>\n",
              "      <td>-100.49854</td>\n",
              "      <td>2236.4229</td>\n",
              "      <td>0.00000</td>\n",
              "      <td>18998.07600</td>\n",
              "      <td>2406.0164</td>\n",
              "      <td>0.00000</td>\n",
              "      <td>7000.00000</td>\n",
              "      <td>0.00000</td>\n",
              "      <td>547.17230</td>\n",
              "      <td>0</td>\n",
              "    </tr>\n",
              "    <tr>\n",
              "      <th>9</th>\n",
              "      <td>130000.0</td>\n",
              "      <td>male</td>\n",
              "      <td>graduate school</td>\n",
              "      <td>married</td>\n",
              "      <td>34.0</td>\n",
              "      <td>payment delay for one month</td>\n",
              "      <td>payment delay for one month</td>\n",
              "      <td>payment delay for one month</td>\n",
              "      <td>payment delay for one month</td>\n",
              "      <td>payment delay for one month</td>\n",
              "      <td>...</td>\n",
              "      <td>103908.62500</td>\n",
              "      <td>79585.3750</td>\n",
              "      <td>81162.31000</td>\n",
              "      <td>3500.00000</td>\n",
              "      <td>3648.4895</td>\n",
              "      <td>3610.25150</td>\n",
              "      <td>3000.00000</td>\n",
              "      <td>3000.00000</td>\n",
              "      <td>2888.82860</td>\n",
              "      <td>0</td>\n",
              "    </tr>\n",
              "  </tbody>\n",
              "</table>\n",
              "<p>10 rows \u00d7 24 columns</p>\n",
              "</div>"
            ],
            "text/plain": [
              "   LIMIT_BAL     SEX        EDUCATION MARRIAGE   AGE  \\\n",
              "0   160000.0  female      high school   single  49.0   \n",
              "1   100000.0  female       university  married  32.0   \n",
              "2   150000.0  female       university   single  35.0   \n",
              "3    50000.0  female  graduate school   single  24.0   \n",
              "4    70000.0  female       university   single  26.0   \n",
              "5   260000.0  female  graduate school   single  37.0   \n",
              "6    30000.0    male      high school  married  50.0   \n",
              "7    30000.0    male      high school  married  41.0   \n",
              "8   418339.1  female  graduate school  married  43.0   \n",
              "9   130000.0    male  graduate school  married  34.0   \n",
              "\n",
              "                         PAY_0                        PAY_2  \\\n",
              "0  payment delay for one month  payment delay for one month   \n",
              "1  payment delay for one month  payment delay for one month   \n",
              "2                     pay duly                     pay duly   \n",
              "3  payment delay for one month  payment delay for one month   \n",
              "4  payment delay for one month  payment delay for one month   \n",
              "5                     pay duly                     pay duly   \n",
              "6  payment delay for one month  payment delay for one month   \n",
              "7  payment delay for one month  payment delay for one month   \n",
              "8                     pay duly                     pay duly   \n",
              "9  payment delay for one month  payment delay for one month   \n",
              "\n",
              "                         PAY_3                        PAY_4  \\\n",
              "0                     pay duly                     pay duly   \n",
              "1                     pay duly  payment delay for one month   \n",
              "2                     pay duly                     pay duly   \n",
              "3  payment delay for one month  payment delay for one month   \n",
              "4  payment delay for one month  payment delay for one month   \n",
              "5                     pay duly                     pay duly   \n",
              "6  payment delay for one month                      unknown   \n",
              "7  payment delay for one month  payment delay for one month   \n",
              "8                     pay duly                     pay duly   \n",
              "9  payment delay for one month  payment delay for one month   \n",
              "\n",
              "                         PAY_5  ...     BILL_AMT4   BILL_AMT5    BILL_AMT6  \\\n",
              "0                     pay duly  ...    9028.37800      0.0000      0.00000   \n",
              "1  payment delay for one month  ...   16427.72500  -4363.7830  12100.33300   \n",
              "2                     pay duly  ...   11077.29000      0.0000      0.00000   \n",
              "3  payment delay for one month  ...   19580.71500  14270.3440  12035.43800   \n",
              "4  payment delay for one month  ...   84337.36000  93378.7100  89728.94500   \n",
              "5                     pay duly  ...    1519.36060    595.3594    832.78204   \n",
              "6                      unknown  ...       0.00000      0.0000      0.00000   \n",
              "7  payment delay for one month  ...   23512.64500  15033.1480  15429.45600   \n",
              "8                     pay duly  ...    -100.49854   2236.4229      0.00000   \n",
              "9  payment delay for one month  ...  103908.62500  79585.3750  81162.31000   \n",
              "\n",
              "      PAY_AMT1   PAY_AMT2     PAY_AMT3    PAY_AMT4     PAY_AMT5    PAY_AMT6  \\\n",
              "0   2000.00000  2074.8210   5317.57500     0.00000      0.00000     0.00000   \n",
              "1   3518.13450  2500.0000   1867.56840     0.00000  17095.41600  1500.00000   \n",
              "2      0.00000  7858.3213  11506.51000     0.00000      0.00000     0.00000   \n",
              "3   2000.00000  2000.0000   1000.00000   386.86182    329.12270   500.00000   \n",
              "4   4000.00000  3978.4920   2201.65400  3100.78960   2020.78750  3353.50830   \n",
              "5   1200.00000  3689.1450   2000.00000   659.12390    713.51465   955.44214   \n",
              "6    324.77527     0.0000      0.00000     0.00000      0.00000     0.00000   \n",
              "7   1600.00000  1721.2130   1006.85156   700.00000    537.01526   523.36816   \n",
              "8  18998.07600  2406.0164      0.00000  7000.00000      0.00000   547.17230   \n",
              "9   3500.00000  3648.4895   3610.25150  3000.00000   3000.00000  2888.82860   \n",
              "\n",
              "   default payment next month  \n",
              "0                           1  \n",
              "1                           0  \n",
              "2                           0  \n",
              "3                           1  \n",
              "4                           1  \n",
              "5                           1  \n",
              "6                           0  \n",
              "7                           0  \n",
              "8                           0  \n",
              "9                           0  \n",
              "\n",
              "[10 rows x 24 columns]"
            ]
          },
          "execution_count": 6,
          "metadata": {},
          "output_type": "execute_result"
        }
      ],
      "source": [
        "df = pd.read_csv(f\"{SYNTH_DATA_DIR}/{DATA_NAME}/tabddpm.csv\")\n",
        "\n",
        "# Display the first few rows of the DataFrame\n",
        "visualize_default(df).head(10)"
      ]
    },
    {
      "cell_type": "markdown",
      "id": "67e82ee8",
      "metadata": {},
      "source": [
        "## References"
      ]
    },
    {
      "cell_type": "markdown",
      "id": "09b905aa",
      "metadata": {},
      "source": [
        "**Kotelnikov, Akim, et al.** \"TABDDPM: Modeling tabular data with diffusion models.\" *Advances in Neural Information Processing Systems* 36 (2021).\n",
        "\n",
        "**GitHub Repository:** [Amazon Science - Tabsyn](https://github.com/amazon-science/tabsyn)"
      ]
    },
    {
      "cell_type": "code",
      "execution_count": null,
      "id": "ignored-sandwich",
      "metadata": {},
      "outputs": [],
      "source": []
    }
  ],
  "metadata": {
    "kernelspec": {
      "display_name": "diffusion_models_show",
      "language": "python",
      "name": "diffusion_models_show"
    },
    "language_info": {
      "codemirror_mode": {
        "name": "ipython",
        "version": 3
      },
      "file_extension": ".py",
      "mimetype": "text/x-python",
      "name": "python",
      "nbconvert_exporter": "python",
      "pygments_lexer": "ipython3",
      "version": "3.9.12"
    }
  },
  "nbformat": 4,
  "nbformat_minor": 5
}
