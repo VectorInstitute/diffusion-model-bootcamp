{
  "cells": [
    {
      "cell_type": "markdown",
      "metadata": {},
      "source": [
        "<center>\n",
        "  \n",
        "# TABSYN: Tabular Data Synthesis with Diffusion Models\n",
        "\n",
        "</center>"
      ]
    },
    {
      "cell_type": "markdown",
      "metadata": {},
      "source": [
        "Two challenges regarding the extention of diffusion models to tabular data are:\n",
        "1. **Diverse data types:** a single table can have different columns each containing data of different types, including numerical, categorical, text, etc.\n",
        "2. **Varied distributions:** the distribution of data under different columns in a single table varry widely from column to column.\n",
        "\n",
        "**TabSyn** addresses these challenges by introducing a latent space where tabular data of all columns are jointly represented. It then proceedes to train a diffusion model on the latent representations.\n",
        "This tactic allows TabSyn to:\n",
        "1. Train a single diffusion model for all data types in the dataset (i.e. Generality).\n",
        "2. Optimize the distribution of latent embeddings to facilitate training of the subsequent diffusion model, thus generating higher quality synthetic data (i.e. Quality).\n",
        "3. Require much fewer reverse steps during training of the diffusion model, and synthesize data faster (i.e. Speed).\n",
        "\n",
        "In this notebook, we review and implement the TabSyn model. The notebook is organized as follows:\n",
        "\n",
        "1. [Imports and Setup]()\n",
        "\n",
        "\n",
        "2. [Default Dataset]()\n",
        "    \n",
        "    \n",
        "3. [TabSyn Algorithm]()\n",
        "    \n",
        "    3.1. [Load Config]()\n",
        "    \n",
        "    3.2. [Make Dataset]()\n",
        "    \n",
        "    3.3. [Instantiate Model]()\n",
        "    \n",
        "    3.4. [Train Model]()\n",
        "        \n",
        "    3.5. [Load Pretrained Model]()\n",
        "    \n",
        "    3.6. [Sample Data]()\n",
        "    \n",
        "    3.7. [Review Synthetic Data]()\n"
      ]
    },
    {
      "cell_type": "markdown",
      "metadata": {},
      "source": [
        "# Imports and Setup"
      ]
    },
    {
      "cell_type": "markdown",
      "metadata": {},
      "source": [
        "In this section, we import all necessary libraries and modules required for setting up the environment.\n",
        "Most of the libraries we need to implement TabSyn are the same as TabDDPM.\n",
        "We also specify `NAME_URL_DICT_UCI`, `DATA_NAME`, `DATA_DIR` and other paths as in TabDDPM's implementation.\n"
      ]
    },
    {
      "cell_type": "code",
      "execution_count": 1,
      "metadata": {},
      "outputs": [],
      "source": [
        "import json\n",
        "import os\n",
        "from pprint import pprint\n",
        "\n",
        "import pandas as pd\n",
        "import src\n",
        "import torch\n",
        "from scripts.download_dataset import download_from_uci\n",
        "from scripts.process_dataset import process_data\n",
        "from src.baselines.tabsyn.pipeline import TabSyn\n",
        "from src.data import TabularDataset, preprocess\n",
        "from src.util import visualize_default\n",
        "from torch.utils.data import DataLoader\n",
        "\n",
        "\n",
        "NAME_URL_DICT_UCI = {\n",
        "    \"adult\": \"https://archive.ics.uci.edu/static/public/2/adult.zip\",\n",
        "    \"default\": \"https://archive.ics.uci.edu/static/public/350/default+of+credit+card+clients.zip\",\n",
        "    \"magic\": \"https://archive.ics.uci.edu/static/public/159/magic+gamma+telescope.zip\",\n",
        "    \"shoppers\": \"https://archive.ics.uci.edu/static/public/468/online+shoppers+purchasing+intention+dataset.zip\",\n",
        "    \"beijing\": \"https://archive.ics.uci.edu/static/public/381/beijing+pm2+5+data.zip\",\n",
        "    \"news\": \"https://archive.ics.uci.edu/static/public/332/online+news+popularity.zip\",\n",
        "}\n",
        "\n",
        "# For shared directory you can change it to \"/projects/diffusion_bootcamp/data/tabular\"\n",
        "DATA_DIR = \"data/\"\n",
        "RAW_DATA_DIR = os.path.join(DATA_DIR, \"raw_data\")\n",
        "PROCESSED_DATA_DIR = os.path.join(DATA_DIR, \"processed_data\")\n",
        "SYNTH_DATA_DIR = os.path.join(DATA_DIR, \"synthetic_data\")\n",
        "DATA_NAME = \"default\"\n",
        "\n",
        "MODEL_PATH = \"models/tabsyn\""
      ]
    },
    {
      "cell_type": "markdown",
      "metadata": {},
      "source": [
        "# Default Dataset\n",
        "\n",
        "In this section, we will download the **Default of Credit Card Clients** dataset from the UCI repository and load it into a pandas DataFrame. This dataset contains information on default payments, demographic factors, credit data, history of payment, and bill statements of credit card clients in Taiwan from April 2005 to September 2005. We will use this dataset to demonstrate the TabSyn method.\n",
        "For more explanation of different steps in this section, please refer to TabDDPM's notebook."
      ]
    },
    {
      "cell_type": "code",
      "execution_count": 3,
      "metadata": {},
      "outputs": [
        {
          "name": "stdout",
          "output_type": "stream",
          "text": [
            "Start processing dataset default from UCI.\n",
            "Already downloaded.\n",
            "Processing and Saving default Successfully!\n",
            "Dataset Name: default\n",
            "Total Size: 30000\n",
            "Train Size: 27000\n",
            "Test Size: 3000\n",
            "Number of Numerical Columns: 14\n",
            "Number of Categorical Columns: 10\n"
          ]
        },
        {
          "data": {
            "text/html": [
              "<div>\n",
              "<style scoped>\n",
              "    .dataframe tbody tr th:only-of-type {\n",
              "        vertical-align: middle;\n",
              "    }\n",
              "\n",
              "    .dataframe tbody tr th {\n",
              "        vertical-align: top;\n",
              "    }\n",
              "\n",
              "    .dataframe thead th {\n",
              "        text-align: right;\n",
              "    }\n",
              "</style>\n",
              "<table border=\"1\" class=\"dataframe\">\n",
              "  <thead>\n",
              "    <tr style=\"text-align: right;\">\n",
              "      <th></th>\n",
              "      <th>LIMIT_BAL</th>\n",
              "      <th>SEX</th>\n",
              "      <th>EDUCATION</th>\n",
              "      <th>MARRIAGE</th>\n",
              "      <th>AGE</th>\n",
              "      <th>PAY_0</th>\n",
              "      <th>PAY_2</th>\n",
              "      <th>PAY_3</th>\n",
              "      <th>PAY_4</th>\n",
              "      <th>PAY_5</th>\n",
              "      <th>...</th>\n",
              "      <th>BILL_AMT4</th>\n",
              "      <th>BILL_AMT5</th>\n",
              "      <th>BILL_AMT6</th>\n",
              "      <th>PAY_AMT1</th>\n",
              "      <th>PAY_AMT2</th>\n",
              "      <th>PAY_AMT3</th>\n",
              "      <th>PAY_AMT4</th>\n",
              "      <th>PAY_AMT5</th>\n",
              "      <th>PAY_AMT6</th>\n",
              "      <th>default payment next month</th>\n",
              "    </tr>\n",
              "  </thead>\n",
              "  <tbody>\n",
              "    <tr>\n",
              "      <th>0</th>\n",
              "      <td>20000.0</td>\n",
              "      <td>female</td>\n",
              "      <td>university</td>\n",
              "      <td>married</td>\n",
              "      <td>24.0</td>\n",
              "      <td>payment delay for three months</td>\n",
              "      <td>payment delay for three months</td>\n",
              "      <td>payment delay for one month</td>\n",
              "      <td>payment delay for one month</td>\n",
              "      <td>payment delay for one month</td>\n",
              "      <td>...</td>\n",
              "      <td>18457.0</td>\n",
              "      <td>21381.0</td>\n",
              "      <td>18914.0</td>\n",
              "      <td>0.0</td>\n",
              "      <td>1500.0</td>\n",
              "      <td>1600.0</td>\n",
              "      <td>1646.0</td>\n",
              "      <td>678.0</td>\n",
              "      <td>1000.0</td>\n",
              "      <td>1</td>\n",
              "    </tr>\n",
              "    <tr>\n",
              "      <th>1</th>\n",
              "      <td>200000.0</td>\n",
              "      <td>female</td>\n",
              "      <td>university</td>\n",
              "      <td>married</td>\n",
              "      <td>39.0</td>\n",
              "      <td>payment delay for four months</td>\n",
              "      <td>payment delay for three months</td>\n",
              "      <td>payment delay for three months</td>\n",
              "      <td>payment delay for three months</td>\n",
              "      <td>payment delay for three months</td>\n",
              "      <td>...</td>\n",
              "      <td>125357.0</td>\n",
              "      <td>121853.0</td>\n",
              "      <td>124731.0</td>\n",
              "      <td>0.0</td>\n",
              "      <td>6216.0</td>\n",
              "      <td>10000.0</td>\n",
              "      <td>0.0</td>\n",
              "      <td>5000.0</td>\n",
              "      <td>4552.0</td>\n",
              "      <td>1</td>\n",
              "    </tr>\n",
              "    <tr>\n",
              "      <th>2</th>\n",
              "      <td>230000.0</td>\n",
              "      <td>female</td>\n",
              "      <td>university</td>\n",
              "      <td>single</td>\n",
              "      <td>23.0</td>\n",
              "      <td>pay duly</td>\n",
              "      <td>pay duly</td>\n",
              "      <td>pay duly</td>\n",
              "      <td>pay duly</td>\n",
              "      <td>pay duly</td>\n",
              "      <td>...</td>\n",
              "      <td>1045.0</td>\n",
              "      <td>12525.0</td>\n",
              "      <td>12219.0</td>\n",
              "      <td>1444.0</td>\n",
              "      <td>14019.0</td>\n",
              "      <td>1045.0</td>\n",
              "      <td>12525.0</td>\n",
              "      <td>244.0</td>\n",
              "      <td>725.0</td>\n",
              "      <td>0</td>\n",
              "    </tr>\n",
              "    <tr>\n",
              "      <th>3</th>\n",
              "      <td>50000.0</td>\n",
              "      <td>female</td>\n",
              "      <td>graduate school</td>\n",
              "      <td>married</td>\n",
              "      <td>35.0</td>\n",
              "      <td>payment delay for one month</td>\n",
              "      <td>payment delay for one month</td>\n",
              "      <td>payment delay for one month</td>\n",
              "      <td>unknown</td>\n",
              "      <td>unknown</td>\n",
              "      <td>...</td>\n",
              "      <td>0.0</td>\n",
              "      <td>0.0</td>\n",
              "      <td>0.0</td>\n",
              "      <td>2400.0</td>\n",
              "      <td>0.0</td>\n",
              "      <td>0.0</td>\n",
              "      <td>0.0</td>\n",
              "      <td>0.0</td>\n",
              "      <td>0.0</td>\n",
              "      <td>0</td>\n",
              "    </tr>\n",
              "    <tr>\n",
              "      <th>4</th>\n",
              "      <td>160000.0</td>\n",
              "      <td>male</td>\n",
              "      <td>graduate school</td>\n",
              "      <td>married</td>\n",
              "      <td>39.0</td>\n",
              "      <td>unknown</td>\n",
              "      <td>unknown</td>\n",
              "      <td>unknown</td>\n",
              "      <td>unknown</td>\n",
              "      <td>unknown</td>\n",
              "      <td>...</td>\n",
              "      <td>0.0</td>\n",
              "      <td>2920.0</td>\n",
              "      <td>0.0</td>\n",
              "      <td>35.0</td>\n",
              "      <td>0.0</td>\n",
              "      <td>0.0</td>\n",
              "      <td>2920.0</td>\n",
              "      <td>0.0</td>\n",
              "      <td>12140.0</td>\n",
              "      <td>0</td>\n",
              "    </tr>\n",
              "    <tr>\n",
              "      <th>5</th>\n",
              "      <td>20000.0</td>\n",
              "      <td>male</td>\n",
              "      <td>high school</td>\n",
              "      <td>others</td>\n",
              "      <td>59.0</td>\n",
              "      <td>payment delay for three months</td>\n",
              "      <td>payment delay for one month</td>\n",
              "      <td>payment delay for one month</td>\n",
              "      <td>payment delay for one month</td>\n",
              "      <td>payment delay for one month</td>\n",
              "      <td>...</td>\n",
              "      <td>18055.0</td>\n",
              "      <td>18755.0</td>\n",
              "      <td>20299.0</td>\n",
              "      <td>1596.0</td>\n",
              "      <td>1600.0</td>\n",
              "      <td>1300.0</td>\n",
              "      <td>1000.0</td>\n",
              "      <td>2000.0</td>\n",
              "      <td>0.0</td>\n",
              "      <td>1</td>\n",
              "    </tr>\n",
              "    <tr>\n",
              "      <th>6</th>\n",
              "      <td>50000.0</td>\n",
              "      <td>male</td>\n",
              "      <td>university</td>\n",
              "      <td>single</td>\n",
              "      <td>42.0</td>\n",
              "      <td>payment delay for one month</td>\n",
              "      <td>payment delay for one month</td>\n",
              "      <td>payment delay for one month</td>\n",
              "      <td>payment delay for one month</td>\n",
              "      <td>payment delay for one month</td>\n",
              "      <td>...</td>\n",
              "      <td>17029.0</td>\n",
              "      <td>10575.0</td>\n",
              "      <td>9478.0</td>\n",
              "      <td>2500.0</td>\n",
              "      <td>2000.0</td>\n",
              "      <td>2500.0</td>\n",
              "      <td>500.0</td>\n",
              "      <td>500.0</td>\n",
              "      <td>500.0</td>\n",
              "      <td>0</td>\n",
              "    </tr>\n",
              "    <tr>\n",
              "      <th>7</th>\n",
              "      <td>130000.0</td>\n",
              "      <td>female</td>\n",
              "      <td>graduate school</td>\n",
              "      <td>single</td>\n",
              "      <td>26.0</td>\n",
              "      <td>payment delay for one month</td>\n",
              "      <td>pay duly</td>\n",
              "      <td>pay duly</td>\n",
              "      <td>pay duly</td>\n",
              "      <td>unknown</td>\n",
              "      <td>...</td>\n",
              "      <td>-884.0</td>\n",
              "      <td>-6332.0</td>\n",
              "      <td>-9333.0</td>\n",
              "      <td>1298.0</td>\n",
              "      <td>6730.0</td>\n",
              "      <td>900.0</td>\n",
              "      <td>5448.0</td>\n",
              "      <td>0.0</td>\n",
              "      <td>25000.0</td>\n",
              "      <td>0</td>\n",
              "    </tr>\n",
              "    <tr>\n",
              "      <th>8</th>\n",
              "      <td>300000.0</td>\n",
              "      <td>female</td>\n",
              "      <td>university</td>\n",
              "      <td>married</td>\n",
              "      <td>40.0</td>\n",
              "      <td>payment delay for one month</td>\n",
              "      <td>payment delay for one month</td>\n",
              "      <td>payment delay for one month</td>\n",
              "      <td>payment delay for one month</td>\n",
              "      <td>payment delay for one month</td>\n",
              "      <td>...</td>\n",
              "      <td>196467.0</td>\n",
              "      <td>201425.0</td>\n",
              "      <td>-8276.0</td>\n",
              "      <td>7028.0</td>\n",
              "      <td>6000.0</td>\n",
              "      <td>50000.0</td>\n",
              "      <td>10013.0</td>\n",
              "      <td>9505.0</td>\n",
              "      <td>175074.0</td>\n",
              "      <td>0</td>\n",
              "    </tr>\n",
              "    <tr>\n",
              "      <th>9</th>\n",
              "      <td>20000.0</td>\n",
              "      <td>male</td>\n",
              "      <td>university</td>\n",
              "      <td>married</td>\n",
              "      <td>27.0</td>\n",
              "      <td>payment delay for one month</td>\n",
              "      <td>payment delay for one month</td>\n",
              "      <td>payment delay for one month</td>\n",
              "      <td>payment delay for four months</td>\n",
              "      <td>payment delay for three months</td>\n",
              "      <td>...</td>\n",
              "      <td>18472.0</td>\n",
              "      <td>18037.0</td>\n",
              "      <td>18487.0</td>\n",
              "      <td>3000.0</td>\n",
              "      <td>10000.0</td>\n",
              "      <td>0.0</td>\n",
              "      <td>0.0</td>\n",
              "      <td>900.0</td>\n",
              "      <td>2000.0</td>\n",
              "      <td>0</td>\n",
              "    </tr>\n",
              "  </tbody>\n",
              "</table>\n",
              "<p>10 rows \u00d7 24 columns</p>\n",
              "</div>"
            ],
            "text/plain": [
              "   LIMIT_BAL     SEX        EDUCATION MARRIAGE   AGE  \\\n",
              "0    20000.0  female       university  married  24.0   \n",
              "1   200000.0  female       university  married  39.0   \n",
              "2   230000.0  female       university   single  23.0   \n",
              "3    50000.0  female  graduate school  married  35.0   \n",
              "4   160000.0    male  graduate school  married  39.0   \n",
              "5    20000.0    male      high school   others  59.0   \n",
              "6    50000.0    male       university   single  42.0   \n",
              "7   130000.0  female  graduate school   single  26.0   \n",
              "8   300000.0  female       university  married  40.0   \n",
              "9    20000.0    male       university  married  27.0   \n",
              "\n",
              "                            PAY_0                           PAY_2  \\\n",
              "0  payment delay for three months  payment delay for three months   \n",
              "1   payment delay for four months  payment delay for three months   \n",
              "2                        pay duly                        pay duly   \n",
              "3     payment delay for one month     payment delay for one month   \n",
              "4                         unknown                         unknown   \n",
              "5  payment delay for three months     payment delay for one month   \n",
              "6     payment delay for one month     payment delay for one month   \n",
              "7     payment delay for one month                        pay duly   \n",
              "8     payment delay for one month     payment delay for one month   \n",
              "9     payment delay for one month     payment delay for one month   \n",
              "\n",
              "                            PAY_3                           PAY_4  \\\n",
              "0     payment delay for one month     payment delay for one month   \n",
              "1  payment delay for three months  payment delay for three months   \n",
              "2                        pay duly                        pay duly   \n",
              "3     payment delay for one month                         unknown   \n",
              "4                         unknown                         unknown   \n",
              "5     payment delay for one month     payment delay for one month   \n",
              "6     payment delay for one month     payment delay for one month   \n",
              "7                        pay duly                        pay duly   \n",
              "8     payment delay for one month     payment delay for one month   \n",
              "9     payment delay for one month   payment delay for four months   \n",
              "\n",
              "                            PAY_5  ... BILL_AMT4  BILL_AMT5  BILL_AMT6  \\\n",
              "0     payment delay for one month  ...   18457.0    21381.0    18914.0   \n",
              "1  payment delay for three months  ...  125357.0   121853.0   124731.0   \n",
              "2                        pay duly  ...    1045.0    12525.0    12219.0   \n",
              "3                         unknown  ...       0.0        0.0        0.0   \n",
              "4                         unknown  ...       0.0     2920.0        0.0   \n",
              "5     payment delay for one month  ...   18055.0    18755.0    20299.0   \n",
              "6     payment delay for one month  ...   17029.0    10575.0     9478.0   \n",
              "7                         unknown  ...    -884.0    -6332.0    -9333.0   \n",
              "8     payment delay for one month  ...  196467.0   201425.0    -8276.0   \n",
              "9  payment delay for three months  ...   18472.0    18037.0    18487.0   \n",
              "\n",
              "   PAY_AMT1  PAY_AMT2  PAY_AMT3  PAY_AMT4  PAY_AMT5  PAY_AMT6  \\\n",
              "0       0.0    1500.0    1600.0    1646.0     678.0    1000.0   \n",
              "1       0.0    6216.0   10000.0       0.0    5000.0    4552.0   \n",
              "2    1444.0   14019.0    1045.0   12525.0     244.0     725.0   \n",
              "3    2400.0       0.0       0.0       0.0       0.0       0.0   \n",
              "4      35.0       0.0       0.0    2920.0       0.0   12140.0   \n",
              "5    1596.0    1600.0    1300.0    1000.0    2000.0       0.0   \n",
              "6    2500.0    2000.0    2500.0     500.0     500.0     500.0   \n",
              "7    1298.0    6730.0     900.0    5448.0       0.0   25000.0   \n",
              "8    7028.0    6000.0   50000.0   10013.0    9505.0  175074.0   \n",
              "9    3000.0   10000.0       0.0       0.0     900.0    2000.0   \n",
              "\n",
              "   default payment next month  \n",
              "0                           1  \n",
              "1                           1  \n",
              "2                           0  \n",
              "3                           0  \n",
              "4                           0  \n",
              "5                           1  \n",
              "6                           0  \n",
              "7                           0  \n",
              "8                           0  \n",
              "9                           0  \n",
              "\n",
              "[10 rows x 24 columns]"
            ]
          },
          "execution_count": 3,
          "metadata": {},
          "output_type": "execute_result"
        }
      ],
      "source": [
        "# download data\n",
        "download_from_uci(DATA_NAME, RAW_DATA_DIR, NAME_URL_DICT_UCI)\n",
        "\n",
        "# process data\n",
        "INFO_DIR = \"data_info\"\n",
        "process_data(DATA_NAME, INFO_DIR, DATA_DIR)\n",
        "\n",
        "# review data\n",
        "df = pd.read_csv(os.path.join(PROCESSED_DATA_DIR, DATA_NAME, \"train.csv\"))\n",
        "visualize_default(df).head(10)"
      ]
    },
    {
      "cell_type": "code",
      "execution_count": 4,
      "metadata": {},
      "outputs": [],
      "source": [
        "# review json file and its contents\n",
        "with open(f\"{PROCESSED_DATA_DIR}/{DATA_NAME}/info.json\", \"r\") as file:\n",
        "    data_info = json.load(file)\n",
        "# pprint(data_info)"
      ]
    },
    {
      "cell_type": "markdown",
      "metadata": {},
      "source": [
        "# TabSyn Algorithm"
      ]
    },
    {
      "cell_type": "markdown",
      "metadata": {},
      "source": [
        "In this section, we will describe the design of TabSyn as well as its main hyperparameters loaded through config, which affect the model\u2019s effectiveness. "
      ]
    },
    {
      "cell_type": "markdown",
      "metadata": {},
      "source": [
        "**TabSyn** consists of two parts:\n",
        "1. A *variational auto-encoder (VAE)* which learns a joint representation space for the given tabular data.\n",
        "2. A *Diffusion model* which learns the distribution of data in the joint representation space.\n",
        "\n",
        "The figure below shows a diagram of the TabSyn model.\n",
        "\n",
        "<p align=\"center\">\n",
        "<img src=\"data:image/jpg;base64,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\" width=\"1000\"/>\n",
        "</p>"
      ]
    },
    {
      "cell_type": "markdown",
      "metadata": {},
      "source": [
        "**VAE**\n",
        "\n",
        "The left-side of the figure shows the VAE which operates in the original data space. The VAE itself consists of two parts: an encoder and a decoder. It also contains the corresponding tokenizer and detokenizer.\n",
        "Each row of the input tabular data ($\\pmb{x}$) is tokenized, then embedded by a transformer. Another transformer decodes the embeddings and a detokenizer reconstructs the table ($\\pmb{\\tilde{x}}$). The VAE is trained by minimizing the reconstruction loss between $\\pmb{x}$ and $\\pmb{\\tilde{x}}$.\n",
        "\n",
        "After the VAE is fully trained, the whole data ($\\pmb{x}$) is tokenized and embedded. The embedding of each row is flattened to form a 1-dimensional vector $\\pmb{z}$.\n",
        "These 1-dimensional embeddings for all rows are stored on disk, and will later be used to train the diffusion model."
      ]
    },
    {
      "cell_type": "markdown",
      "metadata": {},
      "source": [
        "**Diffusion**\n",
        "\n",
        "The right-side of the figure shows the diffusion model which operates in the latent representation space; in other words, it only *sees* the embeddings obtained by the VAE, not the original tabular data.\n",
        "The diffusion model can be similarly divided into two parts: a forward process, and a reverse process.\n",
        "\n",
        "The forward process receives the embedded data points. A single data point is denoted by $\\pmb{z_0}$ in the figure. Gaussian noise is incrementally added to the embeddings in numerous incremental steps during the forward process. The number of the steps is denoted by $T$ in the figure. $T$ should be high enough that the distribution of embeddings at step $t=T$ is essentially a standard Gaussian distribution; in other words, the signal-to-noise ratio is practically zero.\n",
        "\n",
        "The reverse process, on the other hand, learns to *predict* an earlier-step embedding (e.g. $\\pmb{z_{t-\\Delta t}}$) from a later-step embedding (e.g. $\\pmb{z_t}$) via a neural network.\n",
        "\n",
        "After the diffusion model is fully trained, the reverse process can estimate the data distribution at step $t=0$ if it receives a standard Gaussian distribution at step $t=T$. New data points can be synthesized by sampling from this estimated distribution.\n"
      ]
    },
    {
      "cell_type": "markdown",
      "metadata": {},
      "source": [
        "## Load Config"
      ]
    },
    {
      "cell_type": "markdown",
      "metadata": {},
      "source": [
        "In this section, we will load the configuration file that contains the hyperparameters for the TabSyn model. "
      ]
    },
    {
      "cell_type": "code",
      "execution_count": 5,
      "metadata": {},
      "outputs": [
        {
          "name": "stdout",
          "output_type": "stream",
          "text": [
            "{'impute': {'N': 20,\n",
            "            'SIGMA_MAX': 80,\n",
            "            'SIGMA_MIN': 0.002,\n",
            "            'S_churn': 1,\n",
            "            'S_max': inf,\n",
            "            'S_min': 0,\n",
            "            'S_noise': 1,\n",
            "            'num_steps': 50,\n",
            "            'num_trials': 50,\n",
            "            'rho': 7},\n",
            " 'loss_params': {'lambd': 0.7, 'max_beta': 0.01, 'min_beta': 1e-05},\n",
            " 'model_params': {'d_token': 4, 'factor': 32, 'n_head': 1, 'num_layers': 2},\n",
            " 'task_type': 'binclass',\n",
            " 'train': {'diffusion': {'batch_size': 4096,\n",
            "                         'num_dataset_workers': 4,\n",
            "                         'num_epochs': 9},\n",
            "           'optim': {'diffusion': {'factor': 0.9,\n",
            "                                   'lr': 0.001,\n",
            "                                   'patience': 20,\n",
            "                                   'weight_decay': 0},\n",
            "                     'vae': {'factor': 0.95,\n",
            "                             'lr': 0.001,\n",
            "                             'patience': 10,\n",
            "                             'weight_decay': 0}},\n",
            "           'vae': {'batch_size': 4096,\n",
            "                   'num_dataset_workers': 4,\n",
            "                   'num_epochs': 10}},\n",
            " 'transforms': {'cat_encoding': None,\n",
            "                'cat_min_frequency': None,\n",
            "                'cat_nan_policy': None,\n",
            "                'normalization': 'quantile',\n",
            "                'num_nan_policy': 'mean',\n",
            "                'y_policy': 'default'}}\n"
          ]
        }
      ],
      "source": [
        "config_path = os.path.join(\"src/baselines/tabsyn/configs\", f\"{DATA_NAME}.toml\")\n",
        "raw_config = src.load_config(config_path)\n",
        "\n",
        "pprint(raw_config)"
      ]
    },
    {
      "cell_type": "markdown",
      "metadata": {},
      "source": [
        "The configuration file is a TOML file that contains the following hyperparameters:\n",
        "\n",
        "1. **model_params:** specifies the structure of the transformers (both encoder and decoder) in the VAE model, including number of transformer layers, number of self-attnetion heads and token dimension.\n",
        "\n",
        "2. **transforms:** specifies the transformations and preprocessing of the data before tokenization, such as cleaning, normalization, and encoding.\n",
        "    - For preprocessing numerical features, we use the gaussian quantile transformation and replace the NaN values with mean of each row.\n",
        "    - For categorical features, we use the one-hot encoding method. NaN values are left unchanged, but we have the option to replace them. We have the option to drop the values that appear with less than a given minimum frequency under each column. Furthermore, we have the option to add an extra encoding step for categorical features during tokenization.\n",
        "\n",
        "3. **train.vae:** specifies training parameters of the VAE, including batch size, number of epochs, and number of dataset workers.\n",
        "\n",
        "4. **train.diffusion:** specifies the same training parameters as above for the diffusion model.\n",
        "\n",
        "5. **train.optim.vae:** specifies the parameters of the *Adam* optimizer and the `ReduceLROnPlateau` learning rate scheduler used to train the VAE. Optimizer parameters include initial learning rate and weight decay. LR scheduler parameters includer `factor` and `patience`.\n",
        "\n",
        "6. **train.optim.diffusion:** specifies the same parameters as above for the diffusion model.\n",
        "\n",
        "7. **loss_params:** specifies parameters of the loss function used to train the VAE including `max_beta`, `min_beta` and `lambd`.\n",
        "\n",
        "$\\beta$ is the coefficient of the KL divergence term in the VAE loss formula,\n",
        "\n",
        "$\\mathcal{L}_{vae} = \\mathcal{L}_{mse} + \\mathcal{L}_{ce} + \\beta \\mathcal{L}_{kl}$\n",
        ".\n",
        "\n",
        "Parameters `max_beta` and `min_beta` determine the range of $\\beta$. $\\beta$ is first set to `max_beta`. If the loss stops decreasing for a certain number of epochs (e.g. $10$ epochs), then at the end of each epoch after that (e.g. epoch $11$, $12$, etc.) $\\beta$ is decreased by a factor of `lambd`,\n",
        "$\\beta_{new} = \\lambda \\beta_{curr}$,\n",
        "until it reaches `beta_min`.\n"
      ]
    },
    {
      "cell_type": "markdown",
      "metadata": {},
      "source": [
        "## Make Dataset"
      ]
    },
    {
      "cell_type": "markdown",
      "metadata": {},
      "source": [
        "In this section, we pre-process the data and make a dataset object.\n",
        "\n",
        "First, we determine transformations needed for the dataset, such as normalization and cleaning, in `transforms`. Next, using `preprocess` function we load the data from disk in arrays that contain both training and test data (`X_num` and `X_cat`), as well as the number of categories for each categorical feature (`categories`) and the number of numerical features (`d_numerical`).\n",
        "\n",
        "We then separate the train and test data in different arrays and convert them to Pytorch tensors.\n",
        "We create a dataset object (`TabularDataset`) with the train data. `TabularDataset` is a simple module which returns the tokens of a single row at a time. Each row constiutes a single data sample in TabSyn. Afterwards, we create a Dataloader for the train data using the `batch_size` and `num_workers` specified in config.\n",
        "\n",
        "In contrast, we keep the test data as tensors (`X_test_num` and `X_test_cat`). If a GPU is available, we move these tensors to GPU so that they can be accessed by the model later on."
      ]
    },
    {
      "cell_type": "code",
      "execution_count": 6,
      "metadata": {},
      "outputs": [
        {
          "name": "stdout",
          "output_type": "stream",
          "text": [
            "No NaNs in numerical features, skipping\n"
          ]
        }
      ],
      "source": [
        "# preprocess data\n",
        "X_num, X_cat, categories, d_numerical = preprocess(\n",
        "    os.path.join(PROCESSED_DATA_DIR, DATA_NAME),\n",
        "    transforms=raw_config[\"transforms\"],\n",
        "    task_type=raw_config[\"task_type\"],\n",
        ")\n",
        "\n",
        "# separate train and test data\n",
        "X_train_num, X_test_num = X_num\n",
        "X_train_cat, X_test_cat = X_cat\n",
        "\n",
        "# convert to float tensor\n",
        "X_train_num, X_test_num = (\n",
        "    torch.tensor(X_train_num).float(),\n",
        "    torch.tensor(X_test_num).float(),\n",
        ")\n",
        "X_train_cat, X_test_cat = torch.tensor(X_train_cat), torch.tensor(X_test_cat)\n",
        "\n",
        "# create dataset module\n",
        "train_data = TabularDataset(X_train_num.float(), X_train_cat)\n",
        "\n",
        "# move test data to gpu if available\n",
        "device = torch.device(\"cuda\" if torch.cuda.is_available() else \"cpu\")\n",
        "X_test_num = X_test_num.float().to(device)\n",
        "X_test_cat = X_test_cat.to(device)\n",
        "\n",
        "# create train dataloader\n",
        "train_loader = DataLoader(\n",
        "    train_data,\n",
        "    batch_size=raw_config[\"train\"][\"vae\"][\"batch_size\"],\n",
        "    shuffle=True,\n",
        "    num_workers=raw_config[\"train\"][\"vae\"][\"num_dataset_workers\"],\n",
        ")"
      ]
    },
    {
      "cell_type": "markdown",
      "metadata": {},
      "source": [
        "## Instantiate Model"
      ]
    },
    {
      "cell_type": "markdown",
      "metadata": {},
      "source": [
        "Next, we instantiate the model using the `TabSyn` class. `TabSyn` class takes the following arguments:\n",
        "\n",
        "1. `train_loader`: dataloader for train data.\n",
        "2. `X_test_num`: numerical features of the test data.\n",
        "3. `X_test_cat`: categorical features of the train data.\n",
        "4. `num_numerical_features`: number of numerical features in the dataset.\n",
        "5. `num_classes`: number of classes (i.e. categories) of each categorical feature in the dataset.\n",
        "6. `device`: the device on which the model and data exist, either \"cpu\" or \"cuda\"."
      ]
    },
    {
      "cell_type": "code",
      "execution_count": 7,
      "metadata": {},
      "outputs": [],
      "source": [
        "tabsyn = TabSyn(\n",
        "    train_loader,\n",
        "    X_test_num,\n",
        "    X_test_cat,\n",
        "    num_numerical_features=d_numerical,\n",
        "    num_classes=categories,\n",
        "    device=device,\n",
        ")"
      ]
    },
    {
      "cell_type": "markdown",
      "metadata": {},
      "source": [
        "`TabSyn` class has the tools to instantiate VAE and diffusion models, train both, and sample from the trained diffusion model.\n",
        "We will demonstrate how to use these tools in the following sections."
      ]
    },
    {
      "cell_type": "markdown",
      "metadata": {},
      "source": [
        "## Train Model\n"
      ]
    },
    {
      "cell_type": "markdown",
      "metadata": {},
      "source": [
        "The VAE and the diffusion model are trained independently. The following subsections explain each training process."
      ]
    },
    {
      "cell_type": "markdown",
      "metadata": {},
      "source": [
        "\n",
        "### A. Train VAE"
      ]
    },
    {
      "cell_type": "markdown",
      "metadata": {},
      "source": [
        "First, we need to instantiate the VAE using the `instantiate_vae` method. This method takes the VAE model hyperparameters, optimizer and lr scheduler parameters from config, and instantiates them."
      ]
    },
    {
      "cell_type": "code",
      "execution_count": 9,
      "metadata": {},
      "outputs": [
        {
          "name": "stdout",
          "output_type": "stream",
          "text": [
            "self.category_embeddings.weight.shape=torch.Size([79, 4])\n",
            "self.category_embeddings.weight.shape=torch.Size([79, 4])\n",
            "Successfully instantiated VAE model.\n"
          ]
        }
      ],
      "source": [
        "# instantiate VAE model for training\n",
        "tabsyn.instantiate_vae(\n",
        "    **raw_config[\"model_params\"], optim_params=raw_config[\"train\"][\"optim\"][\"vae\"]\n",
        ")"
      ]
    },
    {
      "cell_type": "markdown",
      "metadata": {},
      "source": [
        "Now that we have instantiated the VAE, we can train it using the `train_vae` function.\n",
        "This function receives the loss hyperparameters and number of epochs from the config.\n",
        "Moreover, it recieves `save_path` which is the directory where trained model checkpoints will be saved."
      ]
    },
    {
      "cell_type": "code",
      "execution_count": 83,
      "metadata": {},
      "outputs": [
        {
          "name": "stderr",
          "output_type": "stream",
          "text": [
            "Epoch 1/10: 100%|\u2588\u2588\u2588\u2588\u2588\u2588\u2588\u2588\u2588\u2588| 3/3 [00:00<00:00,  4.35it/s]\n"
          ]
        },
        {
          "name": "stdout",
          "output_type": "stream",
          "text": [
            "epoch: 0, beta = 0.010000, Train MSE: 13.663756, Train CE:2.154334, Train KL:0.945002, Val MSE:12.495003, Val CE:2.104598, Train ACC:0.280852, Val ACC:0.286902\n"
          ]
        },
        {
          "name": "stderr",
          "output_type": "stream",
          "text": [
            "Epoch 2/10: 100%|\u2588\u2588\u2588\u2588\u2588\u2588\u2588\u2588\u2588\u2588| 3/3 [00:00<00:00,  5.22it/s]\n"
          ]
        },
        {
          "name": "stdout",
          "output_type": "stream",
          "text": [
            "epoch: 1, beta = 0.010000, Train MSE: 12.019743, Train CE:2.083766, Train KL:1.020754, Val MSE:11.045834, Val CE:2.061779, Train ACC:0.296256, Val ACC:0.301399\n"
          ]
        },
        {
          "name": "stderr",
          "output_type": "stream",
          "text": [
            "Epoch 3/10: 100%|\u2588\u2588\u2588\u2588\u2588\u2588\u2588\u2588\u2588\u2588| 3/3 [00:00<00:00,  5.35it/s]\n"
          ]
        },
        {
          "name": "stdout",
          "output_type": "stream",
          "text": [
            "epoch: 2, beta = 0.010000, Train MSE: 10.634787, Train CE:2.044676, Train KL:1.146477, Val MSE:9.823824, Val CE:2.036949, Train ACC:0.304690, Val ACC:0.300689\n"
          ]
        },
        {
          "name": "stderr",
          "output_type": "stream",
          "text": [
            "Epoch 4/10: 100%|\u2588\u2588\u2588\u2588\u2588\u2588\u2588\u2588\u2588\u2588| 3/3 [00:00<00:00,  5.30it/s]\n"
          ]
        },
        {
          "name": "stdout",
          "output_type": "stream",
          "text": [
            "epoch: 3, beta = 0.010000, Train MSE: 9.484139, Train CE:2.034360, Train KL:1.300207, Val MSE:8.833112, Val CE:2.014092, Train ACC:0.311833, Val ACC:0.318329\n"
          ]
        },
        {
          "name": "stderr",
          "output_type": "stream",
          "text": [
            "Epoch 5/10: 100%|\u2588\u2588\u2588\u2588\u2588\u2588\u2588\u2588\u2588\u2588| 3/3 [00:00<00:00,  5.15it/s]\n"
          ]
        },
        {
          "name": "stdout",
          "output_type": "stream",
          "text": [
            "epoch: 4, beta = 0.010000, Train MSE: 8.459760, Train CE:2.017638, Train KL:1.464170, Val MSE:7.862492, Val CE:1.994941, Train ACC:0.337866, Val ACC:0.348642\n"
          ]
        },
        {
          "name": "stderr",
          "output_type": "stream",
          "text": [
            "Epoch 6/10: 100%|\u2588\u2588\u2588\u2588\u2588\u2588\u2588\u2588\u2588\u2588| 3/3 [00:00<00:00,  5.06it/s]\n"
          ]
        },
        {
          "name": "stdout",
          "output_type": "stream",
          "text": [
            "epoch: 5, beta = 0.010000, Train MSE: 7.611962, Train CE:1.999599, Train KL:1.626225, Val MSE:7.053391, Val CE:1.986582, Train ACC:0.383262, Val ACC:0.402778\n"
          ]
        },
        {
          "name": "stderr",
          "output_type": "stream",
          "text": [
            "Epoch 7/10: 100%|\u2588\u2588\u2588\u2588\u2588\u2588\u2588\u2588\u2588\u2588| 3/3 [00:00<00:00,  5.11it/s]\n"
          ]
        },
        {
          "name": "stdout",
          "output_type": "stream",
          "text": [
            "epoch: 6, beta = 0.010000, Train MSE: 6.869578, Train CE:1.979303, Train KL:1.785650, Val MSE:6.403675, Val CE:1.964470, Train ACC:0.437565, Val ACC:0.456103\n"
          ]
        },
        {
          "name": "stderr",
          "output_type": "stream",
          "text": [
            "Epoch 8/10: 100%|\u2588\u2588\u2588\u2588\u2588\u2588\u2588\u2588\u2588\u2588| 3/3 [00:00<00:00,  5.23it/s]\n"
          ]
        },
        {
          "name": "stdout",
          "output_type": "stream",
          "text": [
            "epoch: 7, beta = 0.010000, Train MSE: 6.204691, Train CE:1.968276, Train KL:1.947868, Val MSE:5.838765, Val CE:1.956694, Train ACC:0.476162, Val ACC:0.486922\n"
          ]
        },
        {
          "name": "stderr",
          "output_type": "stream",
          "text": [
            "Epoch 9/10: 100%|\u2588\u2588\u2588\u2588\u2588\u2588\u2588\u2588\u2588\u2588| 3/3 [00:00<00:00,  4.89it/s]\n"
          ]
        },
        {
          "name": "stdout",
          "output_type": "stream",
          "text": [
            "epoch: 8, beta = 0.010000, Train MSE: 5.646989, Train CE:1.966729, Train KL:2.115103, Val MSE:5.310214, Val CE:1.970527, Train ACC:0.499656, Val ACC:0.497972\n"
          ]
        },
        {
          "name": "stderr",
          "output_type": "stream",
          "text": [
            "Epoch 10/10: 100%|\u2588\u2588\u2588\u2588\u2588\u2588\u2588\u2588\u2588\u2588| 3/3 [00:00<00:00,  5.10it/s]"
          ]
        },
        {
          "name": "stdout",
          "output_type": "stream",
          "text": [
            "epoch: 9, beta = 0.010000, Train MSE: 5.151427, Train CE:1.979931, Train KL:2.282740, Val MSE:4.881950, Val CE:1.979485, Train ACC:0.497676, Val ACC:0.498581\n",
            "Training time: 0.1025 mins\n",
            "Successfully trained and saved the VAE model!\n"
          ]
        },
        {
          "name": "stderr",
          "output_type": "stream",
          "text": [
            "\n"
          ]
        }
      ],
      "source": [
        "os.makedirs(f\"{MODEL_PATH}/{DATA_NAME}/vae\")\n",
        "tabsyn.train_vae(\n",
        "    **raw_config[\"loss_params\"],\n",
        "    num_epochs=raw_config[\"train\"][\"vae\"][\"num_epochs\"],\n",
        "    save_path=os.path.join(MODEL_PATH, DATA_NAME, \"vae\"),\n",
        ")"
      ]
    },
    {
      "cell_type": "markdown",
      "metadata": {},
      "source": [
        "After training the VAE, we embed the training data with the trained encoder and store the embeddings in a direcotry specified by `vae_ckpt_dir`."
      ]
    },
    {
      "cell_type": "code",
      "execution_count": 84,
      "metadata": {},
      "outputs": [
        {
          "name": "stdout",
          "output_type": "stream",
          "text": [
            "Successfully saved pretrained embeddings on disk!\n"
          ]
        }
      ],
      "source": [
        "# embed all inputs in the latent space\n",
        "tabsyn.save_vae_embeddings(\n",
        "    X_train_num, X_train_cat, vae_ckpt_dir=os.path.join(MODEL_PATH, DATA_NAME, \"vae\")\n",
        ")"
      ]
    },
    {
      "cell_type": "markdown",
      "metadata": {},
      "source": [
        "### B. Train Diffusion Model"
      ]
    },
    {
      "cell_type": "markdown",
      "metadata": {},
      "source": [
        "Now that we have stored the training data embeddings, we need to load and prepare them for the diffusion model.\n",
        "We load the embeddings using `load_vae_embeddings`. We normalize the embeddings by subtracting the mean and dividing by the standard deviation. Then, we create a Dataloader with the specified `batch_size` and `num_workers` from the config."
      ]
    },
    {
      "cell_type": "code",
      "execution_count": 10,
      "metadata": {},
      "outputs": [],
      "source": [
        "# load latent space embeddings\n",
        "train_z, _ = tabsyn.load_latent_embeddings(\n",
        "    os.path.join(MODEL_PATH, DATA_NAME, \"vae\")\n",
        ")  # train_z dim: B x in_dim\n",
        "\n",
        "# normalize embeddings\n",
        "mean, std = train_z.mean(0), train_z.std(0)\n",
        "latent_train_data = (train_z - mean) / 2\n",
        "\n",
        "# create data loader\n",
        "latent_train_loader = DataLoader(\n",
        "    latent_train_data,\n",
        "    batch_size=raw_config[\"train\"][\"diffusion\"][\"batch_size\"],\n",
        "    shuffle=True,\n",
        "    num_workers=raw_config[\"train\"][\"diffusion\"][\"num_dataset_workers\"],\n",
        ")"
      ]
    },
    {
      "cell_type": "markdown",
      "metadata": {},
      "source": [
        "Now that the data is ready, we instantiate the diffusion model with `instantiate_diffusion`. The input dimension and hidden dimention of the diffusion model is determined by the dimension of the embeddings. \n",
        "Moreover, we instantiate the optimizer and lr scheduler using hyperparameters from config."
      ]
    },
    {
      "cell_type": "code",
      "execution_count": 11,
      "metadata": {},
      "outputs": [
        {
          "name": "stdout",
          "output_type": "stream",
          "text": [
            "MLPDiffusion(\n",
            "  (proj): Linear(in_features=96, out_features=1024, bias=True)\n",
            "  (mlp): Sequential(\n",
            "    (0): Linear(in_features=1024, out_features=2048, bias=True)\n",
            "    (1): SiLU()\n",
            "    (2): Linear(in_features=2048, out_features=2048, bias=True)\n",
            "    (3): SiLU()\n",
            "    (4): Linear(in_features=2048, out_features=1024, bias=True)\n",
            "    (5): SiLU()\n",
            "    (6): Linear(in_features=1024, out_features=96, bias=True)\n",
            "  )\n",
            "  (map_noise): PositionalEmbedding()\n",
            "  (time_embed): Sequential(\n",
            "    (0): Linear(in_features=1024, out_features=1024, bias=True)\n",
            "    (1): SiLU()\n",
            "    (2): Linear(in_features=1024, out_features=1024, bias=True)\n",
            "  )\n",
            ")\n",
            "The number of parameters: 10690656\n",
            "Successfully instantiated diffusion model.\n"
          ]
        }
      ],
      "source": [
        "# instantiate diffusion model for training\n",
        "tabsyn.instantiate_diffusion(\n",
        "    in_dim=train_z.shape[1],\n",
        "    hid_dim=train_z.shape[1],\n",
        "    optim_params=raw_config[\"train\"][\"optim\"][\"diffusion\"],\n",
        ")"
      ]
    },
    {
      "cell_type": "markdown",
      "metadata": {},
      "source": [
        "We train the diffusion model with `train_diffusion` function.\n",
        "This function takes the following arguements:\n",
        "1. `latent_train_loader`: dataloader for the latent representations which are used to train the diffusion model.\n",
        "2. `num_epochs`: number of training epochs.\n",
        "3. `ckpt_path`: directory where the model checkpoints will be stored."
      ]
    },
    {
      "cell_type": "code",
      "execution_count": 87,
      "metadata": {},
      "outputs": [
        {
          "name": "stderr",
          "output_type": "stream",
          "text": [
            "Epoch 1/9: 100%|\u2588\u2588\u2588\u2588\u2588\u2588\u2588\u2588\u2588\u2588| 3/3 [00:00<00:00,  4.81it/s, Loss=2.03]\n",
            "Epoch 2/9: 100%|\u2588\u2588\u2588\u2588\u2588\u2588\u2588\u2588\u2588\u2588| 3/3 [00:00<00:00,  5.66it/s, Loss=1.73]\n",
            "Epoch 3/9: 100%|\u2588\u2588\u2588\u2588\u2588\u2588\u2588\u2588\u2588\u2588| 3/3 [00:00<00:00,  5.37it/s, Loss=1.57]\n",
            "Epoch 4/9: 100%|\u2588\u2588\u2588\u2588\u2588\u2588\u2588\u2588\u2588\u2588| 3/3 [00:00<00:00,  5.68it/s, Loss=1.46]\n",
            "Epoch 5/9: 100%|\u2588\u2588\u2588\u2588\u2588\u2588\u2588\u2588\u2588\u2588| 3/3 [00:00<00:00,  5.47it/s, Loss=1.36]\n",
            "Epoch 6/9: 100%|\u2588\u2588\u2588\u2588\u2588\u2588\u2588\u2588\u2588\u2588| 3/3 [00:00<00:00,  5.58it/s, Loss=1.26]\n",
            "Epoch 7/9: 100%|\u2588\u2588\u2588\u2588\u2588\u2588\u2588\u2588\u2588\u2588| 3/3 [00:00<00:00,  5.65it/s, Loss=1.2] \n",
            "Epoch 8/9: 100%|\u2588\u2588\u2588\u2588\u2588\u2588\u2588\u2588\u2588\u2588| 3/3 [00:00<00:00,  5.62it/s, Loss=1.19]\n",
            "Epoch 9/9: 100%|\u2588\u2588\u2588\u2588\u2588\u2588\u2588\u2588\u2588\u2588| 3/3 [00:00<00:00,  5.53it/s, Loss=1.14]\n"
          ]
        },
        {
          "name": "stdout",
          "output_type": "stream",
          "text": [
            "Time:  5.782466650009155\n"
          ]
        }
      ],
      "source": [
        "os.makedirs(f\"{MODEL_PATH}/{DATA_NAME}\")\n",
        "# train diffusion model\n",
        "tabsyn.train_diffusion(\n",
        "    latent_train_loader,\n",
        "    num_epochs=raw_config[\"train\"][\"diffusion\"][\"num_epochs\"],\n",
        "    ckpt_path=os.path.join(MODEL_PATH, DATA_NAME),\n",
        ")"
      ]
    },
    {
      "cell_type": "markdown",
      "metadata": {},
      "source": [
        "## Load Pretrained Model"
      ]
    },
    {
      "cell_type": "markdown",
      "metadata": {},
      "source": [
        "Instead of training model from scratch, we can also load weights of a pre-trained model from a given checkpoint with `load_model_state` function.\n",
        "If we haven't instantiated the VAE and diffusion model beforehand, we need to instantiate them first using `instantiate_vae` and `instantiate_diffusion` methods."
      ]
    },
    {
      "cell_type": "code",
      "execution_count": 11,
      "metadata": {},
      "outputs": [
        {
          "name": "stdout",
          "output_type": "stream",
          "text": [
            "Successfully instantiated VAE model.\n",
            "MLPDiffusion(\n",
            "  (proj): Linear(in_features=96, out_features=1024, bias=True)\n",
            "  (mlp): Sequential(\n",
            "    (0): Linear(in_features=1024, out_features=2048, bias=True)\n",
            "    (1): SiLU()\n",
            "    (2): Linear(in_features=2048, out_features=2048, bias=True)\n",
            "    (3): SiLU()\n",
            "    (4): Linear(in_features=2048, out_features=1024, bias=True)\n",
            "    (5): SiLU()\n",
            "    (6): Linear(in_features=1024, out_features=96, bias=True)\n",
            "  )\n",
            "  (map_noise): PositionalEmbedding()\n",
            "  (time_embed): Sequential(\n",
            "    (0): Linear(in_features=1024, out_features=1024, bias=True)\n",
            "    (1): SiLU()\n",
            "    (2): Linear(in_features=1024, out_features=1024, bias=True)\n",
            "  )\n",
            ")\n",
            "The number of parameters: 10690656\n",
            "Successfully instantiated diffusion model.\n",
            "Loaded model state from /projects/diffusion_bootcamp/models/tabular/tabsyn/default_2\n"
          ]
        }
      ],
      "source": [
        "# instantiate VAE model\n",
        "tabsyn.instantiate_vae(**raw_config[\"model_params\"], optim_params=None)\n",
        "\n",
        "latent_embeddings_path = (\n",
        "    \"/projects/diffusion_bootcamp/models/tabular/tabsyn/default/vae\"\n",
        ")\n",
        "# load latent embeddings of input data\n",
        "train_z, token_dim = tabsyn.load_latent_embeddings(latent_embeddings_path)\n",
        "\n",
        "# instantiate diffusion model\n",
        "tabsyn.instantiate_diffusion(\n",
        "    in_dim=train_z.shape[1], hid_dim=train_z.shape[1], optim_params=None\n",
        ")\n",
        "\n",
        "pretrained_model_path = \"/projects/diffusion_bootcamp/models/tabular/tabsyn/default\"\n",
        "# load state from checkpoint\n",
        "tabsyn.load_model_state(ckpt_dir=pretrained_model_path, dif_ckpt_name=\"model.pt\")"
      ]
    },
    {
      "cell_type": "markdown",
      "metadata": {},
      "source": [
        "## Sample Data"
      ]
    },
    {
      "cell_type": "markdown",
      "metadata": {},
      "source": [
        "Now that we trained the model effectively, using `sample` function we can generate synthetic data starting from compelete noise. The input of this function is as follows:\n",
        "\n",
        "1. `train_z`: latent embeddings of the training data.\n",
        "2. `info`: info about the data from the json file we reviewed at the beginning of this notebook.\n",
        "3. `num_inverse`: detokenizer for numerical features.\n",
        "4. `cat_inverse`: detokenizer for categorical features.\n",
        "5. `save_path`: file-path where the synthetic table will be saved."
      ]
    },
    {
      "cell_type": "code",
      "execution_count": 12,
      "metadata": {},
      "outputs": [
        {
          "name": "stdout",
          "output_type": "stream",
          "text": [
            "No NaNs in numerical features, skipping\n",
            "(27000, 10)\n",
            "Time: 13.619803667068481\n",
            "Saving sampled data to data/synthetic_data/default/tabsyn.csv\n"
          ]
        }
      ],
      "source": [
        "# load data info file\n",
        "with open(os.path.join(PROCESSED_DATA_DIR, DATA_NAME, \"info.json\"), \"r\") as file:\n",
        "    data_info = json.load(file)\n",
        "data_info[\"token_dim\"] = token_dim\n",
        "\n",
        "# get inverse tokenizers\n",
        "_, _, categories, d_numerical, num_inverse, cat_inverse = preprocess(\n",
        "    os.path.join(PROCESSED_DATA_DIR, DATA_NAME),\n",
        "    transforms=raw_config[\"transforms\"],\n",
        "    task_type=raw_config[\"task_type\"],\n",
        "    inverse=True,\n",
        ")\n",
        "\n",
        "# sample data\n",
        "num_samples = train_z.shape[0]\n",
        "in_dim = train_z.shape[1]\n",
        "mean_input_emb = train_z.mean(0)\n",
        "tabsyn.sample(\n",
        "    num_samples,\n",
        "    in_dim,\n",
        "    mean_input_emb,\n",
        "    info=data_info,\n",
        "    num_inverse=num_inverse,\n",
        "    cat_inverse=cat_inverse,\n",
        "    save_path=os.path.join(SYNTH_DATA_DIR, DATA_NAME, \"tabsyn.csv\"),\n",
        ")"
      ]
    },
    {
      "cell_type": "markdown",
      "metadata": {},
      "source": [
        "## Review Synthetic Data"
      ]
    },
    {
      "cell_type": "markdown",
      "metadata": {},
      "source": [
        "Finally here, we review the synthesized data. In the following `evaluate_synthetic_data.ipynb` notebook, we will evaluate this synthesized data with respect to various metrics."
      ]
    },
    {
      "cell_type": "code",
      "execution_count": 4,
      "metadata": {},
      "outputs": [
        {
          "data": {
            "text/html": [
              "<div>\n",
              "<style scoped>\n",
              "    .dataframe tbody tr th:only-of-type {\n",
              "        vertical-align: middle;\n",
              "    }\n",
              "\n",
              "    .dataframe tbody tr th {\n",
              "        vertical-align: top;\n",
              "    }\n",
              "\n",
              "    .dataframe thead th {\n",
              "        text-align: right;\n",
              "    }\n",
              "</style>\n",
              "<table border=\"1\" class=\"dataframe\">\n",
              "  <thead>\n",
              "    <tr style=\"text-align: right;\">\n",
              "      <th></th>\n",
              "      <th>LIMIT_BAL</th>\n",
              "      <th>SEX</th>\n",
              "      <th>EDUCATION</th>\n",
              "      <th>MARRIAGE</th>\n",
              "      <th>AGE</th>\n",
              "      <th>PAY_0</th>\n",
              "      <th>PAY_2</th>\n",
              "      <th>PAY_3</th>\n",
              "      <th>PAY_4</th>\n",
              "      <th>PAY_5</th>\n",
              "      <th>...</th>\n",
              "      <th>BILL_AMT4</th>\n",
              "      <th>BILL_AMT5</th>\n",
              "      <th>BILL_AMT6</th>\n",
              "      <th>PAY_AMT1</th>\n",
              "      <th>PAY_AMT2</th>\n",
              "      <th>PAY_AMT3</th>\n",
              "      <th>PAY_AMT4</th>\n",
              "      <th>PAY_AMT5</th>\n",
              "      <th>PAY_AMT6</th>\n",
              "      <th>default payment next month</th>\n",
              "    </tr>\n",
              "  </thead>\n",
              "  <tbody>\n",
              "    <tr>\n",
              "      <th>0</th>\n",
              "      <td>70000.0</td>\n",
              "      <td>female</td>\n",
              "      <td>university</td>\n",
              "      <td>married</td>\n",
              "      <td>46.0</td>\n",
              "      <td>payment delay for two months</td>\n",
              "      <td>unknown</td>\n",
              "      <td>unknown</td>\n",
              "      <td>unknown</td>\n",
              "      <td>unknown</td>\n",
              "      <td>...</td>\n",
              "      <td>0.0000</td>\n",
              "      <td>0.0000</td>\n",
              "      <td>426.36752</td>\n",
              "      <td>0.00000</td>\n",
              "      <td>0.0000</td>\n",
              "      <td>0.00000</td>\n",
              "      <td>0.00000</td>\n",
              "      <td>390.00000</td>\n",
              "      <td>0.00000</td>\n",
              "      <td>1</td>\n",
              "    </tr>\n",
              "    <tr>\n",
              "      <th>1</th>\n",
              "      <td>500000.0</td>\n",
              "      <td>female</td>\n",
              "      <td>university</td>\n",
              "      <td>married</td>\n",
              "      <td>42.0</td>\n",
              "      <td>payment delay for one month</td>\n",
              "      <td>payment delay for one month</td>\n",
              "      <td>payment delay for one month</td>\n",
              "      <td>payment delay for one month</td>\n",
              "      <td>payment delay for one month</td>\n",
              "      <td>...</td>\n",
              "      <td>38604.0400</td>\n",
              "      <td>29854.2970</td>\n",
              "      <td>8425.42000</td>\n",
              "      <td>8114.09130</td>\n",
              "      <td>3335.9043</td>\n",
              "      <td>1719.04970</td>\n",
              "      <td>1198.85100</td>\n",
              "      <td>1955.60230</td>\n",
              "      <td>3629.17190</td>\n",
              "      <td>0</td>\n",
              "    </tr>\n",
              "    <tr>\n",
              "      <th>2</th>\n",
              "      <td>50000.0</td>\n",
              "      <td>female</td>\n",
              "      <td>high school</td>\n",
              "      <td>married</td>\n",
              "      <td>23.0</td>\n",
              "      <td>payment delay for one month</td>\n",
              "      <td>payment delay for one month</td>\n",
              "      <td>payment delay for one month</td>\n",
              "      <td>payment delay for one month</td>\n",
              "      <td>payment delay for one month</td>\n",
              "      <td>...</td>\n",
              "      <td>10154.2210</td>\n",
              "      <td>11260.9220</td>\n",
              "      <td>10000.80800</td>\n",
              "      <td>1198.67710</td>\n",
              "      <td>1400.0000</td>\n",
              "      <td>998.12720</td>\n",
              "      <td>733.49927</td>\n",
              "      <td>0.00000</td>\n",
              "      <td>357.53696</td>\n",
              "      <td>0</td>\n",
              "    </tr>\n",
              "    <tr>\n",
              "      <th>3</th>\n",
              "      <td>240000.0</td>\n",
              "      <td>female</td>\n",
              "      <td>high school</td>\n",
              "      <td>married</td>\n",
              "      <td>53.0</td>\n",
              "      <td>payment delay for four months</td>\n",
              "      <td>payment delay for three months</td>\n",
              "      <td>payment delay for one month</td>\n",
              "      <td>payment delay for one month</td>\n",
              "      <td>payment delay for one month</td>\n",
              "      <td>...</td>\n",
              "      <td>178097.2800</td>\n",
              "      <td>167049.8800</td>\n",
              "      <td>171107.90000</td>\n",
              "      <td>0.00000</td>\n",
              "      <td>14097.7300</td>\n",
              "      <td>8849.46100</td>\n",
              "      <td>6000.00000</td>\n",
              "      <td>6702.95400</td>\n",
              "      <td>10032.20900</td>\n",
              "      <td>0</td>\n",
              "    </tr>\n",
              "    <tr>\n",
              "      <th>4</th>\n",
              "      <td>120000.0</td>\n",
              "      <td>male</td>\n",
              "      <td>university</td>\n",
              "      <td>married</td>\n",
              "      <td>32.0</td>\n",
              "      <td>payment delay for one month</td>\n",
              "      <td>payment delay for one month</td>\n",
              "      <td>payment delay for one month</td>\n",
              "      <td>payment delay for one month</td>\n",
              "      <td>payment delay for one month</td>\n",
              "      <td>...</td>\n",
              "      <td>81177.9600</td>\n",
              "      <td>76788.4300</td>\n",
              "      <td>79741.32000</td>\n",
              "      <td>3098.13750</td>\n",
              "      <td>4879.0130</td>\n",
              "      <td>4000.00000</td>\n",
              "      <td>3470.72490</td>\n",
              "      <td>5000.00000</td>\n",
              "      <td>2761.03880</td>\n",
              "      <td>0</td>\n",
              "    </tr>\n",
              "    <tr>\n",
              "      <th>5</th>\n",
              "      <td>210000.0</td>\n",
              "      <td>male</td>\n",
              "      <td>university</td>\n",
              "      <td>single</td>\n",
              "      <td>27.0</td>\n",
              "      <td>payment delay for one month</td>\n",
              "      <td>payment delay for one month</td>\n",
              "      <td>payment delay for one month</td>\n",
              "      <td>payment delay for one month</td>\n",
              "      <td>payment delay for one month</td>\n",
              "      <td>...</td>\n",
              "      <td>17803.7900</td>\n",
              "      <td>18270.0660</td>\n",
              "      <td>8776.32100</td>\n",
              "      <td>1607.79960</td>\n",
              "      <td>1592.6553</td>\n",
              "      <td>397.29932</td>\n",
              "      <td>1031.17900</td>\n",
              "      <td>645.88776</td>\n",
              "      <td>599.63580</td>\n",
              "      <td>0</td>\n",
              "    </tr>\n",
              "    <tr>\n",
              "      <th>6</th>\n",
              "      <td>130000.0</td>\n",
              "      <td>female</td>\n",
              "      <td>graduate school</td>\n",
              "      <td>single</td>\n",
              "      <td>28.0</td>\n",
              "      <td>payment delay for two months</td>\n",
              "      <td>payment delay for three months</td>\n",
              "      <td>payment delay for one month</td>\n",
              "      <td>payment delay for one month</td>\n",
              "      <td>payment delay for one month</td>\n",
              "      <td>...</td>\n",
              "      <td>4084.5452</td>\n",
              "      <td>1196.6735</td>\n",
              "      <td>0.00000</td>\n",
              "      <td>406.65112</td>\n",
              "      <td>2283.2983</td>\n",
              "      <td>0.00000</td>\n",
              "      <td>0.00000</td>\n",
              "      <td>0.00000</td>\n",
              "      <td>0.00000</td>\n",
              "      <td>1</td>\n",
              "    </tr>\n",
              "    <tr>\n",
              "      <th>7</th>\n",
              "      <td>240000.0</td>\n",
              "      <td>female</td>\n",
              "      <td>graduate school</td>\n",
              "      <td>single</td>\n",
              "      <td>27.0</td>\n",
              "      <td>payment delay for one month</td>\n",
              "      <td>payment delay for one month</td>\n",
              "      <td>payment delay for one month</td>\n",
              "      <td>unknown</td>\n",
              "      <td>unknown</td>\n",
              "      <td>...</td>\n",
              "      <td>0.0000</td>\n",
              "      <td>0.0000</td>\n",
              "      <td>0.00000</td>\n",
              "      <td>393.83884</td>\n",
              "      <td>0.0000</td>\n",
              "      <td>0.00000</td>\n",
              "      <td>0.00000</td>\n",
              "      <td>0.00000</td>\n",
              "      <td>0.00000</td>\n",
              "      <td>0</td>\n",
              "    </tr>\n",
              "    <tr>\n",
              "      <th>8</th>\n",
              "      <td>250000.0</td>\n",
              "      <td>female</td>\n",
              "      <td>high school</td>\n",
              "      <td>single</td>\n",
              "      <td>29.0</td>\n",
              "      <td>payment delay for one month</td>\n",
              "      <td>payment delay for one month</td>\n",
              "      <td>payment delay for one month</td>\n",
              "      <td>payment delay for one month</td>\n",
              "      <td>payment delay for one month</td>\n",
              "      <td>...</td>\n",
              "      <td>160703.2700</td>\n",
              "      <td>257110.9700</td>\n",
              "      <td>154884.60000</td>\n",
              "      <td>132673.27000</td>\n",
              "      <td>30015.8710</td>\n",
              "      <td>11078.56100</td>\n",
              "      <td>108035.09000</td>\n",
              "      <td>6004.35200</td>\n",
              "      <td>5054.99500</td>\n",
              "      <td>0</td>\n",
              "    </tr>\n",
              "    <tr>\n",
              "      <th>9</th>\n",
              "      <td>70000.0</td>\n",
              "      <td>female</td>\n",
              "      <td>university</td>\n",
              "      <td>married</td>\n",
              "      <td>47.0</td>\n",
              "      <td>payment delay for two months</td>\n",
              "      <td>payment delay for three months</td>\n",
              "      <td>payment delay for one month</td>\n",
              "      <td>payment delay for one month</td>\n",
              "      <td>payment delay for one month</td>\n",
              "      <td>...</td>\n",
              "      <td>70747.6000</td>\n",
              "      <td>29295.8930</td>\n",
              "      <td>29157.73000</td>\n",
              "      <td>0.00000</td>\n",
              "      <td>3000.0000</td>\n",
              "      <td>3000.00000</td>\n",
              "      <td>1018.06110</td>\n",
              "      <td>1000.00000</td>\n",
              "      <td>1500.00000</td>\n",
              "      <td>0</td>\n",
              "    </tr>\n",
              "  </tbody>\n",
              "</table>\n",
              "<p>10 rows \u00d7 24 columns</p>\n",
              "</div>"
            ],
            "text/plain": [
              "   LIMIT_BAL     SEX        EDUCATION MARRIAGE   AGE  \\\n",
              "0    70000.0  female       university  married  46.0   \n",
              "1   500000.0  female       university  married  42.0   \n",
              "2    50000.0  female      high school  married  23.0   \n",
              "3   240000.0  female      high school  married  53.0   \n",
              "4   120000.0    male       university  married  32.0   \n",
              "5   210000.0    male       university   single  27.0   \n",
              "6   130000.0  female  graduate school   single  28.0   \n",
              "7   240000.0  female  graduate school   single  27.0   \n",
              "8   250000.0  female      high school   single  29.0   \n",
              "9    70000.0  female       university  married  47.0   \n",
              "\n",
              "                           PAY_0                           PAY_2  \\\n",
              "0   payment delay for two months                         unknown   \n",
              "1    payment delay for one month     payment delay for one month   \n",
              "2    payment delay for one month     payment delay for one month   \n",
              "3  payment delay for four months  payment delay for three months   \n",
              "4    payment delay for one month     payment delay for one month   \n",
              "5    payment delay for one month     payment delay for one month   \n",
              "6   payment delay for two months  payment delay for three months   \n",
              "7    payment delay for one month     payment delay for one month   \n",
              "8    payment delay for one month     payment delay for one month   \n",
              "9   payment delay for two months  payment delay for three months   \n",
              "\n",
              "                         PAY_3                        PAY_4  \\\n",
              "0                      unknown                      unknown   \n",
              "1  payment delay for one month  payment delay for one month   \n",
              "2  payment delay for one month  payment delay for one month   \n",
              "3  payment delay for one month  payment delay for one month   \n",
              "4  payment delay for one month  payment delay for one month   \n",
              "5  payment delay for one month  payment delay for one month   \n",
              "6  payment delay for one month  payment delay for one month   \n",
              "7  payment delay for one month                      unknown   \n",
              "8  payment delay for one month  payment delay for one month   \n",
              "9  payment delay for one month  payment delay for one month   \n",
              "\n",
              "                         PAY_5  ...    BILL_AMT4    BILL_AMT5     BILL_AMT6  \\\n",
              "0                      unknown  ...       0.0000       0.0000     426.36752   \n",
              "1  payment delay for one month  ...   38604.0400   29854.2970    8425.42000   \n",
              "2  payment delay for one month  ...   10154.2210   11260.9220   10000.80800   \n",
              "3  payment delay for one month  ...  178097.2800  167049.8800  171107.90000   \n",
              "4  payment delay for one month  ...   81177.9600   76788.4300   79741.32000   \n",
              "5  payment delay for one month  ...   17803.7900   18270.0660    8776.32100   \n",
              "6  payment delay for one month  ...    4084.5452    1196.6735       0.00000   \n",
              "7                      unknown  ...       0.0000       0.0000       0.00000   \n",
              "8  payment delay for one month  ...  160703.2700  257110.9700  154884.60000   \n",
              "9  payment delay for one month  ...   70747.6000   29295.8930   29157.73000   \n",
              "\n",
              "       PAY_AMT1    PAY_AMT2     PAY_AMT3      PAY_AMT4    PAY_AMT5  \\\n",
              "0       0.00000      0.0000      0.00000       0.00000   390.00000   \n",
              "1    8114.09130   3335.9043   1719.04970    1198.85100  1955.60230   \n",
              "2    1198.67710   1400.0000    998.12720     733.49927     0.00000   \n",
              "3       0.00000  14097.7300   8849.46100    6000.00000  6702.95400   \n",
              "4    3098.13750   4879.0130   4000.00000    3470.72490  5000.00000   \n",
              "5    1607.79960   1592.6553    397.29932    1031.17900   645.88776   \n",
              "6     406.65112   2283.2983      0.00000       0.00000     0.00000   \n",
              "7     393.83884      0.0000      0.00000       0.00000     0.00000   \n",
              "8  132673.27000  30015.8710  11078.56100  108035.09000  6004.35200   \n",
              "9       0.00000   3000.0000   3000.00000    1018.06110  1000.00000   \n",
              "\n",
              "      PAY_AMT6  default payment next month  \n",
              "0      0.00000                           1  \n",
              "1   3629.17190                           0  \n",
              "2    357.53696                           0  \n",
              "3  10032.20900                           0  \n",
              "4   2761.03880                           0  \n",
              "5    599.63580                           0  \n",
              "6      0.00000                           1  \n",
              "7      0.00000                           0  \n",
              "8   5054.99500                           0  \n",
              "9   1500.00000                           0  \n",
              "\n",
              "[10 rows x 24 columns]"
            ]
          },
          "execution_count": 4,
          "metadata": {},
          "output_type": "execute_result"
        }
      ],
      "source": [
        "df = pd.read_csv(os.path.join(SYNTH_DATA_DIR, DATA_NAME, \"tabsyn.csv\"))\n",
        "\n",
        "# Display the first few rows of the DataFrame\n",
        "visualize_default(df).head(10)"
      ]
    },
    {
      "cell_type": "markdown",
      "metadata": {},
      "source": [
        "## References"
      ]
    },
    {
      "cell_type": "markdown",
      "metadata": {},
      "source": [
        "**Zhang, Hengrui, et al.** \"Mixed-type tabular data synthesis with score-based diffusion in latent space.\" *International Conference on Learning Representations (ICLR)* (2023).\n",
        "\n",
        "**GitHub Repository:** [Amazon Science - Tabsyn](https://github.com/amazon-science/tabsyn)"
      ]
    }
  ],
  "metadata": {
    "kernelspec": {
      "display_name": "diffusion_models_show",
      "language": "python",
      "name": "diffusion_models_show"
    },
    "language_info": {
      "codemirror_mode": {
        "name": "ipython",
        "version": 3
      },
      "file_extension": ".py",
      "mimetype": "text/x-python",
      "name": "python",
      "nbconvert_exporter": "python",
      "pygments_lexer": "ipython3",
      "version": "3.9.12"
    }
  },
  "nbformat": 4,
  "nbformat_minor": 2
}
